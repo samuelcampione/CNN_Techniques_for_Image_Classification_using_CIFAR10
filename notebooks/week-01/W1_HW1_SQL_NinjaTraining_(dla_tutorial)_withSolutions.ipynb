{
  "cells": [
    {
      "cell_type": "markdown",
      "metadata": {
        "id": "view-in-github",
        "colab_type": "text"
      },
      "source": [
        "<a href=\"https://colab.research.google.com/github/samuelcampione/CNN_Techniques_for_Image_Classification_using_CIFAR10/blob/main/notebooks/week-01/W1_HW1_SQL_NinjaTraining_(dla_tutorial)_withSolutions.ipynb\" target=\"_parent\"><img src=\"https://colab.research.google.com/assets/colab-badge.svg\" alt=\"Open In Colab\"/></a>"
      ]
    },
    {
      "cell_type": "markdown",
      "metadata": {
        "id": "HPz5L6BOR3uX"
      },
      "source": [
        "# W1 Homework 1: SQL fundamentals, outcome and message tables (2023-01)\n",
        "\n",
        "(c) Johannes Eichstaedt & the World Well-Being Project, 2023."
      ]
    },
    {
      "cell_type": "markdown",
      "source": [
        "## Setup Colab\n",
        "\n",
        "As discussed in the tutorials, we begin by setting up the Colab environment. The next couple of subsections do this for you."
      ],
      "metadata": {
        "id": "3dmRJoCleD4_"
      }
    },
    {
      "cell_type": "markdown",
      "source": [
        "### Install packages and download data"
      ],
      "metadata": {
        "id": "h_bdneOWet61"
      }
    },
    {
      "cell_type": "markdown",
      "source": [
        "We first install the necessary packages and then download the dataset."
      ],
      "metadata": {
        "id": "50Dfr38epcBc"
      }
    },
    {
      "cell_type": "code",
      "source": [
        "# installing DLATK and necessary packages\n",
        "!git clone -b psych290 https://github.com/dlatk/dlatk.git\n",
        "!pip install dlatk/\n",
        "!pip install jupysql\n",
        "\n",
        "!git clone https://github.com/CompPsychology/psych290_data.git"
      ],
      "metadata": {
        "id": "BBOLv6P-0cIf",
        "outputId": "b70a5f34-d0e1-4c1a-a47f-83a6522ad4ba",
        "colab": {
          "base_uri": "https://localhost:8080/"
        }
      },
      "execution_count": null,
      "outputs": [
        {
          "output_type": "stream",
          "name": "stdout",
          "text": [
            "fatal: destination path 'dlatk' already exists and is not an empty directory.\n",
            "Processing ./dlatk\n",
            "  Preparing metadata (setup.py) ... \u001b[?25l\u001b[?25hdone\n",
            "Requirement already satisfied: nltk<=3.9.1,>=3.1 in /usr/local/lib/python3.11/dist-packages (from dlatk==1.3.1) (3.9.1)\n",
            "Requirement already satisfied: numpy<=2.0.2 in /usr/local/lib/python3.11/dist-packages (from dlatk==1.3.1) (2.0.2)\n",
            "Requirement already satisfied: pandas<=2.2.2,>=0.17.1 in /usr/local/lib/python3.11/dist-packages (from dlatk==1.3.1) (2.2.2)\n",
            "Requirement already satisfied: patsy<=1.0.1,>=0.2.1 in /usr/local/lib/python3.11/dist-packages (from dlatk==1.3.1) (1.0.1)\n",
            "Requirement already satisfied: python-dateutil<=2.8.2,>=2.5.0 in /usr/local/lib/python3.11/dist-packages (from dlatk==1.3.1) (2.8.2)\n",
            "Requirement already satisfied: scikit-learn<=1.6.1 in /usr/local/lib/python3.11/dist-packages (from dlatk==1.3.1) (1.6.1)\n",
            "Requirement already satisfied: scipy<=1.14.1,>=0.13.3 in /usr/local/lib/python3.11/dist-packages (from dlatk==1.3.1) (1.14.1)\n",
            "Requirement already satisfied: statsmodels<=0.14.4,>=0.5.0 in /usr/local/lib/python3.11/dist-packages (from dlatk==1.3.1) (0.14.4)\n",
            "Requirement already satisfied: click in /usr/local/lib/python3.11/dist-packages (from nltk<=3.9.1,>=3.1->dlatk==1.3.1) (8.1.8)\n",
            "Requirement already satisfied: joblib in /usr/local/lib/python3.11/dist-packages (from nltk<=3.9.1,>=3.1->dlatk==1.3.1) (1.4.2)\n",
            "Requirement already satisfied: regex>=2021.8.3 in /usr/local/lib/python3.11/dist-packages (from nltk<=3.9.1,>=3.1->dlatk==1.3.1) (2024.11.6)\n",
            "Requirement already satisfied: tqdm in /usr/local/lib/python3.11/dist-packages (from nltk<=3.9.1,>=3.1->dlatk==1.3.1) (4.67.1)\n",
            "Requirement already satisfied: pytz>=2020.1 in /usr/local/lib/python3.11/dist-packages (from pandas<=2.2.2,>=0.17.1->dlatk==1.3.1) (2025.1)\n",
            "Requirement already satisfied: tzdata>=2022.7 in /usr/local/lib/python3.11/dist-packages (from pandas<=2.2.2,>=0.17.1->dlatk==1.3.1) (2025.1)\n",
            "Requirement already satisfied: six>=1.5 in /usr/local/lib/python3.11/dist-packages (from python-dateutil<=2.8.2,>=2.5.0->dlatk==1.3.1) (1.17.0)\n",
            "Requirement already satisfied: threadpoolctl>=3.1.0 in /usr/local/lib/python3.11/dist-packages (from scikit-learn<=1.6.1->dlatk==1.3.1) (3.6.0)\n",
            "Requirement already satisfied: packaging>=21.3 in /usr/local/lib/python3.11/dist-packages (from statsmodels<=0.14.4,>=0.5.0->dlatk==1.3.1) (24.2)\n",
            "Building wheels for collected packages: dlatk\n",
            "  Building wheel for dlatk (setup.py) ... \u001b[?25l\u001b[?25hdone\n",
            "  Created wheel for dlatk: filename=dlatk-1.3.1-py3-none-any.whl size=35635831 sha256=f9707263aede4212d3a33605b4c0d98358c0b7220bad2a5ec613580afbf9340d\n",
            "  Stored in directory: /tmp/pip-ephem-wheel-cache-m2dvtssy/wheels/cc/c9/65/e1ecc64bac68518c07b286fe86921aa938e11a0c3a87d8ff93\n",
            "Successfully built dlatk\n",
            "Installing collected packages: dlatk\n",
            "  Attempting uninstall: dlatk\n",
            "    Found existing installation: dlatk 1.3.1\n",
            "    Uninstalling dlatk-1.3.1:\n",
            "      Successfully uninstalled dlatk-1.3.1\n",
            "Successfully installed dlatk-1.3.1\n",
            "Requirement already satisfied: jupysql in /usr/local/lib/python3.11/dist-packages (0.11.1)\n",
            "Requirement already satisfied: prettytable>=3.12.0 in /usr/local/lib/python3.11/dist-packages (from jupysql) (3.15.1)\n",
            "Requirement already satisfied: sqlalchemy in /usr/local/lib/python3.11/dist-packages (from jupysql) (2.0.39)\n",
            "Requirement already satisfied: sqlparse in /usr/local/lib/python3.11/dist-packages (from jupysql) (0.5.3)\n",
            "Requirement already satisfied: ipython-genutils>=0.1.0 in /usr/local/lib/python3.11/dist-packages (from jupysql) (0.2.0)\n",
            "Requirement already satisfied: jinja2 in /usr/local/lib/python3.11/dist-packages (from jupysql) (3.1.6)\n",
            "Requirement already satisfied: sqlglot>=11.3.7 in /usr/local/lib/python3.11/dist-packages (from jupysql) (25.20.2)\n",
            "Requirement already satisfied: jupysql-plugin>=0.4.2 in /usr/local/lib/python3.11/dist-packages (from jupysql) (0.4.5)\n",
            "Requirement already satisfied: ploomber-core>=0.2.7 in /usr/local/lib/python3.11/dist-packages (from jupysql) (0.2.26)\n",
            "Requirement already satisfied: pyyaml in /usr/local/lib/python3.11/dist-packages (from ploomber-core>=0.2.7->jupysql) (6.0.2)\n",
            "Requirement already satisfied: posthog in /usr/local/lib/python3.11/dist-packages (from ploomber-core>=0.2.7->jupysql) (3.23.0)\n",
            "Requirement already satisfied: wcwidth in /usr/local/lib/python3.11/dist-packages (from prettytable>=3.12.0->jupysql) (0.2.13)\n",
            "Requirement already satisfied: MarkupSafe>=2.0 in /usr/local/lib/python3.11/dist-packages (from jinja2->jupysql) (3.0.2)\n",
            "Requirement already satisfied: greenlet!=0.4.17 in /usr/local/lib/python3.11/dist-packages (from sqlalchemy->jupysql) (3.1.1)\n",
            "Requirement already satisfied: typing-extensions>=4.6.0 in /usr/local/lib/python3.11/dist-packages (from sqlalchemy->jupysql) (4.12.2)\n",
            "Requirement already satisfied: requests<3.0,>=2.7 in /usr/local/lib/python3.11/dist-packages (from posthog->ploomber-core>=0.2.7->jupysql) (2.32.3)\n",
            "Requirement already satisfied: six>=1.5 in /usr/local/lib/python3.11/dist-packages (from posthog->ploomber-core>=0.2.7->jupysql) (1.17.0)\n",
            "Requirement already satisfied: monotonic>=1.5 in /usr/local/lib/python3.11/dist-packages (from posthog->ploomber-core>=0.2.7->jupysql) (1.6)\n",
            "Requirement already satisfied: backoff>=1.10.0 in /usr/local/lib/python3.11/dist-packages (from posthog->ploomber-core>=0.2.7->jupysql) (2.2.1)\n",
            "Requirement already satisfied: python-dateutil>2.1 in /usr/local/lib/python3.11/dist-packages (from posthog->ploomber-core>=0.2.7->jupysql) (2.8.2)\n",
            "Requirement already satisfied: distro>=1.5.0 in /usr/local/lib/python3.11/dist-packages (from posthog->ploomber-core>=0.2.7->jupysql) (1.9.0)\n",
            "Requirement already satisfied: charset-normalizer<4,>=2 in /usr/local/lib/python3.11/dist-packages (from requests<3.0,>=2.7->posthog->ploomber-core>=0.2.7->jupysql) (3.4.1)\n",
            "Requirement already satisfied: idna<4,>=2.5 in /usr/local/lib/python3.11/dist-packages (from requests<3.0,>=2.7->posthog->ploomber-core>=0.2.7->jupysql) (3.10)\n",
            "Requirement already satisfied: urllib3<3,>=1.21.1 in /usr/local/lib/python3.11/dist-packages (from requests<3.0,>=2.7->posthog->ploomber-core>=0.2.7->jupysql) (2.3.0)\n",
            "Requirement already satisfied: certifi>=2017.4.17 in /usr/local/lib/python3.11/dist-packages (from requests<3.0,>=2.7->posthog->ploomber-core>=0.2.7->jupysql) (2025.1.31)\n",
            "Cloning into 'psych290_data'...\n",
            "remote: Enumerating objects: 11, done.\u001b[K\n",
            "remote: Counting objects: 100% (11/11), done.\u001b[K\n",
            "remote: Compressing objects: 100% (9/9), done.\u001b[K\n",
            "remote: Total 11 (delta 0), reused 8 (delta 0), pack-reused 0 (from 0)\u001b[K\n",
            "Receiving objects: 100% (11/11), 13.84 MiB | 17.14 MiB/s, done.\n"
          ]
        }
      ]
    },
    {
      "cell_type": "markdown",
      "source": [
        "### Load data"
      ],
      "metadata": {
        "id": "RoiXZeF8ezYm"
      }
    },
    {
      "cell_type": "markdown",
      "source": [
        "We then create a `username` variable that is required to connect to the database."
      ],
      "metadata": {
        "id": "izGOZr7KpkTq"
      }
    },
    {
      "cell_type": "code",
      "source": [
        "username = \"shashanka\""
      ],
      "metadata": {
        "id": "GeghsdOGdzyw"
      },
      "execution_count": null,
      "outputs": []
    },
    {
      "cell_type": "markdown",
      "source": [
        "We then load the downloaded data into a database named `[username].db` in the `sqlite_data` folder."
      ],
      "metadata": {
        "id": "0FeaD_ry3g_H"
      }
    },
    {
      "cell_type": "code",
      "source": [
        "# this loads the required package -- similar to library() function in R\n",
        "import os\n",
        "from dlatk.tools.importmethods import csvToSQLite\n",
        "\n",
        "# creates stores the complete path to the database -- sqlite_data/[username].db\n",
        "database = os.path.join(\"sqlite_data\", username)\n",
        "\n",
        "# this imports CSVs into tables in this database\n",
        "csvToSQLite(\n",
        "    \"psych290_data/dla_tutorial/msgs.csv\",\n",
        "    database,\n",
        "    \"dla_tutorial_msgs\"\n",
        ")\n",
        "\n",
        "csvToSQLite(\n",
        "    \"psych290_data/dla_tutorial/blog_outcomes.csv\",\n",
        "    database,\n",
        "    \"dla_tutorial_outcomes\"\n",
        ")"
      ],
      "metadata": {
        "id": "rIGSacbpk3Hw",
        "outputId": "5d8347ad-03b9-4f59-e3a9-c9713aba0d8b",
        "colab": {
          "base_uri": "https://localhost:8080/"
        }
      },
      "execution_count": null,
      "outputs": [
        {
          "output_type": "stream",
          "name": "stderr",
          "text": [
            "SQL Query: CREATE TABLE dla_tutorial_msgs (message_id INT, user_id INT, date VARCHAR(31), created_time VARCHAR(31), message LONGTEXT);\n"
          ]
        },
        {
          "output_type": "stream",
          "name": "stdout",
          "text": [
            "Importing data, reading psych290_data/dla_tutorial/msgs.csv file\n",
            "Reading 10000 rows into the table...\n",
            "Reading 10000 rows into the table...\n",
            "Reading 10000 rows into the table...\n",
            "Reading remaining 1674 rows into the table...\n",
            "Importing data, reading psych290_data/dla_tutorial/blog_outcomes.csv file\n",
            "Reading remaining 1000 rows into the table...\n"
          ]
        },
        {
          "output_type": "stream",
          "name": "stderr",
          "text": [
            "SQL Query: CREATE TABLE dla_tutorial_outcomes (user_id INT, gender INT, age INT, occu VARCHAR(31), sign VARCHAR(15), is_indunk INT, is_student VARCHAR(7), is_education VARCHAR(7), is_technology VARCHAR(7));\n"
          ]
        }
      ]
    },
    {
      "cell_type": "markdown",
      "source": [
        "### Setup database connection"
      ],
      "metadata": {
        "id": "2u6O5Zwdewd4"
      }
    },
    {
      "cell_type": "markdown",
      "source": [
        "Finally, we establish a connection with the database."
      ],
      "metadata": {
        "id": "Cm5ROcmCqmxg"
      }
    },
    {
      "cell_type": "code",
      "source": [
        "# loads the %%sql extension\n",
        "%load_ext sql\n",
        "\n",
        "# connects the extension to the database\n",
        "from sqlalchemy import create_engine\n",
        "engine = create_engine(f\"sqlite:///sqlite_data/{username}.db?charset=utf8mb4\")\n",
        "%sql engine"
      ],
      "metadata": {
        "id": "BMB3WwaBeQgT",
        "outputId": "43af5956-0132-4e11-9789-4d4ec18c8ad2",
        "colab": {
          "base_uri": "https://localhost:8080/"
        }
      },
      "execution_count": null,
      "outputs": [
        {
          "output_type": "stream",
          "name": "stdout",
          "text": [
            "The sql extension is already loaded. To reload it, use:\n",
            "  %reload_ext sql\n"
          ]
        }
      ]
    },
    {
      "cell_type": "markdown",
      "metadata": {
        "id": "wCshrHBoR3uY"
      },
      "source": [
        "## Recap"
      ]
    },
    {
      "cell_type": "markdown",
      "metadata": {
        "id": "fVqe65kkR3uY"
      },
      "source": [
        "### List all the tables.\n",
        "\n",
        "After connecting to a specific database, list all the tables inside it using a `%sqlcmd` statement. For a more readable output, you can save the output to a variable and print it."
      ]
    },
    {
      "cell_type": "code",
      "execution_count": null,
      "metadata": {
        "id": "j1-foKEER3uZ",
        "outputId": "40328f85-42bb-4fee-db0f-05a8070565a6",
        "colab": {
          "base_uri": "https://localhost:8080/"
        }
      },
      "outputs": [
        {
          "output_type": "stream",
          "name": "stdout",
          "text": [
            "+-----------------------+\n",
            "|          Name         |\n",
            "+-----------------------+\n",
            "|   dla_tutorial_msgs   |\n",
            "| dla_tutorial_outcomes |\n",
            "+-----------------------+\n"
          ]
        }
      ],
      "source": [
        "result = %sqlcmd tables\n",
        "print(result)"
      ]
    },
    {
      "cell_type": "markdown",
      "metadata": {
        "id": "_XXYLdjQR3uZ"
      },
      "source": [
        "This homework will use both `dla_tutorial_msgs` and `dla_tutorial_outcomes` tables."
      ]
    },
    {
      "cell_type": "markdown",
      "metadata": {
        "id": "Xun_Yn5KR3uZ"
      },
      "source": [
        "### Now, let's view schema of these tables."
      ]
    },
    {
      "cell_type": "markdown",
      "source": [
        "Remember, `PRAGMA` and  `%sqlcmd` are statements that help run meta commands like looking at table details and database properties."
      ],
      "metadata": {
        "id": "Eu4Yp5nkMaKr"
      }
    },
    {
      "cell_type": "code",
      "execution_count": null,
      "metadata": {
        "id": "0a1K6Kb3R3uZ",
        "outputId": "9512cb76-e42a-4c7e-dcd6-6225a58cf9a9",
        "colab": {
          "base_uri": "https://localhost:8080/",
          "height": 165
        }
      },
      "outputs": [
        {
          "output_type": "display_data",
          "data": {
            "text/plain": [
              "Running query in 'sqlite:///sqlite_data/shashanka.db?charset=utf8mb4'"
            ],
            "text/html": [
              "<span style=\"None\">Running query in &#x27;sqlite:///sqlite_data/shashanka.db?charset=utf8mb4&#x27;</span>"
            ]
          },
          "metadata": {}
        },
        {
          "output_type": "execute_result",
          "data": {
            "text/plain": [
              "+-----+--------------+-------------+---------+------------+----+\n",
              "| cid |     name     |     type    | notnull | dflt_value | pk |\n",
              "+-----+--------------+-------------+---------+------------+----+\n",
              "|  0  |  message_id  |     INT     |    0    |    None    | 0  |\n",
              "|  1  |   user_id    |     INT     |    0    |    None    | 0  |\n",
              "|  2  |     date     | VARCHAR(31) |    0    |    None    | 0  |\n",
              "|  3  | created_time | VARCHAR(31) |    0    |    None    | 0  |\n",
              "|  4  |   message    |   LONGTEXT  |    0    |    None    | 0  |\n",
              "+-----+--------------+-------------+---------+------------+----+"
            ],
            "text/html": [
              "<table>\n",
              "    <thead>\n",
              "        <tr>\n",
              "            <th>cid</th>\n",
              "            <th>name</th>\n",
              "            <th>type</th>\n",
              "            <th>notnull</th>\n",
              "            <th>dflt_value</th>\n",
              "            <th>pk</th>\n",
              "        </tr>\n",
              "    </thead>\n",
              "    <tbody>\n",
              "        <tr>\n",
              "            <td>0</td>\n",
              "            <td>message_id</td>\n",
              "            <td>INT</td>\n",
              "            <td>0</td>\n",
              "            <td>None</td>\n",
              "            <td>0</td>\n",
              "        </tr>\n",
              "        <tr>\n",
              "            <td>1</td>\n",
              "            <td>user_id</td>\n",
              "            <td>INT</td>\n",
              "            <td>0</td>\n",
              "            <td>None</td>\n",
              "            <td>0</td>\n",
              "        </tr>\n",
              "        <tr>\n",
              "            <td>2</td>\n",
              "            <td>date</td>\n",
              "            <td>VARCHAR(31)</td>\n",
              "            <td>0</td>\n",
              "            <td>None</td>\n",
              "            <td>0</td>\n",
              "        </tr>\n",
              "        <tr>\n",
              "            <td>3</td>\n",
              "            <td>created_time</td>\n",
              "            <td>VARCHAR(31)</td>\n",
              "            <td>0</td>\n",
              "            <td>None</td>\n",
              "            <td>0</td>\n",
              "        </tr>\n",
              "        <tr>\n",
              "            <td>4</td>\n",
              "            <td>message</td>\n",
              "            <td>LONGTEXT</td>\n",
              "            <td>0</td>\n",
              "            <td>None</td>\n",
              "            <td>0</td>\n",
              "        </tr>\n",
              "    </tbody>\n",
              "</table>"
            ]
          },
          "metadata": {},
          "execution_count": 17
        }
      ],
      "source": [
        "%%sql\n",
        "\n",
        "PRAGMA table_info(dla_tutorial_msgs);"
      ]
    },
    {
      "cell_type": "code",
      "execution_count": null,
      "metadata": {
        "id": "Mxl5rFw5R3uZ",
        "outputId": "98344117-1387-4c71-8224-391be489651b",
        "colab": {
          "base_uri": "https://localhost:8080/",
          "height": 250
        }
      },
      "outputs": [
        {
          "output_type": "display_data",
          "data": {
            "text/plain": [
              "Running query in 'sqlite:///sqlite_data/shashanka.db?charset=utf8mb4'"
            ],
            "text/html": [
              "<span style=\"None\">Running query in &#x27;sqlite:///sqlite_data/shashanka.db?charset=utf8mb4&#x27;</span>"
            ]
          },
          "metadata": {}
        },
        {
          "output_type": "execute_result",
          "data": {
            "text/plain": [
              "+-----+---------------+-------------+---------+------------+----+\n",
              "| cid |      name     |     type    | notnull | dflt_value | pk |\n",
              "+-----+---------------+-------------+---------+------------+----+\n",
              "|  0  |    user_id    |     INT     |    0    |    None    | 0  |\n",
              "|  1  |     gender    |     INT     |    0    |    None    | 0  |\n",
              "|  2  |      age      |     INT     |    0    |    None    | 0  |\n",
              "|  3  |      occu     | VARCHAR(31) |    0    |    None    | 0  |\n",
              "|  4  |      sign     | VARCHAR(15) |    0    |    None    | 0  |\n",
              "|  5  |   is_indunk   |     INT     |    0    |    None    | 0  |\n",
              "|  6  |   is_student  |  VARCHAR(7) |    0    |    None    | 0  |\n",
              "|  7  |  is_education |  VARCHAR(7) |    0    |    None    | 0  |\n",
              "|  8  | is_technology |  VARCHAR(7) |    0    |    None    | 0  |\n",
              "+-----+---------------+-------------+---------+------------+----+"
            ],
            "text/html": [
              "<table>\n",
              "    <thead>\n",
              "        <tr>\n",
              "            <th>cid</th>\n",
              "            <th>name</th>\n",
              "            <th>type</th>\n",
              "            <th>notnull</th>\n",
              "            <th>dflt_value</th>\n",
              "            <th>pk</th>\n",
              "        </tr>\n",
              "    </thead>\n",
              "    <tbody>\n",
              "        <tr>\n",
              "            <td>0</td>\n",
              "            <td>user_id</td>\n",
              "            <td>INT</td>\n",
              "            <td>0</td>\n",
              "            <td>None</td>\n",
              "            <td>0</td>\n",
              "        </tr>\n",
              "        <tr>\n",
              "            <td>1</td>\n",
              "            <td>gender</td>\n",
              "            <td>INT</td>\n",
              "            <td>0</td>\n",
              "            <td>None</td>\n",
              "            <td>0</td>\n",
              "        </tr>\n",
              "        <tr>\n",
              "            <td>2</td>\n",
              "            <td>age</td>\n",
              "            <td>INT</td>\n",
              "            <td>0</td>\n",
              "            <td>None</td>\n",
              "            <td>0</td>\n",
              "        </tr>\n",
              "        <tr>\n",
              "            <td>3</td>\n",
              "            <td>occu</td>\n",
              "            <td>VARCHAR(31)</td>\n",
              "            <td>0</td>\n",
              "            <td>None</td>\n",
              "            <td>0</td>\n",
              "        </tr>\n",
              "        <tr>\n",
              "            <td>4</td>\n",
              "            <td>sign</td>\n",
              "            <td>VARCHAR(15)</td>\n",
              "            <td>0</td>\n",
              "            <td>None</td>\n",
              "            <td>0</td>\n",
              "        </tr>\n",
              "        <tr>\n",
              "            <td>5</td>\n",
              "            <td>is_indunk</td>\n",
              "            <td>INT</td>\n",
              "            <td>0</td>\n",
              "            <td>None</td>\n",
              "            <td>0</td>\n",
              "        </tr>\n",
              "        <tr>\n",
              "            <td>6</td>\n",
              "            <td>is_student</td>\n",
              "            <td>VARCHAR(7)</td>\n",
              "            <td>0</td>\n",
              "            <td>None</td>\n",
              "            <td>0</td>\n",
              "        </tr>\n",
              "        <tr>\n",
              "            <td>7</td>\n",
              "            <td>is_education</td>\n",
              "            <td>VARCHAR(7)</td>\n",
              "            <td>0</td>\n",
              "            <td>None</td>\n",
              "            <td>0</td>\n",
              "        </tr>\n",
              "        <tr>\n",
              "            <td>8</td>\n",
              "            <td>is_technology</td>\n",
              "            <td>VARCHAR(7)</td>\n",
              "            <td>0</td>\n",
              "            <td>None</td>\n",
              "            <td>0</td>\n",
              "        </tr>\n",
              "    </tbody>\n",
              "</table>"
            ]
          },
          "metadata": {},
          "execution_count": 18
        }
      ],
      "source": [
        "%%sql\n",
        "\n",
        "PRAGMA table_info(dla_tutorial_outcomes);"
      ]
    },
    {
      "cell_type": "markdown",
      "metadata": {
        "id": "rPG52YctR3uZ"
      },
      "source": [
        "### They are missing indices. Let's add indices on the main column that connects the table.\n",
        "\n",
        "Since the `user_id` columns have the same name in both the tables, we'll use different names for their respective indices to avoid collision."
      ]
    },
    {
      "cell_type": "code",
      "execution_count": null,
      "metadata": {
        "id": "TY3kUa3QR3uZ",
        "outputId": "86bb0a69-7f7f-4cde-9cb3-42fc6277a8c9",
        "colab": {
          "base_uri": "https://localhost:8080/",
          "height": 34
        }
      },
      "outputs": [
        {
          "output_type": "display_data",
          "data": {
            "text/plain": [
              "Running query in 'sqlite:///sqlite_data/shashanka.db?charset=utf8mb4'"
            ],
            "text/html": [
              "<span style=\"None\">Running query in &#x27;sqlite:///sqlite_data/shashanka.db?charset=utf8mb4&#x27;</span>"
            ]
          },
          "metadata": {}
        },
        {
          "output_type": "execute_result",
          "data": {
            "text/plain": [
              "++\n",
              "||\n",
              "++\n",
              "++"
            ],
            "text/html": [
              "<table>\n",
              "    <thead>\n",
              "        <tr>\n",
              "        </tr>\n",
              "    </thead>\n",
              "    <tbody>\n",
              "    </tbody>\n",
              "</table>"
            ]
          },
          "metadata": {},
          "execution_count": 19
        }
      ],
      "source": [
        "%%sql\n",
        "\n",
        "CREATE INDEX msg_user_id ON dla_tutorial_msgs (user_id);\n",
        "CREATE INDEX message_id ON dla_tutorial_msgs (message_id);\n",
        "\n",
        "CREATE INDEX outcome_user_id ON dla_tutorial_outcomes (user_id);"
      ]
    },
    {
      "cell_type": "markdown",
      "metadata": {
        "id": "-Bo83qkTR3uZ"
      },
      "source": [
        "## Questions"
      ]
    },
    {
      "cell_type": "markdown",
      "metadata": {
        "id": "DMQwpag6R3uZ"
      },
      "source": [
        "### 0) Select 10 random rows from both tables.\n",
        "\n",
        "Look at the output, familiarize yourself with it a little bit. 👀 The messages in the msgs table are blog posts. Skim one."
      ]
    },
    {
      "cell_type": "markdown",
      "metadata": {
        "id": "dmF1FQTaR3ua"
      },
      "source": [
        "**Answer:**"
      ]
    },
    {
      "cell_type": "code",
      "execution_count": null,
      "metadata": {
        "id": "Z2nVoPbkR3ua",
        "outputId": "c1d4cbdb-c7ab-46cb-e04c-494e28f2e545",
        "colab": {
          "base_uri": "https://localhost:8080/",
          "height": 289
        }
      },
      "outputs": [
        {
          "output_type": "display_data",
          "data": {
            "text/plain": [
              "Running query in 'sqlite:///sqlite_data/shashanka.db?charset=utf8mb4'"
            ],
            "text/html": [
              "<span style=\"None\">Running query in &#x27;sqlite:///sqlite_data/shashanka.db?charset=utf8mb4&#x27;</span>"
            ]
          },
          "metadata": {}
        },
        {
          "output_type": "execute_result",
          "data": {
            "text/plain": [
              "+---------+--------+-----+----------------------+-------------+-----------+------------+--------------+---------------+\n",
              "| user_id | gender | age |         occu         |     sign    | is_indunk | is_student | is_education | is_technology |\n",
              "+---------+--------+-----+----------------------+-------------+-----------+------------+--------------+---------------+\n",
              "| 3375539 |   0    |  17 |       Student        |    Aries    |     0     |     1      |      NA      |       NA      |\n",
              "| 4061665 |   0    |  25 |     Advertising      |     Leo     |     0     |     0      |      NA      |       NA      |\n",
              "| 1987893 |   1    |  38 |        indUnk        |  Capricorn  |     1     |     NA     |      NA      |       NA      |\n",
              "| 3551359 |   0    |  23 | Communications-Media |    Cancer   |     0     |     0      |      NA      |       NA      |\n",
              "| 3431501 |   0    |  15 |        indUnk        | Sagittarius |     1     |     NA     |      NA      |       NA      |\n",
              "| 3856641 |   0    |  27 |         Arts         |    Aries    |     0     |     0      |      NA      |       NA      |\n",
              "| 3509141 |   1    |  16 |       Student        |    Cancer   |     0     |     1      |      NA      |       NA      |\n",
              "| 4292654 |   1    |  33 |       Banking        |    Libra    |     0     |     0      |      NA      |       NA      |\n",
              "| 3835812 |   1    |  47 |      Non-Profit      |    Pisces   |     0     |     0      |      NA      |       NA      |\n",
              "| 3655970 |   0    |  17 |       Religion       | Sagittarius |     0     |     0      |      NA      |       NA      |\n",
              "+---------+--------+-----+----------------------+-------------+-----------+------------+--------------+---------------+\n",
              "Truncated to displaylimit of 10."
            ],
            "text/html": [
              "<table>\n",
              "    <thead>\n",
              "        <tr>\n",
              "            <th>user_id</th>\n",
              "            <th>gender</th>\n",
              "            <th>age</th>\n",
              "            <th>occu</th>\n",
              "            <th>sign</th>\n",
              "            <th>is_indunk</th>\n",
              "            <th>is_student</th>\n",
              "            <th>is_education</th>\n",
              "            <th>is_technology</th>\n",
              "        </tr>\n",
              "    </thead>\n",
              "    <tbody>\n",
              "        <tr>\n",
              "            <td>3375539</td>\n",
              "            <td>0</td>\n",
              "            <td>17</td>\n",
              "            <td>Student</td>\n",
              "            <td>Aries</td>\n",
              "            <td>0</td>\n",
              "            <td>1</td>\n",
              "            <td>NA</td>\n",
              "            <td>NA</td>\n",
              "        </tr>\n",
              "        <tr>\n",
              "            <td>4061665</td>\n",
              "            <td>0</td>\n",
              "            <td>25</td>\n",
              "            <td>Advertising</td>\n",
              "            <td>Leo</td>\n",
              "            <td>0</td>\n",
              "            <td>0</td>\n",
              "            <td>NA</td>\n",
              "            <td>NA</td>\n",
              "        </tr>\n",
              "        <tr>\n",
              "            <td>1987893</td>\n",
              "            <td>1</td>\n",
              "            <td>38</td>\n",
              "            <td>indUnk</td>\n",
              "            <td>Capricorn</td>\n",
              "            <td>1</td>\n",
              "            <td>NA</td>\n",
              "            <td>NA</td>\n",
              "            <td>NA</td>\n",
              "        </tr>\n",
              "        <tr>\n",
              "            <td>3551359</td>\n",
              "            <td>0</td>\n",
              "            <td>23</td>\n",
              "            <td>Communications-Media</td>\n",
              "            <td>Cancer</td>\n",
              "            <td>0</td>\n",
              "            <td>0</td>\n",
              "            <td>NA</td>\n",
              "            <td>NA</td>\n",
              "        </tr>\n",
              "        <tr>\n",
              "            <td>3431501</td>\n",
              "            <td>0</td>\n",
              "            <td>15</td>\n",
              "            <td>indUnk</td>\n",
              "            <td>Sagittarius</td>\n",
              "            <td>1</td>\n",
              "            <td>NA</td>\n",
              "            <td>NA</td>\n",
              "            <td>NA</td>\n",
              "        </tr>\n",
              "        <tr>\n",
              "            <td>3856641</td>\n",
              "            <td>0</td>\n",
              "            <td>27</td>\n",
              "            <td>Arts</td>\n",
              "            <td>Aries</td>\n",
              "            <td>0</td>\n",
              "            <td>0</td>\n",
              "            <td>NA</td>\n",
              "            <td>NA</td>\n",
              "        </tr>\n",
              "        <tr>\n",
              "            <td>3509141</td>\n",
              "            <td>1</td>\n",
              "            <td>16</td>\n",
              "            <td>Student</td>\n",
              "            <td>Cancer</td>\n",
              "            <td>0</td>\n",
              "            <td>1</td>\n",
              "            <td>NA</td>\n",
              "            <td>NA</td>\n",
              "        </tr>\n",
              "        <tr>\n",
              "            <td>4292654</td>\n",
              "            <td>1</td>\n",
              "            <td>33</td>\n",
              "            <td>Banking</td>\n",
              "            <td>Libra</td>\n",
              "            <td>0</td>\n",
              "            <td>0</td>\n",
              "            <td>NA</td>\n",
              "            <td>NA</td>\n",
              "        </tr>\n",
              "        <tr>\n",
              "            <td>3835812</td>\n",
              "            <td>1</td>\n",
              "            <td>47</td>\n",
              "            <td>Non-Profit</td>\n",
              "            <td>Pisces</td>\n",
              "            <td>0</td>\n",
              "            <td>0</td>\n",
              "            <td>NA</td>\n",
              "            <td>NA</td>\n",
              "        </tr>\n",
              "        <tr>\n",
              "            <td>3655970</td>\n",
              "            <td>0</td>\n",
              "            <td>17</td>\n",
              "            <td>Religion</td>\n",
              "            <td>Sagittarius</td>\n",
              "            <td>0</td>\n",
              "            <td>0</td>\n",
              "            <td>NA</td>\n",
              "            <td>NA</td>\n",
              "        </tr>\n",
              "    </tbody>\n",
              "</table>\n",
              "<span style=\"font-style:italic;text-align:center;\">Truncated to <a href=\"https://jupysql.ploomber.io/en/latest/api/configuration.html#displaylimit\">displaylimit</a> of 10.</span>"
            ]
          },
          "metadata": {},
          "execution_count": 20
        }
      ],
      "source": [
        "%%sql\n",
        "\n",
        "SELECT *\n",
        "FROM dla_tutorial_outcomes\n",
        "ORDER BY RANDOM()\n",
        "LIMIT 10;"
      ]
    },
    {
      "cell_type": "code",
      "execution_count": null,
      "metadata": {
        "id": "r3vfXPn0R3ua",
        "outputId": "4dedcef9-c773-4d3c-a17d-fc4d1d434d85",
        "colab": {
          "base_uri": "https://localhost:8080/",
          "height": 1000
        }
      },
      "outputs": [
        {
          "output_type": "display_data",
          "data": {
            "text/plain": [
              "Running query in 'sqlite:///sqlite_data/shashanka.db?charset=utf8mb4'"
            ],
            "text/html": [
              "<span style=\"None\">Running query in &#x27;sqlite:///sqlite_data/shashanka.db?charset=utf8mb4&#x27;</span>"
            ]
          },
          "metadata": {}
        },
        {
          "output_type": "execute_result",
          "data": {
            "text/plain": [
              "+------------+---------+----------------+---------------------+----------------------------------------------------------------------------------------------------------------------------------------------------------------------------------------------------------------------------------------------------------------------------------------------------------------------------------------------------------------------------------------------------------------------------------------------------------------------------------------------------------------------------------------------------------------------------------------------------------------------------------------------------------------------------------------------------------------------------------------------------------------------------------------------------------------------------------------------------------------------------------------------------------------------------------------------------------------------------------------------------------------------------------------------------------------------------------------------------------------------------------------------------------------------------------------------------------------------------------------------------------------------------------------------------------------------------------------------------------------------------------------------------------------------------------------------------------------------------------------------------------------------------------------------------------------------------------------------------------------------------------------------------------------------------------------------------------------------------------------------------------------------------------------------------------------------------------------------------------------------------------------------------------------------------------------------------------------------------------------------------------------------------------------------------------------------------------------------------------------------------------------------------------------------------------------------------------------------------------------------------------------------------------------------------------------------------------------------------------------------------------------------------------------------------------------------------------------------------------------------------------------------------------------------------------------------------------------------------------------------------------------------------------------------------------------------------------------------------------------------------------------------------------------------------------------------------------------------------------------------------------------------------------------------------------------------------------------------------------------------------------------------------------------------------------------------------------------------------------------------------------------------------------------------------------------------------------------------------------------------------------------------------------------------------------------------------------------------------------------------------------------------------------------------------------------------------------------------------------------------------------------------------------------------------------------------------------------------------------------------------------------------------------------------------------------------------------------------------------------------------------------------------------------------------------------------------------------------------------------------------------------------------------------------------------------------------------------------------------------------------------------------------------------------------------------------------------------------------------------------------------------------------------------------------------------------------------------------------------------------------------------------------------------------------------------------------------------------------------------------------------------------------------------------------------------------------------------------------------------------------------------------------------------------------------------------------------------------------------------------------------------------------------------------------------------------------------------------------------------------------------------------------------------------------------------------------------------------------------------------------------------------------------------------------------------------------------------------------------------------------------------------------------------------------------------------------------------------------------+\n",
              "| message_id | user_id |      date      |     created_time    |                                                                                                                                                                                                                                                                                                                                                                                                                                                                                                                                                                                                                                                                                                                                                                                                                                                                                                                                                                                                                                                                                                                                                                                                                                                                                                                                                                                                                                                                                                                                                                                                                                                                                                                                                                                                                                                                                                                                                                                                                                                                                                                                                                                                                                                                                                                                                                                                                                                                                                                                                 message                                                                                                                                                                                                                                                                                                                                                                                                                                                                                                                                                                                                                                                                                                                                                                                                                                                                                                                                                                                                                                                                                                                                                                                                                                                                                                                                                                                                                                                                                                                                                                                                                                                                                                                                                                                                                                                                                                                                                                                                                                                                                                                                                                                                                                                                                                                                                                                                                                                                                                                                                  |\n",
              "+------------+---------+----------------+---------------------+----------------------------------------------------------------------------------------------------------------------------------------------------------------------------------------------------------------------------------------------------------------------------------------------------------------------------------------------------------------------------------------------------------------------------------------------------------------------------------------------------------------------------------------------------------------------------------------------------------------------------------------------------------------------------------------------------------------------------------------------------------------------------------------------------------------------------------------------------------------------------------------------------------------------------------------------------------------------------------------------------------------------------------------------------------------------------------------------------------------------------------------------------------------------------------------------------------------------------------------------------------------------------------------------------------------------------------------------------------------------------------------------------------------------------------------------------------------------------------------------------------------------------------------------------------------------------------------------------------------------------------------------------------------------------------------------------------------------------------------------------------------------------------------------------------------------------------------------------------------------------------------------------------------------------------------------------------------------------------------------------------------------------------------------------------------------------------------------------------------------------------------------------------------------------------------------------------------------------------------------------------------------------------------------------------------------------------------------------------------------------------------------------------------------------------------------------------------------------------------------------------------------------------------------------------------------------------------------------------------------------------------------------------------------------------------------------------------------------------------------------------------------------------------------------------------------------------------------------------------------------------------------------------------------------------------------------------------------------------------------------------------------------------------------------------------------------------------------------------------------------------------------------------------------------------------------------------------------------------------------------------------------------------------------------------------------------------------------------------------------------------------------------------------------------------------------------------------------------------------------------------------------------------------------------------------------------------------------------------------------------------------------------------------------------------------------------------------------------------------------------------------------------------------------------------------------------------------------------------------------------------------------------------------------------------------------------------------------------------------------------------------------------------------------------------------------------------------------------------------------------------------------------------------------------------------------------------------------------------------------------------------------------------------------------------------------------------------------------------------------------------------------------------------------------------------------------------------------------------------------------------------------------------------------------------------------------------------------------------------------------------------------------------------------------------------------------------------------------------------------------------------------------------------------------------------------------------------------------------------------------------------------------------------------------------------------------------------------------------------------------------------------------------------------------------------------------------------------------------+\n",
              "|   18024    | 3956613 | 07,August,2004 | 2004-08-07 00:00:00 |    Round 12   Seattle (jmbreslin) - SS - Bert Campaneris St. Louis (deanod) - P - Bob Lacey Minneapolis (peajay) - P - Jesse Jefferson San Francisco (Iceman67) - P - Doug Bird Michigan (occsid) - OF - Lou Brock Queens (NL) (shaybee) - OF - Lou Pinella Toronto (ldmfan) - OF - Gary Thomasson Wisconsin (newarkwilder) - P - Bob Owchinko Baltimore (Ginandjuice) - 2B - Art Howe Cincinnati (smeric) - P - Catfish Hunter Boston (seaphil) - C - Charlie Moore Montreal (Oli35) - OF - Rick Manning Anaheim (scthallfan) - P - Jerry Augustine Chicago (NL) (discoalex) -  1B - Willie Aikens Cleveland (goldman23) - 3B - Butch Hobson Hollywood (richabbs) - P - Bill Lee Texas (brucel) - SS - Tim Foli Atlanta (eddiedzen) - P - Tom Burgmeier Kansas City (coldfeet) - P - Tom Hume Pittsburgh (jeff4noles) - 1B - Rico Carty Chicago (PL) (jmarino2) - 2B - Tito Fuentes Philadelphia (eagles2231) - P - Eduardo Rodriguez New York (PL) (Robin4) - SS Bucky Dent Houston (gonoles777) - SS Rance Mulliniks  Round 13   Houston (gonoles777) - P Jack Billingham New York (PL) (Robin4) - P Bill Castro Philadelphia (eagles2231) - 1b George Scott Chicago (PL) (jmarino2) - P Pedro Borbon Pittsburgh (jeff4noles) - P Paul Moskau Kansas City (coldfeet) - 2b Ted Sizemore Atlanta (eddiedzen) - P Jim Kaat Texas (brucel) - SS Frank Taveras (we have proxy for rest of draft) Hollywood (richabbs) - 2b Duane Kuiper Cleveland (goldman23) - 2b Rodney Scott Chicago (NL) (discoalex) - P - Don Gullett Anaheim (scthallfan) - OF Willie Horton Montreal (Oli35) - C Biff Pocoroba Boston (seaphil) - RP Warren Brusstar  Cincinnati (smeric) - P Pat Zachry Baltimore (Ginandjuice) - OF Jim Norris Wisconsin (newarkwilder) - P Marty Pattin  Toronto (ldmfan) - 2B Rob Andrews  Queens (NL) (shaybee) - C Jim Essian Michigan (occsid) - OF - Cesar Geronimo San Francisco (Iceman67) - OF - Greg Gross Minneapolis (peajay) - OF - Ken Landreaux St. Louis (deanod) - 1B - Lamar Johnson Seattle (jmbreslin) - P - Mark Fidrych  Round 14   Seattle (jmbreslin) - OF - Barry Bonnell St. Louis (deanod) - P - John Urrea Minneapolis (peajay) - OF - Otto Velez San Francisco (Iceman67) - P - Dave Heaverlo Michigan (occsid) - P - Randy Lerch Queens (NL) (shaybee) - P - Wayne Twitchell Toronto (ldmfan) - P - Jim Lonborg Wisconsin (newarkwilder) - 2B - Mike Tyson Baltimore (Ginandjuice) - P - Clay Carroll Cincinnati (smeric) - C - Duffy Dyer Boston (seaphil) - SS - Craig Reynolds Montreal (Oli35) - P - Grant Jackson Anaheim (scthallfan) - C - Ed Ott Chicago (NL) (discoalex) - 3B - Mike Cubbage Cleveland (goldman23) - 3B - Jerry Royster Hollywood (richabbs) - 1B - John Milner Texas (brucel) - P - Stan Bahnsen Atlanta (eddiedzen) - OF - Lee Lacy Kansas City (coldfeet) - OF - Darrel Thomas Pittsburgh (jeff4noles) - C - Steve Yeager Chicago (PL) (jmarino2) - 3B - Bill Stein Philadelphia (eagles2231) - P - Joe Coleman New York (PL) (Robin4) - OF - Jerry Morales Houston (gonoles777) - P - Rick Camp  Round 15  Houston (gonoles777) - 1B - Tom Paciorek New York (PL) (Robin4) - 1B - Dan Meyer Philadelphia (eagles2231) - OF - Leroy Stanton Chicago (PL) (jmarino2) - P - Jackie Brown Pittsburgh (jeff4noles) - SS - Bill Almon Kansas City (coldfeet) - P - Don Stanhouse Atlanta (eddiedzen) - OF - Billy North Texas (brucel) - OF - Terry Whitfield Hollywood (richabbs) - P - Bob McClure Cleveland (goldman23) - C - Rick Dempsey Chicago (NL) (discoalex) - P - John Montague Anaheim (scthallfan) - P - Lerrin LaGrow Montreal (Oli35) - OF - Rick Miller Boston (seaphil) - 2B - Rod Gilbreath Cincinnati (smeric) - P - Al Hrabosky Baltimore (Ginandjuice) - P - Tom Johnson (HSP) Wisconsin (newarkwilder) - C - Bob Stinson Toronto (ldmfan) - OF - Al Woods Queens (NL) (shaybee) - P - John Hiller Michigan (occsid) - OF - Von Joshua San Francisco (Iceman67) - P - Steve Mingori Minneapolis (peajay) - 1B - Willie Montenez St. Louis (deanod) - 1B - Ron Fairly Seattle (jmbreslin) - OF - Joe Rudi  Round 16   Seattle (jmbreslin) - P - Andy Hassler St. Louis (deanod) - 3B - Ray Knight Minneapolis (peajay) - P - Mike Marshall San Francisco (Iceman67) - OF - Tony Scott Michigan (occsid) - C - Rick Cerone Queens (NL) (shaybee) - P - Sid Monge Toronto (ldmfan) - P - Don Hood Wisconsin (newarkwilder) - P - Dyar Miller Baltimore (Ginandjuice) - SS - Mark Belanger Cincinnati (smeric) - C - Tim McCarver Boston (seaphil) - P Joe Kerrigan  Montreal (Oli35) - SS - Larvell Blanks Anaheim (scthallfan) - OF - Bernie Carbo Chicago (NL) (discoalex) - P - Ken Brett Cleveland (goldman23) - P Dan Spillner  Hollywood (richabbs) - OF Johnny Grubb Texas (brucel) - 1B - Mike Ivie Atlanta (eddiedzen) - P Tom Griffin Kansas City (coldfeet) - C - John Wockenfuss Pittsburgh (jeff4noles) - P - Pablo Torrealba Chicago (PL) (jmarino2) - OF - Cliff Johnson Philadelphia (eagles2231) - P - Adrian Devine New York (PL) (Robin4) - P - Eddie Solomon Houston (gonoles777) - P - Woodie Fryman  |\n",
              "|   10979    |  832265 | 02,August,2004 | 2004-08-02 00:00:00 |                                                                                                                                                                                                                                                                                                                                                                                                                                                                                                                                                                                                                                                                                                                                                                                                                                                                                                                                                                                                                                                                                                                                                                                                                                                                                                                                                                                                                                                                                                                                                                                                                                                                                                                                                                                                                                                                                                                                                                                                                                                                                                                                                                                                                                                                                                                                                                                                                                                                                                                                   I am ready for the  urlLink future .                                                                                                                                                                                                                                                                                                                                                                                                                                                                                                                                                                                                                                                                                                                                                                                                                                                                                                                                                                                                                                                                                                                                                                                                                                                                                                                                                                                                                                                                                                                                                                                                                                                                                                                                                                                                                                                                                                                                                                                                                                                                                                                                                                                                                                                                                                                                                                                                                                                                                                                                   |\n",
              "|    8563    | 3348160 |  15,May,2004   | 2004-05-15 00:00:00 |                                                                                                                                                                                                                                                                                                                                                                                                                                                                                                                                                                                                                                                                                                                                                                                                                                                                                                                                                                                                                                                                                                                                                                                                                                                                                                                                                                                                                                                                                                                                                                                                                                                                                                                                                                                                                                                                                                                                                                                                                          Ok, so I decided to dabble (spelling anyone?) in HTML, and website creation, so I went with the blogspot first.  Actually the are two reason behind my maddness for creating this space.  First, that exactly what I wanted.  My own little \"space\" (hence The warehouse) on the internet.  Second, my love is going to Italy for two weeks this afternoon.  Its not the first time that she is going to be in a foreign country while being with me, and I will be talking to her, but am what you call a \"worry-body\", and how can I give a full days review of my life in a few minutes (see Daily Log link at the bottom of this page).  So yeah there are more reasons.  I would like my little space to become a place where people actually stop in here everyday to check out the daily topic of conversation, sports, news, music and comment on it.  Whoa I'm tired! I'm off in a half hour.  Almost time to go the airport.  I am deathly afraid of planes....this will be the longest 13 hours of my life.  Honey, I will miss you dearly!                                                                                                                                                                                                                                                                                                                                                                                                                                                                                                                                                                                                                                                                                                                                                                                                                                                                                                                                                                                                                                                                                                                                                                                                                                                                                                                                                                                                                                                                                                                                                                                                                                                                                                                                                                                                                                                                                                                                                                                                                          |\n",
              "|    1108    | 1234212 | 07,April,2003  | 2003-04-07 00:00:00 |                                                                                                                                                                                                                                                                                                                                                                                                                                                                                                                                                                                                                                                                                                                                                                                                                                                                                                                                                                                                                                                                                                                                                                                                                                                                                                                                                                                                                                                                                                                                                                                                                                                                                                                                                                                                                                                                                                                                                                                                                         I just noticed on my page there is a little banner add. I have known that there was one there...mainly because this is a free site that allows me to blog...I sometimes knew that it was advertising for Google or other places...  Today I noticed when I brought up my page that it had ads for David Limbaughs book \"Persecution\"...I am almost mad because I would never ever promote a book like his...that right wing nazi. He is one of the bad people in the world and should die.  In smaller print you see Jim Hightowers link...in really really small print...and it is just a link...not really a tag line or anything.  Also a link for political discussion in an open forum...I really haven't followed the link so I wouldn't know about it.  I wonder if my blog has garnered the attention of anyone yet. I know the Government has little web crawlers plodding through the internet all the time to kinda keep an index of things...I wonder if it has made it to my corner of the web yet...It will it is only a matter of time...                                                                                                                                                                                                                                                                                                                                                                                                                                                                                                                                                                                                                                                                                                                                                                                                                                                                                                                                                                                                                                                                                                                                                                                                                                                                                                                                                                                                                                                                                                                                                                                                                                                                                                                                                                                                                                                                                                                                                                                                                         |\n",
              "|    5740    | 3413707 |  26,May,2004   | 2004-05-26 00:00:00 |                                                                                                                                                                                                                                                                                                                                                                                                                                                                                                                                                                                                                                                                                                                                                                                                                                                                                                                                                                                                                                                                                                                                                                                                                                                                                                                                                                                                                                                                                                                                                                                                                                                                                                                                                                                                                                                                                                                                                                                                                                                                                                                                                                                                                                                                                                                                                                                                                                                                                                                                 Does anybody have a Spanish study guide?                                                                                                                                                                                                                                                                                                                                                                                                                                                                                                                                                                                                                                                                                                                                                                                                                                                                                                                                                                                                                                                                                                                                                                                                                                                                                                                                                                                                                                                                                                                                                                                                                                                                                                                                                                                                                                                                                                                                                                                                                                                                                                                                                                                                                                                                                                                                                                                                                                                                                                                                 |\n",
              "|   27701    |  942828 |  01,June,2003  | 2003-06-01 00:00:00 |                                                                                                                                                                                                                                                                                                                                                                                                                                                                                                                                                                                                                                                                                                                                                                                                                                                                                                                                                                                                                                                                                                                                                                                                                                                                                                                                                                                                                                                                                                                                                                                                                                                                                                                                                                                                                                                                                                                                                                                                                                                                                                                                                                                                                                                                                                      Two important things  happened in the Professor's life in the month of June.  First off, in June, 1900, he, along with his mother and his younger brother Hilary, was received into the Catholic Church. He was eight years old.  Second, in June, 1915, he took First Class Honours in Language and Literature at Oxford. This meant the opportunity to have an academic career  was pretty much assured for young Mr. Tolkien- provided, of course, that he survived the First World War....                                                                                                                                                                                                                                                                                                                                                                                                                                                                                                                                                                                                                                                                                                                                                                                                                                                                                                                                                                                                                                                                                                                                                                                                                                                                                                                                                                                                                                                                                                                                                                                                                                                                                                                                                                                                                                                                                                                                                                                                                                                                                                                                                                                                                                                                                                      |\n",
              "|   20123    | 3208138 |  02,July,2004  | 2004-07-02 00:00:00 |                                                                                                                                                                                                                                                                                                                                                                                                                                                                                                                                                                                                                                                                                                                                                                                                                                                                                                                                                                                                                                                                                                                                                                                                                                                                                                                                                                                                                                                                                                                                                                                                                                                                                                                                                                                                                                                                                                                                                                                                                                                                                                                                                                                                                                                                                                                                                                                                            Graham Watson is making a book of his photographs called \"The Landscapes of Cycling\"  and can be learned more about  urlLink  here .         For another book photographed by Graham, click  urlLink here .        Graham Watson also has made coasters with his pictures on them.                                                                                                                                                                                                                                                                                                                                                                                                                                                                                                                                                                                                                                                                                                                                                                                                                                                                                                                                                                                                                                                                                                                                                                                                                                                                                                                                                                                                                                                                                                                                                                                                                                                                                                                                                                                                                                                                                                                                                                                                                                                                                                                                                                                                                                                                                                                                                                                                            |\n",
              "|    8867    | 3114279 |  29,July,2004  | 2004-07-29 00:00:00 |                                                                                                                                                                                                                                                                                                                                                                                                                                                                                                                                                                                                                                                                                                                                                                                                                                                                                                                                                                                                                                                                                                                                                                                                                                                                                                                                                                                                                                                                                                              Glenn : Yo yo yo, this is a banner fucking day in the weblog, when I post twice in a row with out Nick to buffer things out with a little bit of sense. Not that I have anything entirely interesting to say, but I'll post some rambledambles. I saw the Bourne Supremacy last night. Apparently the first movie didn't stick with me that much, because I really didn't care about any of the characters in this one, as they didn't build any of them back up. Really boring. Plus there was the preview for a new great movie coming out called \"Paparazzi.\" The plot is this actor gets really rich and famous, and then the paparazzi start hanging out all the time and taking his picture. Well you know what? He has had enough, and decides to take matters into his own hands. I say it's about time the actors struck back. How long have we, the public, been giving them so much shit and millions of dollars, and they have just been silent? Yeah, we deserve it. Not that I agree with paparazzi, but give me a break. It's like the actors all just decided to get together and hatch a way to get the public on their side. Well, I'm not going to feel sorry for these whiny millionaires. This is a movie? I've seen better film on teeth, to quote Get Shorty. It's produced by Mel \"Bloody Jesus\" Gibson. Nice follow up, jackass. Michael Moore was on O'Reilly the other night. It was hilarious. Like a couple of brat kids just screaming their sound bites at each other.   I was with a friend who got pulled over yesterday by campus cops. What a bunch of cowboy assaholics. First off he took 15 minutes running my friends license, since I guess he got stuck with the old car with the telegraph machine inside, and then he told my friend the reason he was pulled over was because he had a brake light out, and gave him an $80 ticket. When we checked later it was one of the little side lights. Agh! Why won't cops ever  help  me out? They always just cause problems. Anyway, enough negativity for one night. Peace to the East.                                                                                                                                                                                                                                                                                                                                                                                                                                                                                                                                                                                                                                                                                                                                                                                                                                                                                                                                                                                                                                                                                                                                                                                                                                                                                                                                                                                                                                                                                                            |\n",
              "|   23468    | 3739687 |  14,June,2004  | 2004-06-14 00:00:00 |                                                                                                                                                                                                                                                                                                                                                                                                                                                                                                                                                                                                                                                                                                                                                                                                                                                                                                                                                                                                                                                                                                                                                                                                                                                                                                                                                                                                                                                                                                                                                                                                                                                                                                                                                                                                                                                                                                                                                                                             o.k. so i can't figure out how to send a digital picture.  honestly, i haven't taken very many pictures. anyway i'm just not a picture taker.  wish i could for ya'll but my patience is up.  something about the size of the file i'm trying to send.  anyway...  guess i lugged my camera and usb connector to school today for nothing.  oh well,  i'm sure i'll figure it out eventually.  well today was another boring day at school.  i think they hired me so they would have a built in substitute teacher.  i spent all day covering for the thai teacher which basically meant i was a baby sitter since i can't teach thai.  the kids got a chance to catch up on homework in other subjects so they were happy.  this schools loads the kids down with work so any chance to get ahead is usually welcomed.  they are basically good kids a little  spoiled but only a few are real brats.  not much else to say really.  i'm tired.  i think it's from not doing anything all day long.  that's more exhausting than actually working i think.  well hope everyone is having a great summer.  jane                                                                                                                                                                                                                                                                                                                                                                                                                                                                                                                                                                                                                                                                                                                                                                                                                                                                                                                                                                                                                                                                                                                                                                                                                                                                                                                                                                                                                                                                                                                                                                                                                                                                                                                                                                                                                                                                                                                                                                                             |\n",
              "|    9788    | 1488330 |  26,May,2004   | 2004-05-26 00:00:00 |                                                                                                                                                                                                                                                                                                                                                                                                                                                                                                                                                                                                                                                                                                                                                                                                                                                                                                                                                                                                                                                                                                                                                                                                                                                                                                                                                                                                                                                                                                                                                                                                                                                                                                                                                                                                                                      Being gay is not morally wrong. I don't understand how people can say this. It doesn't make any sense to me. I never realized how many people have \"problems\" with gay people until I moved to Washington. It really makes me angry and I just fill with sadness. I've been around gay people my whole entire life. There is nothing anyone can tell me that would make be believe that being gay is wrong. It's so hard for me to debate this issue, because I believe that it should not even be an issue. The fact that people I care about can not legally marry the person they love infuriates me.  Does God think it's \"right\" to be gay? Is God ashamed at my talented intelligent cousin for being gay? Has she been a sinner her whole life just for being gay? Should she be looked down upon for being gay? Well she is. And she is terrified at what the reaction of other people will be if they find out that she is gay. Responding to Clark's questions about the effect of personal rights and civil liberties on presidential elections I think that is has great relevance. Bush is against gay marriage. This is what swayed my vote. If I was born 12 days earlier I would not vote for Bush. This may seem like a stupid reason to decide how to vote, but it's reason enough for me. This is how I feel. I can not rationally debate this topic because hearing the opposing side just breaks my heart.                                                                                                                                                                                                                                                                                                                                                                                                                                                                                                                                                                                                                                                                                                                                                                                                                                                                                                                                                                                                                                                                                                                                                                                                                                                                                                                                                                                                                                                                                                                                                                                                                                                                                                                                                                                                                                     |\n",
              "+------------+---------+----------------+---------------------+----------------------------------------------------------------------------------------------------------------------------------------------------------------------------------------------------------------------------------------------------------------------------------------------------------------------------------------------------------------------------------------------------------------------------------------------------------------------------------------------------------------------------------------------------------------------------------------------------------------------------------------------------------------------------------------------------------------------------------------------------------------------------------------------------------------------------------------------------------------------------------------------------------------------------------------------------------------------------------------------------------------------------------------------------------------------------------------------------------------------------------------------------------------------------------------------------------------------------------------------------------------------------------------------------------------------------------------------------------------------------------------------------------------------------------------------------------------------------------------------------------------------------------------------------------------------------------------------------------------------------------------------------------------------------------------------------------------------------------------------------------------------------------------------------------------------------------------------------------------------------------------------------------------------------------------------------------------------------------------------------------------------------------------------------------------------------------------------------------------------------------------------------------------------------------------------------------------------------------------------------------------------------------------------------------------------------------------------------------------------------------------------------------------------------------------------------------------------------------------------------------------------------------------------------------------------------------------------------------------------------------------------------------------------------------------------------------------------------------------------------------------------------------------------------------------------------------------------------------------------------------------------------------------------------------------------------------------------------------------------------------------------------------------------------------------------------------------------------------------------------------------------------------------------------------------------------------------------------------------------------------------------------------------------------------------------------------------------------------------------------------------------------------------------------------------------------------------------------------------------------------------------------------------------------------------------------------------------------------------------------------------------------------------------------------------------------------------------------------------------------------------------------------------------------------------------------------------------------------------------------------------------------------------------------------------------------------------------------------------------------------------------------------------------------------------------------------------------------------------------------------------------------------------------------------------------------------------------------------------------------------------------------------------------------------------------------------------------------------------------------------------------------------------------------------------------------------------------------------------------------------------------------------------------------------------------------------------------------------------------------------------------------------------------------------------------------------------------------------------------------------------------------------------------------------------------------------------------------------------------------------------------------------------------------------------------------------------------------------------------------------------------------------------------------------------------------------------------------------+\n",
              "Truncated to displaylimit of 10."
            ],
            "text/html": [
              "<table>\n",
              "    <thead>\n",
              "        <tr>\n",
              "            <th>message_id</th>\n",
              "            <th>user_id</th>\n",
              "            <th>date</th>\n",
              "            <th>created_time</th>\n",
              "            <th>message</th>\n",
              "        </tr>\n",
              "    </thead>\n",
              "    <tbody>\n",
              "        <tr>\n",
              "            <td>18024</td>\n",
              "            <td>3956613</td>\n",
              "            <td>07,August,2004</td>\n",
              "            <td>2004-08-07 00:00:00</td>\n",
              "            <td>&nbsp;&nbsp;&nbsp;Round 12   Seattle (jmbreslin) - SS - Bert Campaneris St. Louis (deanod) - P - Bob Lacey Minneapolis (peajay) - P - Jesse Jefferson San Francisco (Iceman67) - P - Doug Bird Michigan (occsid) - OF - Lou Brock Queens (NL) (shaybee) - OF - Lou Pinella Toronto (ldmfan) - OF - Gary Thomasson Wisconsin (newarkwilder) - P - Bob Owchinko Baltimore (Ginandjuice) - 2B - Art Howe Cincinnati (smeric) - P - Catfish Hunter Boston (seaphil) - C - Charlie Moore Montreal (Oli35) - OF - Rick Manning Anaheim (scthallfan) - P - Jerry Augustine Chicago (NL) (discoalex) -  1B - Willie Aikens Cleveland (goldman23) - 3B - Butch Hobson Hollywood (richabbs) - P - Bill Lee Texas (brucel) - SS - Tim Foli Atlanta (eddiedzen) - P - Tom Burgmeier Kansas City (coldfeet) - P - Tom Hume Pittsburgh (jeff4noles) - 1B - Rico Carty Chicago (PL) (jmarino2) - 2B - Tito Fuentes Philadelphia (eagles2231) - P - Eduardo Rodriguez New York (PL) (Robin4) - SS Bucky Dent Houston (gonoles777) - SS Rance Mulliniks  Round 13   Houston (gonoles777) - P Jack Billingham New York (PL) (Robin4) - P Bill Castro Philadelphia (eagles2231) - 1b George Scott Chicago (PL) (jmarino2) - P Pedro Borbon Pittsburgh (jeff4noles) - P Paul Moskau Kansas City (coldfeet) - 2b Ted Sizemore Atlanta (eddiedzen) - P Jim Kaat Texas (brucel) - SS Frank Taveras (we have proxy for rest of draft) Hollywood (richabbs) - 2b Duane Kuiper Cleveland (goldman23) - 2b Rodney Scott Chicago (NL) (discoalex) - P - Don Gullett Anaheim (scthallfan) - OF Willie Horton Montreal (Oli35) - C Biff Pocoroba Boston (seaphil) - RP Warren Brusstar  Cincinnati (smeric) - P Pat Zachry Baltimore (Ginandjuice) - OF Jim Norris Wisconsin (newarkwilder) - P Marty Pattin  Toronto (ldmfan) - 2B Rob Andrews  Queens (NL) (shaybee) - C Jim Essian Michigan (occsid) - OF - Cesar Geronimo San Francisco (Iceman67) - OF - Greg Gross Minneapolis (peajay) - OF - Ken Landreaux St. Louis (deanod) - 1B - Lamar Johnson Seattle (jmbreslin) - P - Mark Fidrych  Round 14   Seattle (jmbreslin) - OF - Barry Bonnell St. Louis (deanod) - P - John Urrea Minneapolis (peajay) - OF - Otto Velez San Francisco (Iceman67) - P - Dave Heaverlo Michigan (occsid) - P - Randy Lerch Queens (NL) (shaybee) - P - Wayne Twitchell Toronto (ldmfan) - P - Jim Lonborg Wisconsin (newarkwilder) - 2B - Mike Tyson Baltimore (Ginandjuice) - P - Clay Carroll Cincinnati (smeric) - C - Duffy Dyer Boston (seaphil) - SS - Craig Reynolds Montreal (Oli35) - P - Grant Jackson Anaheim (scthallfan) - C - Ed Ott Chicago (NL) (discoalex) - 3B - Mike Cubbage Cleveland (goldman23) - 3B - Jerry Royster Hollywood (richabbs) - 1B - John Milner Texas (brucel) - P - Stan Bahnsen Atlanta (eddiedzen) - OF - Lee Lacy Kansas City (coldfeet) - OF - Darrel Thomas Pittsburgh (jeff4noles) - C - Steve Yeager Chicago (PL) (jmarino2) - 3B - Bill Stein Philadelphia (eagles2231) - P - Joe Coleman New York (PL) (Robin4) - OF - Jerry Morales Houston (gonoles777) - P - Rick Camp  Round 15  Houston (gonoles777) - 1B - Tom Paciorek New York (PL) (Robin4) - 1B - Dan Meyer Philadelphia (eagles2231) - OF - Leroy Stanton Chicago (PL) (jmarino2) - P - Jackie Brown Pittsburgh (jeff4noles) - SS - Bill Almon Kansas City (coldfeet) - P - Don Stanhouse Atlanta (eddiedzen) - OF - Billy North Texas (brucel) - OF - Terry Whitfield Hollywood (richabbs) - P - Bob McClure Cleveland (goldman23) - C - Rick Dempsey Chicago (NL) (discoalex) - P - John Montague Anaheim (scthallfan) - P - Lerrin LaGrow Montreal (Oli35) - OF - Rick Miller Boston (seaphil) - 2B - Rod Gilbreath Cincinnati (smeric) - P - Al Hrabosky Baltimore (Ginandjuice) - P - Tom Johnson (HSP) Wisconsin (newarkwilder) - C - Bob Stinson Toronto (ldmfan) - OF - Al Woods Queens (NL) (shaybee) - P - John Hiller Michigan (occsid) - OF - Von Joshua San Francisco (Iceman67) - P - Steve Mingori Minneapolis (peajay) - 1B - Willie Montenez St. Louis (deanod) - 1B - Ron Fairly Seattle (jmbreslin) - OF - Joe Rudi  Round 16   Seattle (jmbreslin) - P - Andy Hassler St. Louis (deanod) - 3B - Ray Knight Minneapolis (peajay) - P - Mike Marshall San Francisco (Iceman67) - OF - Tony Scott Michigan (occsid) - C - Rick Cerone Queens (NL) (shaybee) - P - Sid Monge Toronto (ldmfan) - P - Don Hood Wisconsin (newarkwilder) - P - Dyar Miller Baltimore (Ginandjuice) - SS - Mark Belanger Cincinnati (smeric) - C - Tim McCarver Boston (seaphil) - P Joe Kerrigan  Montreal (Oli35) - SS - Larvell Blanks Anaheim (scthallfan) - OF - Bernie Carbo Chicago (NL) (discoalex) - P - Ken Brett Cleveland (goldman23) - P Dan Spillner  Hollywood (richabbs) - OF Johnny Grubb Texas (brucel) - 1B - Mike Ivie Atlanta (eddiedzen) - P Tom Griffin Kansas City (coldfeet) - C - John Wockenfuss Pittsburgh (jeff4noles) - P - Pablo Torrealba Chicago (PL) (jmarino2) - OF - Cliff Johnson Philadelphia (eagles2231) - P - Adrian Devine New York (PL) (Robin4) - P - Eddie Solomon Houston (gonoles777) - P - Woodie Fryman </td>\n",
              "        </tr>\n",
              "        <tr>\n",
              "            <td>10979</td>\n",
              "            <td>832265</td>\n",
              "            <td>02,August,2004</td>\n",
              "            <td>2004-08-02 00:00:00</td>\n",
              "            <td>&nbsp;&nbsp;&nbsp;I am ready for the  urlLink future .  </td>\n",
              "        </tr>\n",
              "        <tr>\n",
              "            <td>8563</td>\n",
              "            <td>3348160</td>\n",
              "            <td>15,May,2004</td>\n",
              "            <td>2004-05-15 00:00:00</td>\n",
              "            <td>&nbsp;&nbsp;&nbsp;&nbsp;Ok, so I decided to dabble (spelling anyone?) in HTML, and website creation, so I went with the blogspot first.  Actually the are two reason behind my maddness for creating this space.  First, that exactly what I wanted.  My own little \"space\" (hence The warehouse) on the internet.  Second, my love is going to Italy for two weeks this afternoon.  Its not the first time that she is going to be in a foreign country while being with me, and I will be talking to her, but am what you call a \"worry-body\", and how can I give a full days review of my life in a few minutes (see Daily Log link at the bottom of this page).  So yeah there are more reasons.  I would like my little space to become a place where people actually stop in here everyday to check out the daily topic of conversation, sports, news, music and comment on it.  Whoa I'm tired! I'm off in a half hour.  Almost time to go the airport.  I am deathly afraid of planes....this will be the longest 13 hours of my life.  Honey, I will miss you dearly!   </td>\n",
              "        </tr>\n",
              "        <tr>\n",
              "            <td>1108</td>\n",
              "            <td>1234212</td>\n",
              "            <td>07,April,2003</td>\n",
              "            <td>2003-04-07 00:00:00</td>\n",
              "            <td>&nbsp;&nbsp;&nbsp;I just noticed on my page there is a little banner add. I have known that there was one there...mainly because this is a free site that allows me to blog...I sometimes knew that it was advertising for Google or other places...  Today I noticed when I brought up my page that it had ads for David Limbaughs book \"Persecution\"...I am almost mad because I would never ever promote a book like his...that right wing nazi. He is one of the bad people in the world and should die.  In smaller print you see Jim Hightowers link...in really really small print...and it is just a link...not really a tag line or anything.  Also a link for political discussion in an open forum...I really haven't followed the link so I wouldn't know about it.  I wonder if my blog has garnered the attention of anyone yet. I know the Government has little web crawlers plodding through the internet all the time to kinda keep an index of things...I wonder if it has made it to my corner of the web yet...It will it is only a matter of time...  </td>\n",
              "        </tr>\n",
              "        <tr>\n",
              "            <td>5740</td>\n",
              "            <td>3413707</td>\n",
              "            <td>26,May,2004</td>\n",
              "            <td>2004-05-26 00:00:00</td>\n",
              "            <td>&nbsp;&nbsp;&nbsp;Does anybody have a Spanish study guide?  </td>\n",
              "        </tr>\n",
              "        <tr>\n",
              "            <td>27701</td>\n",
              "            <td>942828</td>\n",
              "            <td>01,June,2003</td>\n",
              "            <td>2003-06-01 00:00:00</td>\n",
              "            <td>&nbsp;&nbsp;&nbsp;&nbsp;Two important things  happened in the Professor's life in the month of June.  First off, in June, 1900, he, along with his mother and his younger brother Hilary, was received into the Catholic Church. He was eight years old.  Second, in June, 1915, he took First Class Honours in Language and Literature at Oxford. This meant the opportunity to have an academic career  was pretty much assured for young Mr. Tolkien- provided, of course, that he survived the First World War....   </td>\n",
              "        </tr>\n",
              "        <tr>\n",
              "            <td>20123</td>\n",
              "            <td>3208138</td>\n",
              "            <td>02,July,2004</td>\n",
              "            <td>2004-07-02 00:00:00</td>\n",
              "            <td>&nbsp;&nbsp;&nbsp;Graham Watson is making a book of his photographs called \"The Landscapes of Cycling\"  and can be learned more about  urlLink  here .         For another book photographed by Graham, click  urlLink here .        Graham Watson also has made coasters with his pictures on them.  </td>\n",
              "        </tr>\n",
              "        <tr>\n",
              "            <td>8867</td>\n",
              "            <td>3114279</td>\n",
              "            <td>29,July,2004</td>\n",
              "            <td>2004-07-29 00:00:00</td>\n",
              "            <td>&nbsp;&nbsp;&nbsp;Glenn : Yo yo yo, this is a banner fucking day in the weblog, when I post twice in a row with out Nick to buffer things out with a little bit of sense. Not that I have anything entirely interesting to say, but I'll post some rambledambles. I saw the Bourne Supremacy last night. Apparently the first movie didn't stick with me that much, because I really didn't care about any of the characters in this one, as they didn't build any of them back up. Really boring. Plus there was the preview for a new great movie coming out called \"Paparazzi.\" The plot is this actor gets really rich and famous, and then the paparazzi start hanging out all the time and taking his picture. Well you know what? He has had enough, and decides to take matters into his own hands. I say it's about time the actors struck back. How long have we, the public, been giving them so much shit and millions of dollars, and they have just been silent? Yeah, we deserve it. Not that I agree with paparazzi, but give me a break. It's like the actors all just decided to get together and hatch a way to get the public on their side. Well, I'm not going to feel sorry for these whiny millionaires. This is a movie? I've seen better film on teeth, to quote Get Shorty. It's produced by Mel \"Bloody Jesus\" Gibson. Nice follow up, jackass. Michael Moore was on O'Reilly the other night. It was hilarious. Like a couple of brat kids just screaming their sound bites at each other.   I was with a friend who got pulled over yesterday by campus cops. What a bunch of cowboy assaholics. First off he took 15 minutes running my friends license, since I guess he got stuck with the old car with the telegraph machine inside, and then he told my friend the reason he was pulled over was because he had a brake light out, and gave him an $80 ticket. When we checked later it was one of the little side lights. Agh! Why won't cops ever  help  me out? They always just cause problems. Anyway, enough negativity for one night. Peace to the East. </td>\n",
              "        </tr>\n",
              "        <tr>\n",
              "            <td>23468</td>\n",
              "            <td>3739687</td>\n",
              "            <td>14,June,2004</td>\n",
              "            <td>2004-06-14 00:00:00</td>\n",
              "            <td>&nbsp;&nbsp;&nbsp;o.k. so i can't figure out how to send a digital picture.  honestly, i haven't taken very many pictures. anyway i'm just not a picture taker.  wish i could for ya'll but my patience is up.  something about the size of the file i'm trying to send.  anyway...  guess i lugged my camera and usb connector to school today for nothing.  oh well,  i'm sure i'll figure it out eventually.  well today was another boring day at school.  i think they hired me so they would have a built in substitute teacher.  i spent all day covering for the thai teacher which basically meant i was a baby sitter since i can't teach thai.  the kids got a chance to catch up on homework in other subjects so they were happy.  this schools loads the kids down with work so any chance to get ahead is usually welcomed.  they are basically good kids a little  spoiled but only a few are real brats.  not much else to say really.  i'm tired.  i think it's from not doing anything all day long.  that's more exhausting than actually working i think.  well hope everyone is having a great summer.  jane  </td>\n",
              "        </tr>\n",
              "        <tr>\n",
              "            <td>9788</td>\n",
              "            <td>1488330</td>\n",
              "            <td>26,May,2004</td>\n",
              "            <td>2004-05-26 00:00:00</td>\n",
              "            <td>&nbsp;&nbsp;&nbsp;&nbsp;Being gay is not morally wrong. I don't understand how people can say this. It doesn't make any sense to me. I never realized how many people have \"problems\" with gay people until I moved to Washington. It really makes me angry and I just fill with sadness. I've been around gay people my whole entire life. There is nothing anyone can tell me that would make be believe that being gay is wrong. It's so hard for me to debate this issue, because I believe that it should not even be an issue. The fact that people I care about can not legally marry the person they love infuriates me.  Does God think it's \"right\" to be gay? Is God ashamed at my talented intelligent cousin for being gay? Has she been a sinner her whole life just for being gay? Should she be looked down upon for being gay? Well she is. And she is terrified at what the reaction of other people will be if they find out that she is gay. Responding to Clark's questions about the effect of personal rights and civil liberties on presidential elections I think that is has great relevance. Bush is against gay marriage. This is what swayed my vote. If I was born 12 days earlier I would not vote for Bush. This may seem like a stupid reason to decide how to vote, but it's reason enough for me. This is how I feel. I can not rationally debate this topic because hearing the opposing side just breaks my heart.   </td>\n",
              "        </tr>\n",
              "    </tbody>\n",
              "</table>\n",
              "<span style=\"font-style:italic;text-align:center;\">Truncated to <a href=\"https://jupysql.ploomber.io/en/latest/api/configuration.html#displaylimit\">displaylimit</a> of 10.</span>"
            ]
          },
          "metadata": {},
          "execution_count": 21
        }
      ],
      "source": [
        "%%sql\n",
        "\n",
        "SELECT *\n",
        "FROM dla_tutorial_msgs\n",
        "ORDER BY RANDOM()\n",
        "LIMIT 10;"
      ]
    },
    {
      "cell_type": "markdown",
      "metadata": {
        "id": "jEmzXcrxR3ua"
      },
      "source": [
        "### 1) Calculate the minimum, maximum and average age for both genders."
      ]
    },
    {
      "cell_type": "markdown",
      "metadata": {
        "id": "QP-f9eo9R3ua"
      },
      "source": [
        "**Answer:**"
      ]
    },
    {
      "cell_type": "code",
      "execution_count": null,
      "metadata": {
        "id": "uVeasTkzR3ua",
        "outputId": "a57fda5a-ca18-4910-cebf-43ba6fe8c613",
        "colab": {
          "base_uri": "https://localhost:8080/",
          "height": 100
        }
      },
      "outputs": [
        {
          "output_type": "display_data",
          "data": {
            "text/plain": [
              "Running query in 'sqlite:///sqlite_data/shashanka.db?charset=utf8mb4'"
            ],
            "text/html": [
              "<span style=\"None\">Running query in &#x27;sqlite:///sqlite_data/shashanka.db?charset=utf8mb4&#x27;</span>"
            ]
          },
          "metadata": {}
        },
        {
          "output_type": "execute_result",
          "data": {
            "text/plain": [
              "+--------+---------+---------+--------------------+\n",
              "| gender | min_age | max_age |      avg_age       |\n",
              "+--------+---------+---------+--------------------+\n",
              "|   0    |    13   |    48   |  23.1195219123506  |\n",
              "|   1    |    13   |    48   | 23.337349397590362 |\n",
              "+--------+---------+---------+--------------------+"
            ],
            "text/html": [
              "<table>\n",
              "    <thead>\n",
              "        <tr>\n",
              "            <th>gender</th>\n",
              "            <th>min_age</th>\n",
              "            <th>max_age</th>\n",
              "            <th>avg_age</th>\n",
              "        </tr>\n",
              "    </thead>\n",
              "    <tbody>\n",
              "        <tr>\n",
              "            <td>0</td>\n",
              "            <td>13</td>\n",
              "            <td>48</td>\n",
              "            <td>23.1195219123506</td>\n",
              "        </tr>\n",
              "        <tr>\n",
              "            <td>1</td>\n",
              "            <td>13</td>\n",
              "            <td>48</td>\n",
              "            <td>23.337349397590362</td>\n",
              "        </tr>\n",
              "    </tbody>\n",
              "</table>"
            ]
          },
          "metadata": {},
          "execution_count": 22
        }
      ],
      "source": [
        "%%sql\n",
        "\n",
        "SELECT gender, MIN(age) AS min_age, MAX(age) AS max_age, AVG(age) AS avg_age\n",
        "FROM dla_tutorial_outcomes\n",
        "GROUP BY gender;"
      ]
    },
    {
      "cell_type": "markdown",
      "metadata": {
        "id": "uSslAk10R3ua"
      },
      "source": [
        "### 2) Calculate the average age for every occupation"
      ]
    },
    {
      "cell_type": "markdown",
      "metadata": {
        "id": "A3pS-kQgR3ua"
      },
      "source": [
        "**Answer:**"
      ]
    },
    {
      "cell_type": "code",
      "execution_count": null,
      "metadata": {
        "id": "NdRNMhpoR3ua",
        "outputId": "0b354c24-3cf0-489f-ec0b-dd880870b20d",
        "colab": {
          "base_uri": "https://localhost:8080/",
          "height": 289
        }
      },
      "outputs": [
        {
          "output_type": "display_data",
          "data": {
            "text/plain": [
              "Running query in 'sqlite:///sqlite_data/shashanka.db?charset=utf8mb4'"
            ],
            "text/html": [
              "<span style=\"None\">Running query in &#x27;sqlite:///sqlite_data/shashanka.db?charset=utf8mb4&#x27;</span>"
            ]
          },
          "metadata": {}
        },
        {
          "output_type": "execute_result",
          "data": {
            "text/plain": [
              "+------------------+--------------------+\n",
              "|       occu       |      avg_age       |\n",
              "+------------------+--------------------+\n",
              "|    Accounting    |        24.5        |\n",
              "|   Advertising    |        25.5        |\n",
              "|   Agriculture    |        17.0        |\n",
              "|   Architecture   | 28.333333333333332 |\n",
              "|       Arts       |      23.0625       |\n",
              "|    Automotive    |        30.5        |\n",
              "|     Banking      |       27.875       |\n",
              "|     Biotech      |        24.5        |\n",
              "| BusinessServices |        29.5        |\n",
              "|    Chemicals     |        15.0        |\n",
              "+------------------+--------------------+\n",
              "Truncated to displaylimit of 10."
            ],
            "text/html": [
              "<table>\n",
              "    <thead>\n",
              "        <tr>\n",
              "            <th>occu</th>\n",
              "            <th>avg_age</th>\n",
              "        </tr>\n",
              "    </thead>\n",
              "    <tbody>\n",
              "        <tr>\n",
              "            <td>Accounting</td>\n",
              "            <td>24.5</td>\n",
              "        </tr>\n",
              "        <tr>\n",
              "            <td>Advertising</td>\n",
              "            <td>25.5</td>\n",
              "        </tr>\n",
              "        <tr>\n",
              "            <td>Agriculture</td>\n",
              "            <td>17.0</td>\n",
              "        </tr>\n",
              "        <tr>\n",
              "            <td>Architecture</td>\n",
              "            <td>28.333333333333332</td>\n",
              "        </tr>\n",
              "        <tr>\n",
              "            <td>Arts</td>\n",
              "            <td>23.0625</td>\n",
              "        </tr>\n",
              "        <tr>\n",
              "            <td>Automotive</td>\n",
              "            <td>30.5</td>\n",
              "        </tr>\n",
              "        <tr>\n",
              "            <td>Banking</td>\n",
              "            <td>27.875</td>\n",
              "        </tr>\n",
              "        <tr>\n",
              "            <td>Biotech</td>\n",
              "            <td>24.5</td>\n",
              "        </tr>\n",
              "        <tr>\n",
              "            <td>BusinessServices</td>\n",
              "            <td>29.5</td>\n",
              "        </tr>\n",
              "        <tr>\n",
              "            <td>Chemicals</td>\n",
              "            <td>15.0</td>\n",
              "        </tr>\n",
              "    </tbody>\n",
              "</table>\n",
              "<span style=\"font-style:italic;text-align:center;\">Truncated to <a href=\"https://jupysql.ploomber.io/en/latest/api/configuration.html#displaylimit\">displaylimit</a> of 10.</span>"
            ]
          },
          "metadata": {},
          "execution_count": 23
        }
      ],
      "source": [
        "%%sql\n",
        "\n",
        "SELECT occu, AVG(age) AS avg_age\n",
        "FROM dla_tutorial_outcomes\n",
        "GROUP BY occu;"
      ]
    },
    {
      "cell_type": "markdown",
      "metadata": {
        "id": "NakiYcs-R3ua"
      },
      "source": [
        "### 3) What's the average age difference between Libras and Leos?"
      ]
    },
    {
      "cell_type": "markdown",
      "metadata": {
        "id": "K64J6nqdR3ua"
      },
      "source": [
        "We need a `GROUP BY` and `AVG` but we don't need to that for all groups, just the ones with care about.\n",
        "\n",
        "**Hint:** You can do just get the average age for Libras and Leos, and then subtract them from one another in a separate command."
      ]
    },
    {
      "cell_type": "markdown",
      "metadata": {
        "id": "z884CC1KR3ua"
      },
      "source": [
        "**Answer:**"
      ]
    },
    {
      "cell_type": "code",
      "execution_count": null,
      "metadata": {
        "id": "alukNIGlR3ua",
        "outputId": "e85e31c5-d5b3-48ee-92a3-0394449705c1",
        "colab": {
          "base_uri": "https://localhost:8080/",
          "height": 100
        }
      },
      "outputs": [
        {
          "output_type": "display_data",
          "data": {
            "text/plain": [
              "Running query in 'sqlite:///sqlite_data/shashanka.db?charset=utf8mb4'"
            ],
            "text/html": [
              "<span style=\"None\">Running query in &#x27;sqlite:///sqlite_data/shashanka.db?charset=utf8mb4&#x27;</span>"
            ]
          },
          "metadata": {}
        },
        {
          "output_type": "execute_result",
          "data": {
            "text/plain": [
              "+-------+--------------------+\n",
              "|  sign |      avg_age       |\n",
              "+-------+--------------------+\n",
              "|  Leo  | 22.772151898734176 |\n",
              "| Libra | 24.216867469879517 |\n",
              "+-------+--------------------+"
            ],
            "text/html": [
              "<table>\n",
              "    <thead>\n",
              "        <tr>\n",
              "            <th>sign</th>\n",
              "            <th>avg_age</th>\n",
              "        </tr>\n",
              "    </thead>\n",
              "    <tbody>\n",
              "        <tr>\n",
              "            <td>Leo</td>\n",
              "            <td>22.772151898734176</td>\n",
              "        </tr>\n",
              "        <tr>\n",
              "            <td>Libra</td>\n",
              "            <td>24.216867469879517</td>\n",
              "        </tr>\n",
              "    </tbody>\n",
              "</table>"
            ]
          },
          "metadata": {},
          "execution_count": 24
        }
      ],
      "source": [
        "%%sql\n",
        "\n",
        "SELECT sign, AVG(age) AS avg_age\n",
        "FROM dla_tutorial_outcomes\n",
        "WHERE sign IN ('Libra','Leo')\n",
        "GROUP BY sign;"
      ]
    },
    {
      "cell_type": "code",
      "execution_count": null,
      "metadata": {
        "id": "rObF4f9FR3ua",
        "outputId": "40241106-3468-4bd9-97d4-1451c510a881",
        "colab": {
          "base_uri": "https://localhost:8080/",
          "height": 79
        }
      },
      "outputs": [
        {
          "output_type": "display_data",
          "data": {
            "text/plain": [
              "Running query in 'sqlite:///sqlite_data/shashanka.db?charset=utf8mb4'"
            ],
            "text/html": [
              "<span style=\"None\">Running query in &#x27;sqlite:///sqlite_data/shashanka.db?charset=utf8mb4&#x27;</span>"
            ]
          },
          "metadata": {}
        },
        {
          "output_type": "execute_result",
          "data": {
            "text/plain": [
              "+--------------------+\n",
              "|   avg_difference   |\n",
              "+--------------------+\n",
              "| 1.4446999999999974 |\n",
              "+--------------------+"
            ],
            "text/html": [
              "<table>\n",
              "    <thead>\n",
              "        <tr>\n",
              "            <th>avg_difference</th>\n",
              "        </tr>\n",
              "    </thead>\n",
              "    <tbody>\n",
              "        <tr>\n",
              "            <td>1.4446999999999974</td>\n",
              "        </tr>\n",
              "    </tbody>\n",
              "</table>"
            ]
          },
          "metadata": {},
          "execution_count": 25
        }
      ],
      "source": [
        "%%sql\n",
        "\n",
        "SELECT (24.2169 - 22.7722) AS avg_difference;"
      ]
    },
    {
      "cell_type": "markdown",
      "metadata": {
        "id": "zsW2lMVQR3ua"
      },
      "source": [
        "### 4) How many blog posts do we have from authors from a given age?\n",
        "\n",
        "i.e., how many from age 17, 18, etc.\n",
        "\n",
        "**Hint:** First create a table with number of messages per user, then join on the extra info that you need."
      ]
    },
    {
      "cell_type": "markdown",
      "metadata": {
        "id": "MJb8CpumR3ua"
      },
      "source": [
        "**Answer:**"
      ]
    },
    {
      "cell_type": "code",
      "execution_count": null,
      "metadata": {
        "id": "lhBmBkIeR3ub",
        "outputId": "0c727580-5b33-4597-ca8b-f0c3e8ef44f5",
        "colab": {
          "base_uri": "https://localhost:8080/",
          "height": 34
        }
      },
      "outputs": [
        {
          "output_type": "display_data",
          "data": {
            "text/plain": [
              "Running query in 'sqlite:///sqlite_data/shashanka.db?charset=utf8mb4'"
            ],
            "text/html": [
              "<span style=\"None\">Running query in &#x27;sqlite:///sqlite_data/shashanka.db?charset=utf8mb4&#x27;</span>"
            ]
          },
          "metadata": {}
        },
        {
          "output_type": "execute_result",
          "data": {
            "text/plain": [
              "++\n",
              "||\n",
              "++\n",
              "++"
            ],
            "text/html": [
              "<table>\n",
              "    <thead>\n",
              "        <tr>\n",
              "        </tr>\n",
              "    </thead>\n",
              "    <tbody>\n",
              "    </tbody>\n",
              "</table>"
            ]
          },
          "metadata": {},
          "execution_count": 26
        }
      ],
      "source": [
        "%%sql\n",
        "\n",
        "DROP TABLE IF EXISTS n_msgs_per_user;\n",
        "\n",
        "CREATE TABLE n_msgs_per_user AS\n",
        "SELECT user_id, COUNT(*) AS n_msgs\n",
        "FROM dla_tutorial_msgs\n",
        "GROUP BY user_id;"
      ]
    },
    {
      "cell_type": "code",
      "execution_count": null,
      "metadata": {
        "id": "4KB_8rCeR3ub",
        "outputId": "2c26bd1a-9e68-41c0-ddc9-62081aeb0d64",
        "colab": {
          "base_uri": "https://localhost:8080/",
          "height": 289
        }
      },
      "outputs": [
        {
          "output_type": "display_data",
          "data": {
            "text/plain": [
              "Running query in 'sqlite:///sqlite_data/shashanka.db?charset=utf8mb4'"
            ],
            "text/html": [
              "<span style=\"None\">Running query in &#x27;sqlite:///sqlite_data/shashanka.db?charset=utf8mb4&#x27;</span>"
            ]
          },
          "metadata": {}
        },
        {
          "output_type": "execute_result",
          "data": {
            "text/plain": [
              "+---------+--------+\n",
              "| user_id | n_msgs |\n",
              "+---------+--------+\n",
              "|  942828 |  2068  |\n",
              "| 3523319 |  1052  |\n",
              "| 1234212 |  643   |\n",
              "|  317581 |  619   |\n",
              "|  664485 |  566   |\n",
              "| 1694057 |  491   |\n",
              "|  979795 |  425   |\n",
              "| 1488330 |  403   |\n",
              "|  671748 |  351   |\n",
              "| 3196705 |  347   |\n",
              "+---------+--------+\n",
              "Truncated to displaylimit of 10."
            ],
            "text/html": [
              "<table>\n",
              "    <thead>\n",
              "        <tr>\n",
              "            <th>user_id</th>\n",
              "            <th>n_msgs</th>\n",
              "        </tr>\n",
              "    </thead>\n",
              "    <tbody>\n",
              "        <tr>\n",
              "            <td>942828</td>\n",
              "            <td>2068</td>\n",
              "        </tr>\n",
              "        <tr>\n",
              "            <td>3523319</td>\n",
              "            <td>1052</td>\n",
              "        </tr>\n",
              "        <tr>\n",
              "            <td>1234212</td>\n",
              "            <td>643</td>\n",
              "        </tr>\n",
              "        <tr>\n",
              "            <td>317581</td>\n",
              "            <td>619</td>\n",
              "        </tr>\n",
              "        <tr>\n",
              "            <td>664485</td>\n",
              "            <td>566</td>\n",
              "        </tr>\n",
              "        <tr>\n",
              "            <td>1694057</td>\n",
              "            <td>491</td>\n",
              "        </tr>\n",
              "        <tr>\n",
              "            <td>979795</td>\n",
              "            <td>425</td>\n",
              "        </tr>\n",
              "        <tr>\n",
              "            <td>1488330</td>\n",
              "            <td>403</td>\n",
              "        </tr>\n",
              "        <tr>\n",
              "            <td>671748</td>\n",
              "            <td>351</td>\n",
              "        </tr>\n",
              "        <tr>\n",
              "            <td>3196705</td>\n",
              "            <td>347</td>\n",
              "        </tr>\n",
              "    </tbody>\n",
              "</table>\n",
              "<span style=\"font-style:italic;text-align:center;\">Truncated to <a href=\"https://jupysql.ploomber.io/en/latest/api/configuration.html#displaylimit\">displaylimit</a> of 10.</span>"
            ]
          },
          "metadata": {},
          "execution_count": 27
        }
      ],
      "source": [
        "%%sql\n",
        "\n",
        "SELECT *\n",
        "FROM n_msgs_per_user\n",
        "ORDER BY n_msgs DESC\n",
        "LIMIT 10;"
      ]
    },
    {
      "cell_type": "markdown",
      "metadata": {
        "id": "gIMkMxkUR3ub"
      },
      "source": [
        "We then join the tables `dla_tutorial_outcomes` with `n_msgs_per_user` and compute the sum of number of messages grouped by age."
      ]
    },
    {
      "cell_type": "code",
      "execution_count": null,
      "metadata": {
        "id": "_PeJC4G3R3ug",
        "outputId": "35361f1d-f5c6-40a8-d25b-70dbcf021d86",
        "colab": {
          "base_uri": "https://localhost:8080/",
          "height": 289
        }
      },
      "outputs": [
        {
          "output_type": "display_data",
          "data": {
            "text/plain": [
              "Running query in 'sqlite:///sqlite_data/shashanka.db?charset=utf8mb4'"
            ],
            "text/html": [
              "<span style=\"None\">Running query in &#x27;sqlite:///sqlite_data/shashanka.db?charset=utf8mb4&#x27;</span>"
            ]
          },
          "metadata": {}
        },
        {
          "output_type": "execute_result",
          "data": {
            "text/plain": [
              "+-----+--------+\n",
              "| age | n_msgs |\n",
              "+-----+--------+\n",
              "|  13 |  783   |\n",
              "|  14 |  1417  |\n",
              "|  15 |  2093  |\n",
              "|  16 |  2255  |\n",
              "|  17 |  3588  |\n",
              "|  23 |  2790  |\n",
              "|  24 |  4356  |\n",
              "|  25 |  3304  |\n",
              "|  26 |  2699  |\n",
              "|  27 |  2979  |\n",
              "+-----+--------+\n",
              "Truncated to displaylimit of 10."
            ],
            "text/html": [
              "<table>\n",
              "    <thead>\n",
              "        <tr>\n",
              "            <th>age</th>\n",
              "            <th>n_msgs</th>\n",
              "        </tr>\n",
              "    </thead>\n",
              "    <tbody>\n",
              "        <tr>\n",
              "            <td>13</td>\n",
              "            <td>783</td>\n",
              "        </tr>\n",
              "        <tr>\n",
              "            <td>14</td>\n",
              "            <td>1417</td>\n",
              "        </tr>\n",
              "        <tr>\n",
              "            <td>15</td>\n",
              "            <td>2093</td>\n",
              "        </tr>\n",
              "        <tr>\n",
              "            <td>16</td>\n",
              "            <td>2255</td>\n",
              "        </tr>\n",
              "        <tr>\n",
              "            <td>17</td>\n",
              "            <td>3588</td>\n",
              "        </tr>\n",
              "        <tr>\n",
              "            <td>23</td>\n",
              "            <td>2790</td>\n",
              "        </tr>\n",
              "        <tr>\n",
              "            <td>24</td>\n",
              "            <td>4356</td>\n",
              "        </tr>\n",
              "        <tr>\n",
              "            <td>25</td>\n",
              "            <td>3304</td>\n",
              "        </tr>\n",
              "        <tr>\n",
              "            <td>26</td>\n",
              "            <td>2699</td>\n",
              "        </tr>\n",
              "        <tr>\n",
              "            <td>27</td>\n",
              "            <td>2979</td>\n",
              "        </tr>\n",
              "    </tbody>\n",
              "</table>\n",
              "<span style=\"font-style:italic;text-align:center;\">Truncated to <a href=\"https://jupysql.ploomber.io/en/latest/api/configuration.html#displaylimit\">displaylimit</a> of 10.</span>"
            ]
          },
          "metadata": {},
          "execution_count": 28
        }
      ],
      "source": [
        "%%sql\n",
        "\n",
        "SELECT age, SUM(B.n_msgs) AS n_msgs\n",
        "FROM dla_tutorial_outcomes AS A INNER JOIN n_msgs_per_user AS B ON A.user_id = B.user_id\n",
        "GROUP BY age\n",
        "ORDER BY age;"
      ]
    },
    {
      "cell_type": "markdown",
      "metadata": {
        "id": "H_UVXJeWR3ug"
      },
      "source": [
        "### 5) How many blog posts do we have from authors in an industry?"
      ]
    },
    {
      "cell_type": "markdown",
      "metadata": {
        "id": "-9JkJ2Z-R3uh"
      },
      "source": [
        "Here we use the table we made earlier `n_msgs_per_user`. We join it to `dla_tutorial_outcomes` and compute sum of number of messages grouped by occupation."
      ]
    },
    {
      "cell_type": "markdown",
      "metadata": {
        "id": "jr9_4I1KR3uh"
      },
      "source": [
        "**Answer:**"
      ]
    },
    {
      "cell_type": "code",
      "execution_count": null,
      "metadata": {
        "id": "LQyfKQkVR3uh",
        "outputId": "24366f57-1238-4698-c9e8-1638ded99d6f",
        "colab": {
          "base_uri": "https://localhost:8080/",
          "height": 289
        }
      },
      "outputs": [
        {
          "output_type": "display_data",
          "data": {
            "text/plain": [
              "Running query in 'sqlite:///sqlite_data/shashanka.db?charset=utf8mb4'"
            ],
            "text/html": [
              "<span style=\"None\">Running query in &#x27;sqlite:///sqlite_data/shashanka.db?charset=utf8mb4&#x27;</span>"
            ]
          },
          "metadata": {}
        },
        {
          "output_type": "execute_result",
          "data": {
            "text/plain": [
              "+----------------------+--------+\n",
              "|         occu         | n_msgs |\n",
              "+----------------------+--------+\n",
              "|        indUnk        | 11548  |\n",
              "|       Student        |  6650  |\n",
              "|      Technology      |  2203  |\n",
              "|      Education       |  1717  |\n",
              "| Communications-Media |  1625  |\n",
              "|       Internet       |  1599  |\n",
              "|         Arts         |  1280  |\n",
              "|      Government      |  661   |\n",
              "|       Science        |  627   |\n",
              "|      Non-Profit      |  584   |\n",
              "+----------------------+--------+\n",
              "Truncated to displaylimit of 10."
            ],
            "text/html": [
              "<table>\n",
              "    <thead>\n",
              "        <tr>\n",
              "            <th>occu</th>\n",
              "            <th>n_msgs</th>\n",
              "        </tr>\n",
              "    </thead>\n",
              "    <tbody>\n",
              "        <tr>\n",
              "            <td>indUnk</td>\n",
              "            <td>11548</td>\n",
              "        </tr>\n",
              "        <tr>\n",
              "            <td>Student</td>\n",
              "            <td>6650</td>\n",
              "        </tr>\n",
              "        <tr>\n",
              "            <td>Technology</td>\n",
              "            <td>2203</td>\n",
              "        </tr>\n",
              "        <tr>\n",
              "            <td>Education</td>\n",
              "            <td>1717</td>\n",
              "        </tr>\n",
              "        <tr>\n",
              "            <td>Communications-Media</td>\n",
              "            <td>1625</td>\n",
              "        </tr>\n",
              "        <tr>\n",
              "            <td>Internet</td>\n",
              "            <td>1599</td>\n",
              "        </tr>\n",
              "        <tr>\n",
              "            <td>Arts</td>\n",
              "            <td>1280</td>\n",
              "        </tr>\n",
              "        <tr>\n",
              "            <td>Government</td>\n",
              "            <td>661</td>\n",
              "        </tr>\n",
              "        <tr>\n",
              "            <td>Science</td>\n",
              "            <td>627</td>\n",
              "        </tr>\n",
              "        <tr>\n",
              "            <td>Non-Profit</td>\n",
              "            <td>584</td>\n",
              "        </tr>\n",
              "    </tbody>\n",
              "</table>\n",
              "<span style=\"font-style:italic;text-align:center;\">Truncated to <a href=\"https://jupysql.ploomber.io/en/latest/api/configuration.html#displaylimit\">displaylimit</a> of 10.</span>"
            ]
          },
          "metadata": {},
          "execution_count": 29
        }
      ],
      "source": [
        "%%sql\n",
        "\n",
        "SELECT occu, SUM(B.n_msgs) AS n_msgs\n",
        "FROM dla_tutorial_outcomes AS A INNER JOIN n_msgs_per_user AS B ON A.user_id = B.user_id\n",
        "GROUP BY occu\n",
        "ORDER BY n_msgs DESC;"
      ]
    },
    {
      "cell_type": "markdown",
      "metadata": {
        "id": "oS48e7GOR3uh"
      },
      "source": [
        "### 6) How many blog posts do we have from a given year?\n",
        "\n",
        "**Hint:** remember the **YEAR(sql_timeformat)** command."
      ]
    },
    {
      "cell_type": "markdown",
      "metadata": {
        "id": "89H-LuyQR3uh"
      },
      "source": [
        "**Answer:**"
      ]
    },
    {
      "cell_type": "code",
      "execution_count": null,
      "metadata": {
        "id": "K6L-NC3pR3uh",
        "outputId": "92ecb64e-4681-4343-e9ac-bdda3bc54aee",
        "colab": {
          "base_uri": "https://localhost:8080/",
          "height": 186
        }
      },
      "outputs": [
        {
          "output_type": "display_data",
          "data": {
            "text/plain": [
              "Running query in 'sqlite:///sqlite_data/shashanka.db?charset=utf8mb4'"
            ],
            "text/html": [
              "<span style=\"None\">Running query in &#x27;sqlite:///sqlite_data/shashanka.db?charset=utf8mb4&#x27;</span>"
            ]
          },
          "metadata": {}
        },
        {
          "output_type": "execute_result",
          "data": {
            "text/plain": [
              "+------+--------+\n",
              "| yyyy | n_msgs |\n",
              "+------+--------+\n",
              "| 2001 |  331   |\n",
              "| 2002 |  710   |\n",
              "| 2003 |  5031  |\n",
              "| 2004 | 25600  |\n",
              "| 2005 |   1    |\n",
              "| 2006 |   1    |\n",
              "+------+--------+"
            ],
            "text/html": [
              "<table>\n",
              "    <thead>\n",
              "        <tr>\n",
              "            <th>yyyy</th>\n",
              "            <th>n_msgs</th>\n",
              "        </tr>\n",
              "    </thead>\n",
              "    <tbody>\n",
              "        <tr>\n",
              "            <td>2001</td>\n",
              "            <td>331</td>\n",
              "        </tr>\n",
              "        <tr>\n",
              "            <td>2002</td>\n",
              "            <td>710</td>\n",
              "        </tr>\n",
              "        <tr>\n",
              "            <td>2003</td>\n",
              "            <td>5031</td>\n",
              "        </tr>\n",
              "        <tr>\n",
              "            <td>2004</td>\n",
              "            <td>25600</td>\n",
              "        </tr>\n",
              "        <tr>\n",
              "            <td>2005</td>\n",
              "            <td>1</td>\n",
              "        </tr>\n",
              "        <tr>\n",
              "            <td>2006</td>\n",
              "            <td>1</td>\n",
              "        </tr>\n",
              "    </tbody>\n",
              "</table>"
            ]
          },
          "metadata": {},
          "execution_count": 30
        }
      ],
      "source": [
        "%%sql\n",
        "\n",
        "SELECT strftime(\"%Y\", created_time) AS yyyy, COUNT(*) AS n_msgs\n",
        "FROM dla_tutorial_msgs\n",
        "GROUP by yyyy\n",
        "ORDER by yyyy;"
      ]
    },
    {
      "cell_type": "markdown",
      "metadata": {
        "id": "k7LbnowvR3uh"
      },
      "source": [
        "### 7) How many blog posts do we have from a given year only written by  Tauruses?"
      ]
    },
    {
      "cell_type": "markdown",
      "metadata": {
        "id": "-SdRjtG2R3uh"
      },
      "source": [
        "**Answer:**"
      ]
    },
    {
      "cell_type": "code",
      "execution_count": null,
      "metadata": {
        "id": "23DNMZ4CR3uh",
        "outputId": "364ddd63-8463-4aaa-ca6e-bf100059defd",
        "colab": {
          "base_uri": "https://localhost:8080/",
          "height": 143
        }
      },
      "outputs": [
        {
          "output_type": "display_data",
          "data": {
            "text/plain": [
              "Running query in 'sqlite:///sqlite_data/shashanka.db?charset=utf8mb4'"
            ],
            "text/html": [
              "<span style=\"None\">Running query in &#x27;sqlite:///sqlite_data/shashanka.db?charset=utf8mb4&#x27;</span>"
            ]
          },
          "metadata": {}
        },
        {
          "output_type": "execute_result",
          "data": {
            "text/plain": [
              "+------+--------+\n",
              "| yyyy | n_msgs |\n",
              "+------+--------+\n",
              "| 2001 |   2    |\n",
              "| 2002 |  116   |\n",
              "| 2003 |  1559  |\n",
              "| 2004 |  2660  |\n",
              "+------+--------+"
            ],
            "text/html": [
              "<table>\n",
              "    <thead>\n",
              "        <tr>\n",
              "            <th>yyyy</th>\n",
              "            <th>n_msgs</th>\n",
              "        </tr>\n",
              "    </thead>\n",
              "    <tbody>\n",
              "        <tr>\n",
              "            <td>2001</td>\n",
              "            <td>2</td>\n",
              "        </tr>\n",
              "        <tr>\n",
              "            <td>2002</td>\n",
              "            <td>116</td>\n",
              "        </tr>\n",
              "        <tr>\n",
              "            <td>2003</td>\n",
              "            <td>1559</td>\n",
              "        </tr>\n",
              "        <tr>\n",
              "            <td>2004</td>\n",
              "            <td>2660</td>\n",
              "        </tr>\n",
              "    </tbody>\n",
              "</table>"
            ]
          },
          "metadata": {},
          "execution_count": 35
        }
      ],
      "source": [
        "%%sql\n",
        "\n",
        "SELECT strftime(\"%Y\", created_time) AS yyyy, COUNT(*) AS n_msgs\n",
        "FROM dla_tutorial_msgs AS a, dla_tutorial_outcomes AS b\n",
        "WHERE a.user_id = b.user_id AND b.sign = \"Taurus\"\n",
        "GROUP by yyyy\n",
        "ORDER by yyyy;"
      ]
    },
    {
      "cell_type": "markdown",
      "metadata": {
        "id": "kRFUngT8R3uh"
      },
      "source": [
        "### 8) Should you do something to make the last queries for questions 1 and 2 run faster? If so, give the query"
      ]
    },
    {
      "cell_type": "markdown",
      "metadata": {
        "id": "RljVLA84R3uh"
      },
      "source": [
        "In our queries, we are partitioning columns with **GROUP BY**. So, it may help _index_ these columns."
      ]
    },
    {
      "cell_type": "markdown",
      "metadata": {
        "id": "uyHTbXffR3uh"
      },
      "source": [
        "**Answer:**"
      ]
    },
    {
      "cell_type": "code",
      "execution_count": null,
      "metadata": {
        "id": "s4PMfsp8R3uh",
        "outputId": "1e782440-e09b-4c14-f8b8-2c2505b21c85",
        "colab": {
          "base_uri": "https://localhost:8080/",
          "height": 34
        }
      },
      "outputs": [
        {
          "output_type": "display_data",
          "data": {
            "text/plain": [
              "Running query in 'sqlite:///sqlite_data/shashanka.db?charset=utf8mb4'"
            ],
            "text/html": [
              "<span style=\"None\">Running query in &#x27;sqlite:///sqlite_data/shashanka.db?charset=utf8mb4&#x27;</span>"
            ]
          },
          "metadata": {}
        },
        {
          "output_type": "execute_result",
          "data": {
            "text/plain": [
              "++\n",
              "||\n",
              "++\n",
              "++"
            ],
            "text/html": [
              "<table>\n",
              "    <thead>\n",
              "        <tr>\n",
              "        </tr>\n",
              "    </thead>\n",
              "    <tbody>\n",
              "    </tbody>\n",
              "</table>"
            ]
          },
          "metadata": {},
          "execution_count": 36
        }
      ],
      "source": [
        "%%sql\n",
        "\n",
        "CREATE INDEX age ON dla_tutorial_outcomes (age);\n",
        "CREATE INDEX gender ON dla_tutorial_outcomes (gender);\n",
        "CREATE INDEX occu ON dla_tutorial_outcomes (occu);"
      ]
    },
    {
      "cell_type": "markdown",
      "metadata": {
        "id": "mWB2L0ErR3uh"
      },
      "source": [
        "### 9) Can you pull out 10 blog posts that mention the word \"boys\"?"
      ]
    },
    {
      "cell_type": "markdown",
      "metadata": {
        "id": "mBQXjX90R3uh"
      },
      "source": [
        "**Answer:**"
      ]
    },
    {
      "cell_type": "code",
      "execution_count": null,
      "metadata": {
        "id": "HNpJYHkUR3uh",
        "outputId": "059df322-5ab7-4fb7-fed4-0874c8223535",
        "colab": {
          "base_uri": "https://localhost:8080/",
          "height": 1000
        }
      },
      "outputs": [
        {
          "output_type": "display_data",
          "data": {
            "text/plain": [
              "Running query in 'sqlite:///sqlite_data/shashanka.db?charset=utf8mb4'"
            ],
            "text/html": [
              "<span style=\"None\">Running query in &#x27;sqlite:///sqlite_data/shashanka.db?charset=utf8mb4&#x27;</span>"
            ]
          },
          "metadata": {}
        },
        {
          "output_type": "execute_result",
          "data": {
            "text/plain": [
              "+------------+---------+------------------+---------------------+-----------------------------------------------------------------------------------------------------------------------------------------------------------------------------------------------------------------------------------------------------------------------------------------------------------------------------------------------------------------------------------------------------------------------------------------------------------------------------------------------------------------------------------------------------------------------------------------------------------------------------------------------------------------------------------------------------------------------------------------------------------------------------------------------------------------------------------------------------------------------------------------------------------------------------------------------------------------------------------------------------------------------------------------------------------------------------------------------------------------------------------------------------------------------------------------------------------------------------------------------------------------------------------------------------------------------------------------------------------------------------------------------------------------------------------------------------------------------------------------------------------------------------------------------------------------------------------------------------------------------------------------------------------------------------------------------------------------------------------------------------------------------------------------------------------------------------------------------------------------------------------------------------------------------------------------------------------------------------------------------------------------------------------------------------------------------------------------------------------------------------------------------------------------------------------------------------------------------------------------------------------------------------------------------------------------------------------------------------------------------------------------------------------------------------------------------------------------------------------------------------------------------------------------------------------------------------------------------------------------------------------------------------------------------------------------------------------------------------------------------------------------------------------------------------------------------------------------------------------------------------------------------------------------------------------------------------------------------------------------------------------------------------------------------------------------------------------------------------------------------------------------------------------------------------------------------------------------------------------------------------------------------------------------------------------------------------------------------------------------------------------------------------------------------------------------------------------------------------------------------------------------------------------------------------------------------------------------------------------------------------------------------------------------------------------------------------------------------------------------------------------------------------------------------------------------------------------------------------------------------------------------------------------------------------------------------------------------------------------------------------------------------------------------------------------------------------------------------------------------------------------------------------------------------------------------------------------------------------------------------------------------------------------------------------------------------------------------------------------------------------------------------------------------------------------------------------------------------------------------------------------------------------------------------------------------------------------------------------------------------------------------------------------------------------------------------------------------------------------------------------------------------------------------------------------------------------------------------------------------------------------------------------------------------------------------------------------------------------------------------------------------------------------------------------------------------------------------------------------------------------------------------------------------------------------------------------------------------------------------------------------------------------------------------------------------------------------------------------------------------------------------------------------------------------------------------------------------------------------------------------------------------------------------------------------------------------------------------------------------------------------------------------------------------------------------------------------------------------------------------------------------------------------------------------------------------------------------------------------------------------------------------------------------------------------------------------------------------------------------------------------------------------------------------------------------------------------------------------------------------------------------------------------------------------------------------------------------------------------------------------------------------------------------------------------------------------------------------------------------------------------------------------------------------------------------------------------------------------------------------------------------------------------------------------------------------------------------------------------------------------------------------------------------------------------------------------------------------------------------------------------------------------------------------------------------------------------------------------------------------------------------------------------------------------------------------------------------------------------------------------------------------------------------------------------------------------------------------------------------------------------------------------------------------------------------------------------------------------------------------------------------------------------------------------------------------------------------------------------------------------------------------------------------------------------------------------------------------------------------------------------------------------------------------------------------------------------------------------------------------------------------------------------------------------------------------------------------------------------------------------------------------------------------------------------------------------------------------------------------------------------------------------------------------------------------------------------------------------------------------------------------------------------------------------------------------------------------------------------------------------------------------------------------------------------------------------------------------------------------------------------------------------------------------------------------------------------------------------------------------------------------------------------------------------------------------------------------------------------------------------------------------------------------------------------------------------------------------------------------------------------------------------------------------------------------------------------------------------------------------------------------------------------------------------------------------------------------------------------------------------------------------------------------------------------------------------------------------------------------------------------------------------------------------------------------------------------------------------------------------------------------------------------------------------------------------------------------------------------------------------------------------------------------------------------------------------------------------------------------------------------------------------------------------------------------------------------------------------------------------------------------------------------------------------------------------------------------------------------------------------------------------------------------------------------------------------------------------------------------------------------------------------------------------------------------------------------------------------------------------------------------------------------------------------------------------------------------------------------------------------------------------------------------------------------------------------------------------------------------------------------------------------------------------------------------------------------------------------------------------------------------------------------------------------------------------------------------------------------------------------------------------------------------------------------------------------------------------------------------------------------------------------------------------------------------------------------------------------------------------------------------------------------------------------------------------------------------------------------------------------------------------------------------------------------------------------------------------------------------------------------------------------------------------------------------------------------------------------------------------------------------------------------------------------------------------------------------------------------------------------------------------------------------------------------------------------------------------------------------------------------------------------------------------------------------------------------------------------------------------------------------------------------------------------------------------------------------------------------------------------------------------------------------------------------------------------------------------------------------------------------------------------------------------------------------------------------------------------------------------------------------------------------------------------------------------------------------------------------------------------------------------------------------------------------------------------------------------------------------------------------------------------------------------------------------------------------------------------------------------------------------------------------------------------------------------------------------------------------------------------------------------------------------------------------------------------------------------------------------------------------------------------------------------------------------------------------------------------------------------------------------------------------------------------------------------------------------------------------------------------------------------------------------------------------------------------------------------------------------------------------------------------------------------+\n",
              "| message_id | user_id |       date       |     created_time    |                                                                                                                                                                                                                                                                                                                                                                                                                                                                                                                                                                                                                                                                                                                                                                                                                                                                                                                                                                                                                                                                                                                                                                                                                                                                                                                                                                                                                                                                                                                                                                                                                                                                                                                                                                                                                                                                                                                                                                                                                                                                                                                                                                                                                                                                                                                                                                                                                                                                                                                                                                                                                                                                                                                                                                                                                                                                                                                                                                                                                                                                                                                                                                                                                                                                                                                                                                                                                                                                                                                                                                                                                                                                                                                                                                                                                                                                                                                                                                                                                                                                                                                                                                                                                                                                                                                                                                                                                                                                                                                                                                                                                                                                                                                                                                                                                                                                                                                                                                                                                                                                                                                                                                                                                                                                                                                                                                                                                                                                                                                                                                                                                                                                                                                                                                                                                                                                                                                                                                                                                                                                                                                                                                                                                                                                                                                                                                                            message                                                                                                                                                                                                                                                                                                                                                                                                                                                                                                                                                                                                                                                                                                                                                                                                                                                                                                                                                                                                                                                                                                                                                                                                                                                                                                                                                                                                                                                                                                                                                                                                                                                                                                                                                                                                                                                                                                                                                                                                                                                                                                                                                                                                                                                                                                                                                                                                                                                                                                                                                                                                                                                                                                                                                                                                                                                                                                                                                                                                                                                                                                                                                                                                                                                                                                                                                                                                                                                                                                                                                                                                                                                                                                                                                                                                                                                                                                                                                                                                                                                                                                                                                                                                                                                                                                                                                                                                                                                                                                                                                                                                                                                                                                                                                                                                                                                                                                                                                                                                                                                                                                                                                                                                                                                                                                                                                                                                                                                                                                                                                                                                                                                                                                                                                                                                                                                                                                                                                                                                                                                                                                                                                                                                                                                                                                                                                                                            |\n",
              "+------------+---------+------------------+---------------------+-----------------------------------------------------------------------------------------------------------------------------------------------------------------------------------------------------------------------------------------------------------------------------------------------------------------------------------------------------------------------------------------------------------------------------------------------------------------------------------------------------------------------------------------------------------------------------------------------------------------------------------------------------------------------------------------------------------------------------------------------------------------------------------------------------------------------------------------------------------------------------------------------------------------------------------------------------------------------------------------------------------------------------------------------------------------------------------------------------------------------------------------------------------------------------------------------------------------------------------------------------------------------------------------------------------------------------------------------------------------------------------------------------------------------------------------------------------------------------------------------------------------------------------------------------------------------------------------------------------------------------------------------------------------------------------------------------------------------------------------------------------------------------------------------------------------------------------------------------------------------------------------------------------------------------------------------------------------------------------------------------------------------------------------------------------------------------------------------------------------------------------------------------------------------------------------------------------------------------------------------------------------------------------------------------------------------------------------------------------------------------------------------------------------------------------------------------------------------------------------------------------------------------------------------------------------------------------------------------------------------------------------------------------------------------------------------------------------------------------------------------------------------------------------------------------------------------------------------------------------------------------------------------------------------------------------------------------------------------------------------------------------------------------------------------------------------------------------------------------------------------------------------------------------------------------------------------------------------------------------------------------------------------------------------------------------------------------------------------------------------------------------------------------------------------------------------------------------------------------------------------------------------------------------------------------------------------------------------------------------------------------------------------------------------------------------------------------------------------------------------------------------------------------------------------------------------------------------------------------------------------------------------------------------------------------------------------------------------------------------------------------------------------------------------------------------------------------------------------------------------------------------------------------------------------------------------------------------------------------------------------------------------------------------------------------------------------------------------------------------------------------------------------------------------------------------------------------------------------------------------------------------------------------------------------------------------------------------------------------------------------------------------------------------------------------------------------------------------------------------------------------------------------------------------------------------------------------------------------------------------------------------------------------------------------------------------------------------------------------------------------------------------------------------------------------------------------------------------------------------------------------------------------------------------------------------------------------------------------------------------------------------------------------------------------------------------------------------------------------------------------------------------------------------------------------------------------------------------------------------------------------------------------------------------------------------------------------------------------------------------------------------------------------------------------------------------------------------------------------------------------------------------------------------------------------------------------------------------------------------------------------------------------------------------------------------------------------------------------------------------------------------------------------------------------------------------------------------------------------------------------------------------------------------------------------------------------------------------------------------------------------------------------------------------------------------------------------------------------------------------------------------------------------------------------------------------------------------------------------------------------------------------------------------------------------------------------------------------------------------------------------------------------------------------------------------------------------------------------------------------------------------------------------------------------------------------------------------------------------------------------------------------------------------------------------------------------------------------------------------------------------------------------------------------------------------------------------------------------------------------------------------------------------------------------------------------------------------------------------------------------------------------------------------------------------------------------------------------------------------------------------------------------------------------------------------------------------------------------------------------------------------------------------------------------------------------------------------------------------------------------------------------------------------------------------------------------------------------------------------------------------------------------------------------------------------------------------------------------------------------------------------------------------------------------------------------------------------------------------------------------------------------------------------------------------------------------------------------------------------------------------------------------------------------------------------------------------------------------------------------------------------------------------------------------------------------------------------------------------------------------------------------------------------------------------------------------------------------------------------------------------------------------------------------------------------------------------------------------------------------------------------------------------------------------------------------------------------------------------------------------------------------------------------------------------------------------------------------------------------------------------------------------------------------------------------------------------------------------------------------------------------------------------------------------------------------------------------------------------------------------------------------------------------------------------------------------------------------------------------------------------------------------------------------------------------------------------------------------------------------------------------------------------------------------------------------------------------------------------------------------------------------------------------------------------------------------------------------------------------------------------------------------------------------------------------------------------------------------------------------------------------------------------------------------------------------------------------------------------------------------------------------------------------------------------------------------------------------------------------------------------------------------------------------------------------------------------------------------------------------------------------------------------------------------------------------------------------------------------------------------------------------------------------------------------------------------------------------------------------------------------------------------------------------------------------------------------------------------------------------------------------------------------------------------------------------------------------------------------------------------------------------------------------------------------------------------------------------------------------------------------------------------------------------------------------------------------------------------------------------------------------------------------------------------------------------------------------------------------------------------------------------------------------------------------------------------------------------------------------------------------------------------------------------------------------------------------------------------------------------------------------------------------------------------------------------------------------------------------------------------------------------------------------------------------------------------------------------------------------------------------------------------------------------------------------------------------------------------------------------------------------------------------------------------------------------------------------------------------------------------------------------------------------------------------------------------------------------------------------------------------------------------------------------------------------------------------------------------------------------------------------------------------------------------------------------------------------------------------------------------------------------------------------------------------------------------------------------------------------------------------------------------------------------------------------------------------------------------------------------------------------------------------------------------------------------------------------------------------------------------------------------------------------------------------------------------------------------------------------------------------------------------------------------------------------------------------------------------------------------------------------------------------------------+\n",
              "|    6336    | 1980443 | 23,February,2004 | 2004-02-23 00:00:00 |                                                                                                                                                                                                                                                                                                                                                                                                                                                                                                                                                                                                                                                                                                                                                                                                                                                                                                                                                                                                                                                                                                                                                                                                                                                                                                                                                                                                                                                                                                                                                                                                                                                                                                                                                                                                                                                                                                                                                                                                                                                                                                                                                                                                                                                                                                                                                                                                                                                                                                                                                                                                                                                                                                                                                                                                                                                                                                                                                                                                                                                                                                                                                                                                                                                                                                                                                                                                                                                                                                                                                                                                                                                                                                                                                                                                                                                                                                                                                                                                                                                                                                                                                                                                                                                                                                                                                                                                                                                                                                                                                                                                                                                                                                                                                                                                                                                                                                                                                                                                                                                                                                                                                                                                                                                                                                                                                                                                                                                                                                                                                                                                                                                                                                                                                                                                                                                                                                                                                                                                                                                                Paper or Plastic Ms Wiebe told me I couldn't do this really funny commercial that I saw that had to do with paper or plastic, sorry to ruin all you guys fun out there.  Basically the guys needed toilet paper but they bought (alchoholic beverages :) ) instead, lol, when it gets check at the register the lady asks, 'paper or plastic' of course the boys reply in pain - PAPER! hahaha.   i'm gonna' have to go with paper also, you can use it for book covers, and it doesn't tear as easily as plastic.  remember this is for extra credit so, you'll have to bear with it again. c-ya The Bongos will BonGO all night long.... Keep it real, I'm Will                                                                                                                                                                                                                                                                                                                                                                                                                                                                                                                                                                                                                                                                                                                                                                                                                                                                                                                                                                                                                                                                                                                                                                                                                                                                                                                                                                                                                                                                                                                                                                                                                                                                                                                                                                                                                                                                                                                                                                                                                                                                                                                                                                                                                                                                                                                                                                                                                                                                                                                                                                                                                                                                                                                                                                                                                                                                                                                                                                                                                                                                                                                                                                                                                                                                                                                                                                                                                                                                                                                                                                                                                                                                                                                                                                                                                                                                                                                                                                                                                                                                                                                                                                                                                                                                                                                                                                                                                                                                                                                                                                                                                                                                                                                                                                                                                                                                                                                                                                                                                                                                                                                                                                                                                                                                                                                                                                                                                                                                                                                                                                                                                                                                                                                                                                                                                                                                                                                                                                                                                                                              |\n",
              "|   10792    | 1223561 |   29,June,2004   | 2004-06-29 00:00:00 |                                                                                                                                                                                                                                                                                                                                                                                                                                                                                                                                                                                                                                                                                                                                                                                                                                                                                                                                                                                                                                                                                                                                                                                                                                                                                                                                                                                                                                                                                                                                                                                                                                                                                                                                                                                                                                                                                                                                                                                                                                                                                                                                                                                                                       S1   \"It's time\", Ramesh said locking his suitcase. I looked at my wrist, but found no watch there. For a moment, fear gripped me, and impulse reactions travelled down my spinal cord, jerking my hands towards my shirt-pockets, and then to my trousers. Within the moment, I realised that I had kept my watch safely locked in my - either the travel bag or the suitcase. With some uncertain certainty, I looked in Ramesh's direction, and found the big clock some way behind him, about to strike 5:00 PM. \"It's time\" I thought, and as if the lady had heard our thoughts, we heard her, \"Your attention please. No:8888 New Delhi to Kanyakumari, Swarna Bharathi express West is arriving on platform no 7 shortly\". She announced the same sentence verbatim in Hindi, and no sooner did she finish, we heard the distant \"Cooo\" of the train, we felt the ground we were standing on shiver, we saw the people on the platform getting silent momentarily (On hind memory I guess our ears were jarred for that moment), then we saw people getting busy, students, families, businessmen, husbands, wives, policemen, old couples, loud women, distracted men, getting ready with their luggage to get on to the train, getting ready to get on with their lives that seemed to have stalled on this railway platform.  \"The arrival of train,\" Ramesh said, compelling me to abandon my search for the two ends of the train, and listen to him in anticipation of something interesting. \"It creates so much of panic among people. People who have got reservations, people who know the train is going to stop for a while, still get very panicky when they hear the train come in\" said Ramesh sounding amused. \"Well, nobody wants to miss the train, no body wants to miss their seat\" I countered, as the train came to a halting stop. \"It's not so much about missing than it's about compettion - to be among the first\", Ramesh re-countered, walking slowly towards his compartment. \"The earlier you are in the lesser hassle it is\" I said. We started to move towards S7, which was Ramesh's bogie. We had to move towards our right, against all the passengers hurriedly moving to the bogies on the descending side of 7. It wasn't as difficult, moving a couple of luggages that Ramesh had, as it was to wade through the opposing passenger flow. For a moment I wondered if the ones moving opposite to us felt the same, and I ended up smiling lightly, with a sense of discovering something as subtle as.... as dew drops on a petal.  We came close to the door of S7, and since we walked slowly to it, the crowd of passengers that usually cling at the door had thinned. Ramesh got into the bogie with his travel bag and I helped him with his suitcase. I got into the compartment too, dragging the suitcase till we reached seat No: 16. \"I wish everybody had carried as little luggage as I do all the time, it makes so many lives easier\", he said slightly panting. There were people around trying to settle their luggage under the sleepers, over the upper berths, towards the window (the waterbottles). Permutations were discussed, combinations were tested, deals had been made, arrangements had been agreed, wars were fought, treaties signed, and peace was restored before all the passengers started to settle. I figured out that the best place for me was the side of the window to ramesh's from outside, and I promptly came out.  \"Not too many from our place this time on this train\", I said. Ramesh looked at me as if I was stating something too obvious. I understood the reason behind the look. Soon my train will come, but it'll be so in contrast to the one Ramesh is in. While he's unlikely to go around the train looking to find people, there would probably be not too many looking out expecting to see him. We have been going to our homes every year, but this time it is different. We were going back, back to our homes, back to where our lives were going to take us. End of schooling is the end of a way of life as we knew it, so this was effectively the last time to say good byes. Somewhere deep down, we were optimistic of meeting each other, bumping into each other, working with each other, working for one another, but deeper down there was just this doubt, this apprehension, this misgiving that may be it'll be a long time before we can say \"Hi\" to each other again. Ramesh was least worried about saying goodbyes. And considering the fact that we were cross with each other a couple of days back, he might just have not expected me to come and say Goodbye to him.  I had come to the Xaviers Boarding school in Delhi when I was about to get into the 5th grade. My father, was a wealthy accountant, who was enamoured with distant lands and good education. But the only good education according to him was being an engineer or a doctor or a lawyer. You couldn't blame him for what he thought were respectful professions, for these were the three professionals he had felt for the part of his life could make more money than him. And of course, Collectors. But collectors though representative of high intellect, were, according to him mere gloves to the hands of bureaucracy. He hadn't seen too much of difference between a politician and a collector, and ever since I had written the right sequence of numbers from 1 to 50 when I was in the first grade in a small school in Hyderabad, he wanted me to be an Engineer. The engineer was one of the most persistent ambitions I had had when I hadn't known what it meant or what it entailed. But among all when-I-grow-up-I-want-to-be-an-xxx's that I would blabber in my golden days of ignorance and innocense the \"I want to be... an Engineer\" seemed to be a mantra that seemed to please and sober my father in his most delicate moments of thoughts, worries, anxieties, curiosities, misgivings, apprehensions about my future. In fact, for a long time, I was under the impression that the Engineer was responsible, among many other things (like building the dam, creating biggggu buildings), for getting the steam out of the train engine. Somehow, engine-engineer, seemed to just make some weird sense to me, and I had the engine-driver and the engineer synonymously coexist in my mind. But then, I was then too young to remember my past, or think of the future. All I was, was just being awed by the present.  And so it was, my dreams already dreamt and re-dreamt in my parents' eyes. And along with their genes, and love, I had inherited them. Until now. It was after one whole summer of my being in Xavier's that Ramesh too found his way to the dormitory I was in. We were just 10+ boys then, and he had been admitted into the school by this then-fighting-now-divorced parents. Ramesh looked to me then like a shy, intelligent, nerdy geek, a thin frame, with thick glasses that escorted his eyes with a vision towards - infinity or nothingness, I didn't know then. I did not know about his or his parent's history, and I wanted to intimidate him in his early days (just like I was, in my early days). But something in him restrained me from doing so. I don't know if it was a feeling of sympathy for the boy-who-saw-into-nothing, or a feeling of awe for the geek-who-could-see-infinity. In fact, whenever he was around in the dorm, after the classes, after the evening cricket matches, after the dinners, I could feel some presence, an overwhelming presence of nothingness. It was as if you felt you were being followed, you looked back, expecting to dismiss your feelings, and eventually finding out that your feelings weren't illusions. For the first one week, the only conversations we have had living on adjacent beds were the dialogues of introduction, and occassional invitations from me to him for some outdoor games. Ramesh was polite in his conversations, but never reciprocated. He had carefully given me an impression that he never cared. Within a week, I had enough prejudices on him and I wondered how he would live the rest of his life without any friends.                                                                                                                                                                                                                                                                                                                                                                                                                                                                                                                                                                                                                                                                                                                                                                                                                                                                                                                                                                                                                                                                                                                                                                                                                                                                                                                                                                                                                                                                                                                                                                                                                                                                                                                                                                                                                                                                                                                                                                                                                                                                                                                                                                                                                     |\n",
              "|   19342    |  518116 |  15,April,2003   | 2003-04-15 00:00:00 |                                                                                                                                                                                                                                                                                                                                                                                                                                                                                                                                                                                                                                                                                                                                                                                                                                                                                                                                                                                                                                                                                                                                                                                                                                                                                                                                                                                                                                                                                                                                                                                                                                                                                                                                                                                                                                                                                                                                                                                                                                                                                                                                                                                                                                                                                                                                                                                                                                                                                                                                                                                                                                                                                                                                                                                                                                                                                                                                                                                                                                                                                                                                                                                                                                                                                                                                                                                                                                                                                                                                                                                                                                                                                                                                                                                                                                                                                                                                                                                                                                                                                                                                                                                                                                                                                                                                                                                                                                                                                                                                                                                                                                                                                                                                                                                                                                                                                                                                                                                                                                                                                                                                                                                                                                                                                                                                   ahhh...the ho-hum of life settles back in.  I have been relaxing, trying to have fun, and get all my crap done at the same time...not working so well!  I read \"What Dreams May Come\"...one of my fav movies, the book was pretty cool too.  It explained some of what the movie wasn't able to cover.  I also read \"Riding in Cars with Boys\"...again, love the movie.  The movie was actually just about a mirror of the book.  I have really missed reading...my next is \"Tuesdays with Morrie\"...I have heard it is a good one, we'll see!  For non-fiction, I am reading \"Exciting Careers with Sociology\" or something to that extent...before I commit to going back to school, I thought I would research what my possibilities are with my current degrees.  I have the Psychology one as well but haven't had a chance to start.  Planted a dozen rose hedges this weekend...what fun!  I can't wait to see them grow/blossom.  6-8 weeks!  I am now waiting for my miniature rose plants for mother's day.  I am hoping they get here this week yet...I am going to my in-laws for the first time in a year and would like to bring them now.  My grandma bought an african violet for me...I am hoping I don't kill it...my clover is not doing so hot...it keeps dying, coming back, etc!  I don't know why...I think it is the feng shui bug biting...but I have a thing for plants lately.  Went to MI City on Saturday with my friend and both our kids.  It was kind of chilly but we had a good time.  Hubby didn't scream at me about my purchases either...amazing!  We really have been doing so much better...I think that my resolve to behave mixed with my vacation has mellowed me...things aren't as serious as I used to crack them up to be.  It is so much more fun to enjoy life than have your panties up in a bunch.  Tomorrow is  DAY ONE  of the infamous Pfizer take over...we shall see.  No news in the big K-zoo on what's staying or what's going...  Before I go...I LOVE PUNK'D!  It cracks me up!  This is so my sick humor...why didn't I market that idea first?!  Halarious!                                                                                                                                                                                                                                                                                                                                                                                                                                                                                                                                                                                                                                                                                                                                                                                                                                                                                                                                                                                                                                                                                                                                                                                                                                                                                                                                                                                                                                                                                                                                                                                                                                                                                                                                                                                                                                                                                                                                                                                                                                                                                                                                                                                                                                                                                                                                                                                                                                                                                                                                                                                                                                                                                                                                                                                                                                                                                                                                                                                                                                                                                                                                                                                                                                                                                                                                                                                                                                                                                                                                                                                                                                                                                                                                                                                                                                                                                                                                                                                                                                                                                                                                                                                                                                                                                                                                                                                                                                                                                                                                                                                                                                                                                                                                                                                                                                                                                                                                                                                                                                                                                                                                                                                                                                                                                                                                  |\n",
              "|   22807    |  664485 |   18,May,2004    | 2004-05-18 00:00:00 |                                                                                                                                                                                                                                                                                                                                                                                                                                                                                                                                                                                                                                                                                                                                                                                                                                                                                                                                                                                                                                                                                                                                                                                                                                                                                                                                                                                                                                                                                                                                                                                                                                                                                                                                                                                                                                                                                                                                                                                                                                                                                                                                                                                                                                                                                                                                                                                                                                                                                                                                                                                                                                                                                                                                                                                                                                                                                                                                                                                                                                                                                                                                                                                                                                                                                                                                                                                                                                                                                                                                                                                                                                                                                                                                                                                                                                                                                                                                                                                                                                                                                                                                                                                                                                                                                                                                                                                                                                                                       my boyfriend tells me i am sensitive, sometimes in a cute pathetic kinda of way and sometimes in a self-destructive hurt myself because others are hurting kinda way.   somewhere deep in me, i want to save the world. i want to bring peace and humanity and justice. i want to feed the starving children in africa with my hands, i want to join the peace cor, i want to take in every stray cat and dog, i want to open up my home to every child, every stranger, every person that just needs one. i want to love someone, give out hugs and kissies and make the booboos go away.  but sometimes, wanting is all that i seem to achieve. wanting isn't quite the same as doing. procrastinating, and all that other crappy stuff gets in the way. and sometimes i sit alone and blame myself, blame the world, blame god.   it hasn't been a good year for most at all...sometimes the events that seem so integral to life just bogs you down, fucks you up along the way. i've never been good at dealing with death, as much peace as that would bring someone, as much as i know that that someone is in a place where the sun always shines and pain isn't even a feeling considered, i still cry.   so this is for baby muhammad, and rick.  this is for akari and grandma and brian.   this is for mun joon and all my other angels in the peadatric ward.   this is for yule and to the fragile existence of life.  i hung out with the kids today and it was beautiful. innocence and wonder, amazement and adoration. i loved every second of it. the way babies smell or the incomprehensible language that toddlers talk, the way i have stains on my pants from spitups and playing with the kids out in the yard. the way justin giggles and giggles and giggles. my happy child that one. or alex's fascination with strings....but the most amazing thing is loving them, teaching, nuturing caring. the way that they look up to you, the way that you look up to them too. the way that life is so magical and strange at the same time. the way babies grow into toddlers into preschoolers into children into teenagers into adults into mothers and fathers and into grandparents. the way that no matter who they are or what they become, that they will always be the children that i picked up after a nap, burped after a feeding, kissed their booboos and played the tickle tree with. the kids i read to on a rainy day and the babies i rocked to sleep. the little boys and girls that i worried my heart out as they trampled around the playground unaware of just how high or how dangerous it could be. the angels i cared for in a converted basement that was our sanctuary, the children i laughed, played, cried, and giggled with.   death is a strange painful thing. there's a curiousity that attaches to it but shatters you at the same time.   there must be a heaven, and in that heaven the kids are there playing, laughing, smiling. no more booboos. and in that heaven, there is also my grandma teaching uncle yule how to make sponge cake, while rick and brian are busy poking fun at the blogging world. yes, there is a heaven.  and maybe i'll see them all again there someday.   hugs.   urlLink   \"We've all come a long way, and life did get very complicated. We all have something, but not everything. We've had love, and saw love lost. We've had our dreams fulfilled to the ends of the earth, but only after we've had it snatched from us over and over again. We were given joy, but in unexpected ways. We are offered happiness over the horizon, but on the condition that we let go of the comfort of our shores.  A lot of things happened to us in the last 6 years. But someone once told me, God never burdens us with more than He knows we can bear. \"                                                                                                                                                                                                                                                                                                                                                                                                                                                                                                                                                                                                                                                                                                                                                                                                                                                                                                                                                                                                                                                                                                                                                                                                                                                                                                                                                                                                                                                                                                                                                                                                                                                                                                                                                                                                                                                                                                                                                                                                                                                                                                                                                                                                                                                                                                                                                                                                                                                                                                                                                                                                                                                                                                                                                                                                                                                                                                                                                                                                                                                                                                                                                                                                                                                                                                                                                                                                                                                                                                                                                                                                                                                                                                                                                                                                                                                                                                                                                                                                                                                                                                                                                                                                                                                                                                                                                                                                                                                                     |\n",
              "|   29787    | 1011311 | 11,December,2002 | 2002-12-11 00:00:00 |                                                                                                                                                                                                                                                                                                                                                                                                                                                                                                                                                                                                                                                                                                                                                                                                                                                                                                                                                                                                                                                                                                                                                                                                                                                                                                                                                                                                                                                                                                                                                                                                                                                                                                                                                                                                                                                                                                                                                                                                                                                                                                                                                                                                                                                                                                                                                                                                                                                                                                                                                                                                                                                                                                                                                                                                                                                                                                                                                                                                                                                                                                                                                                                                                                                                                                                                                                                                                                                                                                                                                                                                                                                                                                                                                                                                                                                                                                                                                                                                                                                                                                                                                                                                                                                                                                                                                                                                                                                                                                                                                                                                                                                                                                                                                                                                                                                                                                                                                                                                                                                                                                                                                                                                                                                                                                                                                                                                                                                                                                                                                                                                                                                                                                                                                                                           Today, I went to drivers ed, and during class I went to the bathroom and realized that the whole time I've been going to drivers ed I've been using the boys bathroom, so feeling stupid I found the girls bathroom. But I couldn't find the light in the girls bathroom, but feeling stupid already I decided to just pee in the dark instead of going back to the boys bathroom.  Well all was good until I looked up and realized their was a skylight (not that any light was coming in because it was dark) but there were shadows, and I somehow convinced myself that an alien was watching me pee on top of the window and I got all freaked out and ran out of the bathroom (after wiping and flushing of course) but let me tell you, it was scary.  Not to mention yesterday there was an Easter bunny on tv, and if you know me you know I was NOT ok with that.  At all.  So needless to say, it's been a scary 2 days.  Yeah.  Today....I don't remember anything particularly exciting or worth writing about besides what I previously shared with you...so this is where I shall end.    *~ You should have seen that sunrise, with your own eyes...it brought me back to life~ John Mayer*                                                                                                                                                                                                                                                                                                                                                                                                                                                                                                                                                                                                                                                                                                                                                                                                                                                                                                                                                                                                                                                                                                                                                                                                                                                                                                                                                                                                                                                                                                                                                                                                                                                                                                                                                                                                                                                                                                                                                                                                                                                                                                                                                                                                                                                                                                                                                                                                                                                                                                                                                                                                                                                                                                                                                                                                                                                                                                                                                                                                                                                                                                                                                                                                                                                                                                                                                                                                                                                                                                                                                                                                                                                                                                                                                                                                                                                                                                                                                                                                                                                                                                                                                                                                                                                                                                                                                                                                                                                                                                                                                                                                                                                                                                                                                                                                                                                                                                                                                                                                                                                                                                                                                                                                                                                                                                                                                                                                                                                                                                                                                                                                                                                                                                                                                                                        |\n",
              "|    3052    | 1785539 |  06,August,2004  | 2004-08-06 00:00:00 |    Dorks, dorks, dizzydorkles. How've ya been?  I hope that you all didn't blow up or get mono.  I did neither.  I be busy with my new apartment ... and my new XBox.   The apartment thing is going smoother than a fatty's trip to the store for some Twinkies.  And you know fatties make it easy because of the fat. The apartment is a perfect blend of Glade Plug-Ins and my Adidas, Pink and Knives, Utensils and B.B. Guns, Stuffed animals and Porn.  Many nights I stay up late to play my XBox and drink beer long after R. Slumber's has gone to rest and I think, \"I live with a girl and I haven't died yet.  Wicked.\" Plus, I've convinced her to call me \"Best Rapper Alive\" (the new Jay-Z album is good), so that makes it awesomererererrr. I cook and I clean dorks.  I'm getting matureereerrrer. Every morning I: -brush AND rinse. -put foot cream on feet -take calcium pills for weakening bones (especially my knees). -take antidepressant so I don't scream \"Lead pipes! Head blow!\" while at work. -take a Claritin b/c my body now hates grass, pollen, bees, peanut butter, milk, cheap beer, whores, Montana and cats. -make a lunch, which I actually do at night. -return my towels to where they belong, not in R. Bumpers car!   -put things in \"hampers\" I like it dorks, I'm getting it down!   Hahahahahahahaha, fuck, Brent you are so funny.  It's easy to do what you do.  I bet one day you woke up and could write so goddamned good. NO! To play like the playa I be you gots to play lots like me. I found some of my old writings the other night while unpacking, dorktittyers.  The paper is fading and they might soon be lost, so I'm going to post them here. And they will live for enternity in your hearts. Then you will realize the path of the genius. The following are journal entries I wrote during \"Career Math\" my senior year in high school (6 years ago now).  I had elected to take Career Math instead of Triangle Math because I wanted to slack and daydream about ninjas and Pringles (which will be evident here very, very soon, Dorklock Holmeseesssesss).   I fit in about as much as an eskimo fits in at a Subway. \"Mighty Quin like seal on sandwich.\" \"That's a very racist impersonation of an eskimo ordering lunch.  GET OUT! Lead pipes!\" \"Mighty Quin alone with hunger.\"  On the second week we learned to do addition.  What did we do the first two weeks?  Regression of horror keeps me from telling you.  I wrote most of these in 2 minutes (like my blog!). I won't change my typos, just for you.  Let's do it, dorks.   (Name three people you'd like to meet and why.) Kirby Puckett - He's, in my opinion, one of the greatest baseball players ever.  But he's more than that he's a great human being, always nice to his fans and he held on to playing the game until he couldn't go any further. Teddy Roosevelt- He's the guy who said walk softly and carry a big stick, the way I think every man should live his life.  I'd like to go on safari with him and shoot lions and Rhinoceroses and giraffes and bears. Beastie Boys (all of them) - It'd be cool. We'd break stuff and yell at people and other stuff.  I think they are great musicians I like that Sabotage son.  Bum-bum-bum-bum-It's a SABOTAGE!  (Philosophy on life) My philosophy on life is simple it comes in three easy statements #1 = never worry about anything that will not matter a week from now. #2=God is real #3= Do what you gotta do. It's that simple.  It's like one of them No Fear shirts.  They're pretty comfortable and they got some pretty witty statements like \"Beat Death Up when he comes for you.\"  I agree.  It's like that poem \"Don't go gently ...\"  It goes \"Blah, Blah, Blah, RAGE, RAGE against that thing Blah, Blah\"  It's a good poem, you gotta fight for your right. You know 'cause life's just like a big spinning wheel you gotta stay ahead of it or else it would crush you and you'd go \"Ahhhh.\" Life is good.  (Something you wanted but couldn't have) I wanted a bear, a real live grizzly bear.  But my mom was like \"yah, yah, yah, it will eat you yah, yah, yah, blod and guts, yah, yah, yah, shut up\" so I felt bad and I went to the zoo and hopped in the bear pit.  Sure enough the bear was mad.  He tried to eat me.  So I ripped out his throat and showed it to him.  I was like \"Hi-Ya\" and his body went thunk.  The zoo people were like \"you killed him, we kill you\"  But my mom showed up and they wussed out.  Boy she was mad.  But I was like \"It was scary.\" So she gave me some Jello Pudding Pops.  I like them Jello Pudding pops.  I eat them up.  \"Slurp!\" That's what it's like.  I like bears a lot though they're pretty cool.  I wouldn't like to just fight with them.  (How to save electricity)  *Turn off lights *Be Amish *Live in the woods *Bonfires *Be homeless *Unplug dryer and shake dry *Take cold showers *Don't do anything *Blow up the electricity company *Rip out your neighbors electrical lines *Shoot out your lights *Get rid of your TV and hide in your neighbors bushes and watch thier TV  Just don't knock on their window and say \"Hey, turn it up.\"  They'll know you're there then.  (A good investment and a bad investment) I bought a tattoo that was cool.  The needle didn't feel nice and I think the guy who did it was into drugs.  But it was a good investment it was worth it.  I think I'll get lots of chicks b/c of it. A bad investment was when I got the salad bar and some cheez stix at a restaurant.  I was REALLY hungry and I had plenty of $ so I thought, \"Hey\" and I ordered lots but after like 3 bites I was Ll \"Uhh, I'm stuffed.\"  That was stupid of me it cost a lot and I felt sick.  My tattoo is better than a salad.  Although, you can't eat my tattoo, unless you're a freak like on that movie \"Alive\" when they ate that ladies flesh.  They were just supposed to play soccer, not eat flesh!  (Something about the middle east and what you want to do with laws.  Not really sure, they start to get whackier.  And please remember that I wasn't this dumb, just this bored.) I think we should blow up all of the Middle East, even the countries we like.  Those sand people always get you in the end.  Sadam Hussein would have been a really bad leader if he was VOTED in.  I think our guns are pretty good now-a-days.  WE can shoot pretty far and do LOTS of damage.  Iraq is supposed to be really big on American TV shows like \"Mama's Family\" or so they say.  Those big ships we keep sending over there are pretty big.  I bet they'd be pretty scary to see coming across the water.  If I were the president I would make it illegal to NOT turn right on red.  I always get stuck behind some doofus. I think it would be nice if it were legal to knock down people on bikes.  (People that bother you) My brother Mrs. (teacher in high school) Communists Chipmunks, especially when they make that noise. My boss Freakin Santa always wantin' me to be nice. Drunk girls at parties Mexicans who stand in the road. Big mecanics who think you should pay $95 for new brakes like it's their car and then they say that they can't let you go. Drunk girls at McDonalds People who ring bells and ask for $ Old women who think you're cute Drunk girls who go trick-or-treating at 3 in the morning. Drunk girls that puke when you're trying to make a move.  (Opinion on prayer in school) I was thinking about prayer and I decided it would be best if kids could say a little prayer, it's like Madonna when she said \"poppa, don't preach, I'm in love again.\"  It's more like \"teacher don't preach, these kids can't handle it.\" God is everywhere and everyone can talk to him so why can't you be in Geometry and be like \"God you're cool.\"  Because sometimes we all need to talk to God. especially at school.  Yep, God knows what we're going thru so I think the teachers need to get rectified (?).  We need a new Crusades where we go thru the schools and chop people's heads off if they don't let you pray (Tell me, dorks.  Was this written pre-Columbine?  Today's kids would be put in sand people jail for writing that!) We'll be like \"Pray\" and if they say \"No\" We'll go \"Arrr\" and hit them with an axe.  (Scariest movie?  What do you think of Halloween?) Scariest movie is the original \"Night of the Living Dead\".  Oh boy, I almost wet my pants every time I see that one.  They try to burn them zombies but they can't do it.  They all die but these two people live but they get shot.  This little girl eats HER OWN MOTHER.  Ahhhh!  My god, my mother would take my driving privelages away if I even thought about eating her (no snickers, you sick fuck dorks).  But this girl did it (hehe).  She went \"Ahh-Chomp-Chomp\".  And then she got shot.  I once saw this kid walking around on Haloween with a shovel sticking out of his head.  I thought it was a pretty scary costume.  I got scared.  The kid kept saying, \"For the love of God, it's real, call the paramedics.\"  Sure enought it was for real and he died, but he was very scary.  (Current event or space bugs.) Starship Troopers is a very current even.  It's the biggest movie about killer bugs since \"Schindler's List\".  I like it.  It's making a lot of $ I hear they are going to take all the $ it's making and give it to the poor people for welfare.  That will solve the problem.  What if those space bugs were real.  I bet I would hide if I saw one.  But if there was a girl around I'd stop hiding and kill some space bugs.  BOOM-BOOM that would be my gun.  Those space bugs would be like \"AHHHHH\" and I'd go \"Ha-ha-ha\" or \"Ho-ho-ho\" if I felt like all Christmasey.  I like Christmas.  But I like Starship Troopers better.  I've seen it twice.  I want to see it again.  I only saw Schindler's List once.  It was good.  It was about Nazis.  (Something you want to change about yourself) I would like to change my height.  I wish I was 20 ft. tall and all the people would say \"Hey tall guy\" and if I didn't like them I'd go \"Arrrr\" and step on their heads.  So there.  I want to keep my head though, it is good to have around.  I once saw a guy get his head taken off and he wasn't happy.  It was on a Popeye cartoon so he didn't die, but he was sad.  Popey was cool.  He like spinach.  Have you ever tried spinach on your pizza (teacher response: nope) it is good.  (New Year's resolution) My New Year's resolution can best be summed up in a poem by Shel Silverstein (a.k.a. Best Rapper Alive).  I came upon a box and opened it up wide and gasped to see a dead body dead inside. There was a note attached that he'd decided to leave that only said... \"I forgot to breathe\". That's all .. I resolve to remember too breathe.  (Million dollar house or million dollar car?) I'd want a car I'd put all sorts of things on it like guns and wheels and paint.  It'd be like r-r-r-r-r-Purring like a kitten.  All the girls would be like \"Hey, big Brent boy\" and I'd be like \"Hey, baby\" than their boyfriends would be like \"Hey you, go away\"  than I'd pull out my rocket launcher and be all KA-BOOM and they'd go \"splat\" so than I'd tell their woman to get in and she'd love me because my car is really cool.  I'd be like Burt Reynolds on Smokey and the Bandit.  \"This is the Bandit,\" I'd say.  \"No, it's Brent,\" they'd say.  Then I'd run them over with my car.  I'd be mean, real mean and I could live in my car.  I don't need a house my car is cool. Vroom-Vroom all aboard the fast car machine!  (Interesting?) Something that I find interesting is Madonna.  She's the material girl and she don't want her poppa to preach.  I think she's cool.  She's all like \"If I want to wear cones on my breasts and get freaky then that's my business.\"  She had that book named Sex.  Taht's a good name for a book.  If I were to write a book it not be about sex though it would be about grizzly bears.  I bet Madonna wouldn't think twice about shooting a grizzly bear because she's a superstar and probably a jerk.  (Write about mean, median and mode) (Nope.)  That's about it for my career math writing career.  You see, dorks, it takes a lot of time and talk about grizzlies to be a world class writer like I am.  dorksdontrock is what it is today thanks to my time in Coach Head Guy's class.  I'll never forget you, Coach Head Guy With Glasses. And I'll never forget you dorks.  You are all so cute. (Psssst, I found my creative writing stuff too..... shhhhhhh). Weekend, dorks.  |\n",
              "|    5498    | 4115407 |  09,August,2004  | 2004-08-09 00:00:00 |                                                                                                                                                                                                                                                                                                                                                                                                                                                                                                                                                                                                                                                                                                                                                                                                                                                                                                                                                                                                                                                                                                                                                                                                                                                                                                                                                                                                                                                                                                                                                                                                                                                                                                                                                                                                                                                                                                                                                                                                                                                                                                                                                                                                                                                                                                                                                                                                                                                                                                                                                                                                                                                                                                                                                                                                                                                                                                                                                                                                                                                                                                                                                                                                                                                                                                                                                                                                                                                                                                                                                                                                                                                                                                                                                                                                                                                                                                                                                                                                                                                                                                                                                                                                                                                                                                                                                                                                                                                                                                                                                                                                                                                                                                                                                                                                                                                                                                                                                                                                                                                                                                                                                                                                                                                                                                                                                                                                                                                 i've been hearing about alot of relationship provlems lately, and im not talkin about only u karina, i mean i watch how my dad and my stepmom relationship is, i hear about my other friends problems. I mean i hope i never have to deal with a physical abuse relation cause if i do im kickin his butt first then im leaving him lol, but im glad that i have a bf that wont well he said he wouldnt and i believe him, that wont hit me, i mean when i hear that girls have been killed by their boyfriends that pisses my off, cause they shoudnt hace stayed in the abusive relationship to the point where he killed u, im mean u may love him, but he doesnt love u if he is willin 2 kill u, y would u want a man that puts his hands on. There is also the relationships where only the boys want sum, but dont want u for ur personality, i mean a girl can be attractive but dont waste a girl's time 4 that, im glad he isnt like that either, i dont think he is, i hope he isnt. Im jus glad i found sum 1 that would treat me right, i mean this summer i think i saw him like twice, but that was because i was doin stuff, and he wasnt here, then i wasnt there, but i think i kno him enough to kno that he wouldnt do that. Even though he can get moody and ignore me but, im sure he doesnt do it on purpose and i dont mind if he does, i mean i do, but i dont it a big deal, i rather him ignore me than yell at me, or abuse me mentally or physically. I hope that it works out, but even if it does during high school will it during college, cause im goin 2 college and im goin 2 california, and i dont think his parents would want him follwong sum girl, but maybe we will move together, i hope, that would be cool, if we did. But im greatful, and i hope that all my friends and family could work out or meet the person who would treat them right.                                                                                                                                                                                                                                                                                                                                                                                                                                                                                                                                                                                                                                                                                                                                                                                                                                                                                                                                                                                                                                                                                                                                                                                                                                                                                                                                                                                                                                                                                                                                                                                                                                                                                                                                                                                                                                                                                                                                                                                                                                                                                                                                                                                                                                                                                                                                                                                                                                                                                                                                                                                                                                                                                                                                                                                                                                                                                                                                                                                                                                                                                                                                                                                                                                                                                                                                                                                                                                                                                                                                                                                                                                                                                                                                                                                                                                                                                                                                                                                                                                                                                                                                                                                                                                                                                                                                                                                                                                                                                                                                                                                                                                                                                                                                                                                                                                                                                                                                                                                                                                                                                                                                                                                                                                                                                                                                                                                                                                                 |\n",
              "|    7150    | 2977760 |   13,July,2004   | 2004-07-13 00:00:00 |                                                                                                                                                                                                                                                                                                                                                                                                                                                                                                                                                                                                                                                                                                                                                                                                                                                                                                                                                                                                                                                                                                                                                                                                                                                                                                                                                                                                                                                                                                                                                                                                                                                                                                                                                                                                                                                                                                                                                                                                                                                                                                                                                                                                                                                                                                                                                                                                                                                                                                                                                                                                                                                                                                                                                                                                                                                                                                                                                                                                                                                                                                                                                                                                                                                                                                                                                                                                                                                                                                                                                                                                                                                                                                                                                                                                                                                                                                                                                                                                                                                                                                                                                                                                                                                                                                                                                                                                                                                                                                                                                                                                                                                                                                                                                                                                                                                                                                                                                                                                                                                                                                                                                                                                                                                                                                                                                                                                                                                                                                                                                                                                                                                                                                                                                                                                                                                                                                                                                                                                                                                                                                                                                     I starting to see that boys suck.  Okay not all of them, but some of them.  Maybe it's just me, but I hate the way they leave you hangin'.  And you try not to think about it (whatever \"it\" maybe), but you end up doing it anyway. (Did that come out right?)  So than you wonder why can't the be more understanding about things and try to see something from your P.O.V.  But do they? no.  And why do they get so mad when things don't go their way???   Anyone w/ me on this??                                                                                                                                                                                                                                                                                                                                                                                                                                                                                                                                                                                                                                                                                                                                                                                                                                                                                                                                                                                                                                                                                                                                                                                                                                                                                                                                                                                                                                                                                                                                                                                                                                                                                                                                                                                                                                                                                                                                                                                                                                                                                                                                                                                                                                                                                                                                                                                                                                                                                                                                                                                                                                                                                                                                                                                                                                                                                                                                                                                                                                                                                                                                                                                                                                                                                                                                                                                                                                                                                                                                                                                                                                                                                                                                                                                                                                                                                                                                                                                                                                                                                                                                                                                                                                                                                                                                                                                                                                                                                                                                                                                                                                                                                                                                                                                                                                                                                                                                                                                                                                                                                                                                                                                                                                                                                                                                                                                                                                                                                                                                                                                                                                                                                                                                                                                                                                                                                                                                                                                                                                                                                                                                                   |\n",
              "|    4938    | 3869854 |   29,July,2004   | 2004-07-29 00:00:00 |                                                                                                                                                                                                                                                                                                                                                                                                                                                                                                                                                                                                                                                                                                                                                                                                                                                                                                                                                                                                                                                                                                                                                                                                                                                                                                                                                                                                                                                                                                                                                                                                                                                                                                                                                                                                                                                                                                                                                                                                                                                                                                                                                                                                                                                                                                                                                                                                                                                                                                                                                                                                                                                                                                                                                                                                                                                                                                                                                                                                                                                                                                                                                                                                                                                                                                                                                                                                                                                                                                                                                                                                                                                                                                                                                                                                                                                                                                                                                                                                                                                                                                                                                                                                                                                                                                                                                                                                                                                                                                                                                                                                                                                                                                                                                                                                                                                                                                                                                                                                                                                                                                                                                                                                                                                                                                                                                                                                                                                                                                 The same day I got back from Montreal, I found out that one of my friends in the Chorus had died.       Eric was one of those guys who was always around, and you always expected him to be there.  He was quiet, unassuming, and warm.  Yet he never wanted anything special.  He just was a good person.       He had a penchant for drag.  In fact, he made a knockout drag queen.  And he was fiercely talented when it came to makeup.  Many of the boys in the Chorus came to him for makeup tips whenever they needed to be done up for a show.         He had a radiant smile.  It lit up the room.  And a hearty laugh to back up the smile.       He wasn't one of my best friends, but he was, indeed, a friend.  Four years ago when I was working a dead-end job in retail, he stopped in at the store and we had a long talk about how I wasn't happy with my job and needed to find something new.  Eric helped me.  He recommended me for a position where he was working.  I went in for an interview, but it wasn't the right fit for me at the time.  However, hedidn't stop there.  He got me in contact with a former co-worker of his who was leaving her position at the law firm she was working at.  I interviewed with them, and have been there now for the last 3 years.  Without his encouragement and that extra push that he gave me, I might not have made the transition at all.  I have Eric to thank for that.       Having said that, I certainly hoped I appropriately thanked him.  I'm pretty sure I did, but if not...       Eric, thank you.  You were a true friend.         I will miss you.                                                                                                                                                                                                                                                                                                                                                                                                                                                                                                                                                                                                                                                                                                                                                                                                                                                                                                                                                                                                                                                                                                                                                                                                                                                                                                                                                                                                                                                                                                                                                                                                                                                                                                                                                                                                                                                                                                                                                                                                                                                                                                                                                                                                                                                                                                                                                                                                                                                                                                                                                                                                                                                                                                                                                                                                                                                                                                                                                                                                                                                                                                                                                                                                                                                                                                                                                                                                                                                                                                                                                                                                                                                                                                                                                                                                                                                                                                                                                                                                                                                                                                                                                                                                                                                                                                                                                                                                                                                                                                                                                                                                                                                                                                                                                                                                                                                                                                                                                                                                                                                                                                                                                                                                                                                                                                                                                                                                                                                                                                 |\n",
              "|   29954    | 1011311 |  12,August,2003  | 2003-08-12 00:00:00 |                                                                                                                                                                                                                                                                                                                                                                                                                                                                                                                                                                                                                                                                                                                                                                                                                                                                                                                                                                                                                                                                                                                                                                                                                                                                                                                                                                                                                                                                                                                                                                                                                                                                                                                                                                                                                                                                                                                                                                                                                                                                                                                                                                                                                                                                                                                                                                                                                                                                                                                                                                                                                                                                                                                                                                                                                                                                                                                                                                                                                                                                                                                                                                                                                                                                                                                                                                                                                                                                                                                                                                                                                                                                                                                                                                                                                                                                                                                                                                                                                                                                                                                                                                                                                                                                                                                                                                                                                                                                                                                                                                                                                                                                                                                                                                                                                                                                                                                                                                                                                                                                                                                                                                                                                                                                                                                                                                                                                                                                                                                                                                                                   Making fun in the dark...  So as most of you know the power went out yesterday.  It all started when George, Tash, Artie and I were at Dunkin Donuts.  It got quite hot quite fast so we decided to go to my house, thinking there would be power there.  We were wrong.  But nonetheless we sat around and did nothing, then decided to go and see if Wal Mart was open.  Weren't we suprised when we found that the power was out everywhere.  Thats when we turned on the radio, and I called my mommy, and we found out the power was out from Ottowa to Michigan.  Needless to say, no Wal Mart.  We returned home and George and Artie went out to get some exciting power out fun.  They returned with Booth, a radio, candy, and a board game.  Then Tash went to her house to get her laptop which has a DVD player on it.  When she returned she, Booth, and George went on a food search and suprisingly enough found food at Stop and Shop.  Then we made Annies and Tequitos on the stove in the dark.  Did you see the sky last night? Cause it was stinkin awesome.  Theres a lot of stars when the city isn't blocking them all out.  So we all took a trip to my roof and observed.  It was awesome.  After watching a little bit of Oceans 11 the boys decided to have a sleepover at Wes' in a tent, and Tash and I had a sleepover.  Not soon after the boys left, the power returned.  And so ends the blackout story.  But, it was good times.    \" I know that you believe in the one true God above, and thats why you're waiting for your one and only love.\" - mxpx                                                                                                                                                                                                                                                                                                                                                                                                                                                                                                                                                                                                                                                                                                                                                                                                                                                                                                                                                                                                                                                                                                                                                                                                                                                                                                                                                                                                                                                                                                                                                                                                                                                                                                                                                                                                                                                                                                                                                                                                                                                                                                                                                                                                                                                                                                                                                                                                                                                                                                                                                                                                                                                                                                                                                                                                                                                                                                                                                                                                                                                                                                                                                                                                                                                                                                                                                                                                                                                                                                                                                                                                                                                                                                                                                                                                                                                                                                                                                                                                                                                                                                                                                                                                                                                                                                                                                                                                                                                                                                                                                                                                                                                                                                                                                                                                                                                                                                                                                                                                                                                                                                                                                                                                                                                                                                                                                                                                                                                                                                                                                                                               |\n",
              "+------------+---------+------------------+---------------------+-----------------------------------------------------------------------------------------------------------------------------------------------------------------------------------------------------------------------------------------------------------------------------------------------------------------------------------------------------------------------------------------------------------------------------------------------------------------------------------------------------------------------------------------------------------------------------------------------------------------------------------------------------------------------------------------------------------------------------------------------------------------------------------------------------------------------------------------------------------------------------------------------------------------------------------------------------------------------------------------------------------------------------------------------------------------------------------------------------------------------------------------------------------------------------------------------------------------------------------------------------------------------------------------------------------------------------------------------------------------------------------------------------------------------------------------------------------------------------------------------------------------------------------------------------------------------------------------------------------------------------------------------------------------------------------------------------------------------------------------------------------------------------------------------------------------------------------------------------------------------------------------------------------------------------------------------------------------------------------------------------------------------------------------------------------------------------------------------------------------------------------------------------------------------------------------------------------------------------------------------------------------------------------------------------------------------------------------------------------------------------------------------------------------------------------------------------------------------------------------------------------------------------------------------------------------------------------------------------------------------------------------------------------------------------------------------------------------------------------------------------------------------------------------------------------------------------------------------------------------------------------------------------------------------------------------------------------------------------------------------------------------------------------------------------------------------------------------------------------------------------------------------------------------------------------------------------------------------------------------------------------------------------------------------------------------------------------------------------------------------------------------------------------------------------------------------------------------------------------------------------------------------------------------------------------------------------------------------------------------------------------------------------------------------------------------------------------------------------------------------------------------------------------------------------------------------------------------------------------------------------------------------------------------------------------------------------------------------------------------------------------------------------------------------------------------------------------------------------------------------------------------------------------------------------------------------------------------------------------------------------------------------------------------------------------------------------------------------------------------------------------------------------------------------------------------------------------------------------------------------------------------------------------------------------------------------------------------------------------------------------------------------------------------------------------------------------------------------------------------------------------------------------------------------------------------------------------------------------------------------------------------------------------------------------------------------------------------------------------------------------------------------------------------------------------------------------------------------------------------------------------------------------------------------------------------------------------------------------------------------------------------------------------------------------------------------------------------------------------------------------------------------------------------------------------------------------------------------------------------------------------------------------------------------------------------------------------------------------------------------------------------------------------------------------------------------------------------------------------------------------------------------------------------------------------------------------------------------------------------------------------------------------------------------------------------------------------------------------------------------------------------------------------------------------------------------------------------------------------------------------------------------------------------------------------------------------------------------------------------------------------------------------------------------------------------------------------------------------------------------------------------------------------------------------------------------------------------------------------------------------------------------------------------------------------------------------------------------------------------------------------------------------------------------------------------------------------------------------------------------------------------------------------------------------------------------------------------------------------------------------------------------------------------------------------------------------------------------------------------------------------------------------------------------------------------------------------------------------------------------------------------------------------------------------------------------------------------------------------------------------------------------------------------------------------------------------------------------------------------------------------------------------------------------------------------------------------------------------------------------------------------------------------------------------------------------------------------------------------------------------------------------------------------------------------------------------------------------------------------------------------------------------------------------------------------------------------------------------------------------------------------------------------------------------------------------------------------------------------------------------------------------------------------------------------------------------------------------------------------------------------------------------------------------------------------------------------------------------------------------------------------------------------------------------------------------------------------------------------------------------------------------------------------------------------------------------------------------------------------------------------------------------------------------------------------------------------------------------------------------------------------------------------------------------------------------------------------------------------------------------------------------------------------------------------------------------------------------------------------------------------------------------------------------------------------------------------------------------------------------------------------------------------------------------------------------------------------------------------------------------------------------------------------------------------------------------------------------------------------------------------------------------------------------------------------------------------------------------------------------------------------------------------------------------------------------------------------------------------------------------------------------------------------------------------------------------------------------------------------------------------------------------------------------------------------------------------------------------------------------------------------------------------------------------------------------------------------------------------------------------------------------------------------------------------------------------------------------------------------------------------------------------------------------------------------------------------------------------------------------------------------------------------------------------------------------------------------------------------------------------------------------------------------------------------------------------------------------------------------------------------------------------------------------------------------------------------------------------------------------------------------------------------------------------------------------------------------------------------------------------------------------------------------------------------------------------------------------------------------------------------------------------------------------------------------------------------------------------------------------------------------------------------------------------------------------------------------------------------------------------------------------------------------------------------------------------------------------------------------------------------------------------------------------------------------------------------------------------------------------------------------------------------------------------------------------------------------------------------------------------------------------------------------------------------------------------------------------------------------------------------------------------------------------------------------------------------------------------------------------------------------------------------------------------------------------------------------------------------------------------------------------------------------------------------------------------------------------------------------------------------------------------------------------------------------------------------------------------------------------------------------------------------------------------------------------------------------------------------------------------------------------------------------------------------------------------------------------------------------------------------------------------------------------------------------------------------------------------------------------------------------------------------------------------------------------------------------------------------------------------------------------------------------------------------------------------------------------------------------------------------------------------------------------------------------------------------------------------------------------------------------------------------------------+\n",
              "Truncated to displaylimit of 10."
            ],
            "text/html": [
              "<table>\n",
              "    <thead>\n",
              "        <tr>\n",
              "            <th>message_id</th>\n",
              "            <th>user_id</th>\n",
              "            <th>date</th>\n",
              "            <th>created_time</th>\n",
              "            <th>message</th>\n",
              "        </tr>\n",
              "    </thead>\n",
              "    <tbody>\n",
              "        <tr>\n",
              "            <td>6336</td>\n",
              "            <td>1980443</td>\n",
              "            <td>23,February,2004</td>\n",
              "            <td>2004-02-23 00:00:00</td>\n",
              "            <td>&nbsp;&nbsp;&nbsp;&nbsp;Paper or Plastic Ms Wiebe told me I couldn't do this really funny commercial that I saw that had to do with paper or plastic, sorry to ruin all you guys fun out there.  Basically the guys needed toilet paper but they bought (alchoholic beverages :) ) instead, lol, when it gets check at the register the lady asks, 'paper or plastic' of course the boys reply in pain - PAPER! hahaha.   i'm gonna' have to go with paper also, you can use it for book covers, and it doesn't tear as easily as plastic.  remember this is for extra credit so, you'll have to bear with it again. c-ya The Bongos will BonGO all night long.... Keep it real, I'm Will   </td>\n",
              "        </tr>\n",
              "        <tr>\n",
              "            <td>10792</td>\n",
              "            <td>1223561</td>\n",
              "            <td>29,June,2004</td>\n",
              "            <td>2004-06-29 00:00:00</td>\n",
              "            <td>&nbsp;&nbsp;&nbsp;&nbsp;S1   \"It's time\", Ramesh said locking his suitcase. I looked at my wrist, but found no watch there. For a moment, fear gripped me, and impulse reactions travelled down my spinal cord, jerking my hands towards my shirt-pockets, and then to my trousers. Within the moment, I realised that I had kept my watch safely locked in my - either the travel bag or the suitcase. With some uncertain certainty, I looked in Ramesh's direction, and found the big clock some way behind him, about to strike 5:00 PM. \"It's time\" I thought, and as if the lady had heard our thoughts, we heard her, \"Your attention please. No:8888 New Delhi to Kanyakumari, Swarna Bharathi express West is arriving on platform no 7 shortly\". She announced the same sentence verbatim in Hindi, and no sooner did she finish, we heard the distant \"Cooo\" of the train, we felt the ground we were standing on shiver, we saw the people on the platform getting silent momentarily (On hind memory I guess our ears were jarred for that moment), then we saw people getting busy, students, families, businessmen, husbands, wives, policemen, old couples, loud women, distracted men, getting ready with their luggage to get on to the train, getting ready to get on with their lives that seemed to have stalled on this railway platform.  \"The arrival of train,\" Ramesh said, compelling me to abandon my search for the two ends of the train, and listen to him in anticipation of something interesting. \"It creates so much of panic among people. People who have got reservations, people who know the train is going to stop for a while, still get very panicky when they hear the train come in\" said Ramesh sounding amused. \"Well, nobody wants to miss the train, no body wants to miss their seat\" I countered, as the train came to a halting stop. \"It's not so much about missing than it's about compettion - to be among the first\", Ramesh re-countered, walking slowly towards his compartment. \"The earlier you are in the lesser hassle it is\" I said. We started to move towards S7, which was Ramesh's bogie. We had to move towards our right, against all the passengers hurriedly moving to the bogies on the descending side of 7. It wasn't as difficult, moving a couple of luggages that Ramesh had, as it was to wade through the opposing passenger flow. For a moment I wondered if the ones moving opposite to us felt the same, and I ended up smiling lightly, with a sense of discovering something as subtle as.... as dew drops on a petal.  We came close to the door of S7, and since we walked slowly to it, the crowd of passengers that usually cling at the door had thinned. Ramesh got into the bogie with his travel bag and I helped him with his suitcase. I got into the compartment too, dragging the suitcase till we reached seat No: 16. \"I wish everybody had carried as little luggage as I do all the time, it makes so many lives easier\", he said slightly panting. There were people around trying to settle their luggage under the sleepers, over the upper berths, towards the window (the waterbottles). Permutations were discussed, combinations were tested, deals had been made, arrangements had been agreed, wars were fought, treaties signed, and peace was restored before all the passengers started to settle. I figured out that the best place for me was the side of the window to ramesh's from outside, and I promptly came out.  \"Not too many from our place this time on this train\", I said. Ramesh looked at me as if I was stating something too obvious. I understood the reason behind the look. Soon my train will come, but it'll be so in contrast to the one Ramesh is in. While he's unlikely to go around the train looking to find people, there would probably be not too many looking out expecting to see him. We have been going to our homes every year, but this time it is different. We were going back, back to our homes, back to where our lives were going to take us. End of schooling is the end of a way of life as we knew it, so this was effectively the last time to say good byes. Somewhere deep down, we were optimistic of meeting each other, bumping into each other, working with each other, working for one another, but deeper down there was just this doubt, this apprehension, this misgiving that may be it'll be a long time before we can say \"Hi\" to each other again. Ramesh was least worried about saying goodbyes. And considering the fact that we were cross with each other a couple of days back, he might just have not expected me to come and say Goodbye to him.  I had come to the Xaviers Boarding school in Delhi when I was about to get into the 5th grade. My father, was a wealthy accountant, who was enamoured with distant lands and good education. But the only good education according to him was being an engineer or a doctor or a lawyer. You couldn't blame him for what he thought were respectful professions, for these were the three professionals he had&nbsp;felt for the part of his life could make more money than him. And of course, Collectors. But collectors though representative of high intellect, were, according to him mere gloves to the hands of bureaucracy. He hadn't seen too much of difference between a politician and a collector, and ever since I had written the right sequence of numbers from 1 to 50 when I was in the first grade in&nbsp;a small&nbsp;school in Hyderabad, he wanted me to be an Engineer. The engineer was one of the most persistent ambitions I had had when I hadn't known what it meant or what it entailed. But among all when-I-grow-up-I-want-to-be-an-xxx's that I would blabber in my golden days of ignorance and innocense the \"I want to be... an Engineer\" seemed to be a mantra that seemed to please and sober my father in his most delicate moments of thoughts, worries, anxieties, curiosities, misgivings, apprehensions about my future. In fact, for a long time, I was under the impression that the Engineer was responsible, among many other things (like building the dam, creating biggggu buildings), for getting the steam out of the train engine. Somehow, engine-engineer, seemed to just make some weird sense to me, and I had the engine-driver and the engineer synonymously coexist in my mind. But then, I was then too young to remember my past, or think of the future. All I was, was just being awed by the present.&nbsp; And so it was, my dreams already dreamt and re-dreamt in my parents' eyes. And along with their genes, and love, I had inherited them. Until now. It was after one whole summer of my being in Xavier's that Ramesh too found his way to the dormitory I was in. We were just 10+ boys then, and he had been admitted into the school by this then-fighting-now-divorced parents. Ramesh looked to me then like a shy, intelligent, nerdy geek, a thin frame, with thick glasses that escorted his eyes with a vision towards - infinity or nothingness, I didn't know then. I did not know about his or his parent's history, and I wanted to intimidate him in his early days (just like I was, in my early days). But something in him&nbsp;restrained me from doing so. I don't know if it was a feeling of sympathy for the boy-who-saw-into-nothing, or a feeling of awe for the geek-who-could-see-infinity. In fact, whenever he was around in the dorm, after the classes, after the evening cricket matches, after the dinners, I could feel some presence, an overwhelming presence of nothingness. It was as if you felt you were being followed, you looked back, expecting to dismiss your feelings, and eventually finding out that your feelings weren't illusions. For the first one week, the only conversations we have had&nbsp;living on adjacent beds were the dialogues of introduction, and occassional invitations from me to him for some outdoor games. Ramesh was polite in his conversations, but never reciprocated. He had carefully given me an impression that he never&nbsp;cared. Within a week, I had enough prejudices on him and I wondered how he would live the rest of his life without any friends.&nbsp; </td>\n",
              "        </tr>\n",
              "        <tr>\n",
              "            <td>19342</td>\n",
              "            <td>518116</td>\n",
              "            <td>15,April,2003</td>\n",
              "            <td>2003-04-15 00:00:00</td>\n",
              "            <td>&nbsp;&nbsp;&nbsp;ahhh...the ho-hum of life settles back in.  I have been relaxing, trying to have fun, and get all my crap done at the same time...not working so well!  I read \"What Dreams May Come\"...one of my fav movies, the book was pretty cool too.  It explained some of what the movie wasn't able to cover.  I also read \"Riding in Cars with Boys\"...again, love the movie.  The movie was actually just about a mirror of the book.  I have really missed reading...my next is \"Tuesdays with Morrie\"...I have heard it is a good one, we'll see!  For non-fiction, I am reading \"Exciting Careers with Sociology\" or something to that extent...before I commit to going back to school, I thought I would research what my possibilities are with my current degrees.  I have the Psychology one as well but haven't had a chance to start.  Planted a dozen rose hedges this weekend...what fun!  I can't wait to see them grow/blossom.  6-8 weeks!  I am now waiting for my miniature rose plants for mother's day.  I am hoping they get here this week yet...I am going to my in-laws for the first time in a year and would like to bring them now.  My grandma bought an african violet for me...I am hoping I don't kill it...my clover is not doing so hot...it keeps dying, coming back, etc!  I don't know why...I think it is the feng shui bug biting...but I have a thing for plants lately.  Went to MI City on Saturday with my friend and both our kids.  It was kind of chilly but we had a good time.  Hubby didn't scream at me about my purchases either...amazing!  We really have been doing so much better...I think that my resolve to behave mixed with my vacation has mellowed me...things aren't as serious as I used to crack them up to be.  It is so much more fun to enjoy life than have your panties up in a bunch.  Tomorrow is  DAY ONE  of the infamous Pfizer take over...we shall see.  No news in the big K-zoo on what's staying or what's going...  Before I go...I LOVE PUNK'D!  It cracks me up!  This is so my sick humor...why didn't I market that idea first?!  Halarious!  </td>\n",
              "        </tr>\n",
              "        <tr>\n",
              "            <td>22807</td>\n",
              "            <td>664485</td>\n",
              "            <td>18,May,2004</td>\n",
              "            <td>2004-05-18 00:00:00</td>\n",
              "            <td>&nbsp;&nbsp;&nbsp;my boyfriend tells me i am sensitive, sometimes in a cute pathetic kinda of way and sometimes in a self-destructive hurt myself because others are hurting kinda way.   somewhere deep in me, i want to save the world. i want to bring peace and humanity and justice. i want to feed the starving children in africa with my hands, i want to join the peace cor, i want to take in every stray cat and dog, i want to open up my home to every child, every stranger, every person that just needs one. i want to love someone, give out hugs and kissies and make the booboos go away.  but sometimes, wanting is all that i seem to achieve. wanting isn't quite the same as doing. procrastinating, and all that other crappy stuff gets in the way. and sometimes i sit alone and blame myself, blame the world, blame god.   it hasn't been a good year for most at all...sometimes the events that seem so integral to life just bogs you down, fucks you up along the way. i've never been good at dealing with death, as much peace as that would bring someone, as much as i know that that someone is in a place where the sun always shines and pain isn't even a feeling considered, i still cry.   so this is for baby muhammad, and rick.  this is for akari and grandma and brian.   this is for mun joon and all my other angels in the peadatric ward.   this is for yule and to the fragile existence of life.  i hung out with the kids today and it was beautiful. innocence and wonder, amazement and adoration. i loved every second of it. the way babies smell or the incomprehensible language that toddlers talk, the way i have stains on my pants from spitups and playing with the kids out in the yard. the way justin giggles and giggles and giggles. my happy child that one. or alex's fascination with strings....but the most amazing thing is loving them, teaching, nuturing caring. the way that they look up to you, the way that you look up to them too. the way that life is so magical and strange at the same time. the way babies grow into toddlers into preschoolers into children into teenagers into adults into mothers and fathers and into grandparents. the way that no matter who they are or what they become, that they will always be the children that i picked up after a nap, burped after a feeding, kissed their booboos and played the tickle tree with. the kids i read to on a rainy day and the babies i rocked to sleep. the little boys and girls that i worried my heart out as they trampled around the playground unaware of just how high or how dangerous it could be. the angels i cared for in a converted basement that was our sanctuary, the children i laughed, played, cried, and giggled with.   death is a strange painful thing. there's a curiousity that attaches to it but shatters you at the same time.   there must be a heaven, and in that heaven the kids are there playing, laughing, smiling. no more booboos. and in that heaven, there is also my grandma teaching uncle yule how to make sponge cake, while rick and brian are busy poking fun at the blogging world. yes, there is a heaven.  and maybe i'll see them all again there someday.   hugs.   urlLink   \"We've all come a long way, and life did get very complicated. We all have something, but not everything. We've had love, and saw love lost. We've had our dreams fulfilled to the ends of the earth, but only after we've had it snatched from us over and over again. We were given joy, but in unexpected ways. We are offered happiness over the horizon, but on the condition that we let go of the comfort of our shores.  A lot of things happened to us in the last 6 years. But someone once told me, God never burdens us with more than He knows we can bear. \"  </td>\n",
              "        </tr>\n",
              "        <tr>\n",
              "            <td>29787</td>\n",
              "            <td>1011311</td>\n",
              "            <td>11,December,2002</td>\n",
              "            <td>2002-12-11 00:00:00</td>\n",
              "            <td>&nbsp;&nbsp;&nbsp;&nbsp;Today, I went to drivers ed, and during class I went to the bathroom and realized that the whole time I've been going to drivers ed I've been using the boys bathroom, so feeling stupid I found the girls bathroom. But I couldn't find the light in the girls bathroom, but feeling stupid already I decided to just pee in the dark instead of going back to the boys bathroom.  Well all was good until I looked up and realized their was a skylight (not that any light was coming in because it was dark) but there were shadows, and I somehow convinced myself that an alien was watching me pee on top of the window and I got all freaked out and ran out of the bathroom (after wiping and flushing of course) but let me tell you, it was scary.  Not to mention yesterday there was an Easter bunny on tv, and if you know me you know I was NOT ok with that.  At all.  So needless to say, it's been a scary 2 days.  Yeah.  Today....I don't remember anything particularly exciting or worth writing about besides what I previously shared with you...so this is where I shall end.    *~ You should have seen that sunrise, with your own eyes...it brought me back to life~ John Mayer* </td>\n",
              "        </tr>\n",
              "        <tr>\n",
              "            <td>3052</td>\n",
              "            <td>1785539</td>\n",
              "            <td>06,August,2004</td>\n",
              "            <td>2004-08-06 00:00:00</td>\n",
              "            <td>&nbsp;&nbsp;&nbsp;Dorks, dorks, dizzydorkles. How've ya been?  I hope that you all didn't blow up or get mono.  I did neither.  I be busy with my new apartment ... and my new XBox.   The apartment thing is going smoother than a fatty's trip to the store for some Twinkies.  And you know fatties make it easy because of the fat. The apartment is a perfect blend of Glade Plug-Ins and my Adidas, Pink and Knives, Utensils and B.B. Guns, Stuffed animals and Porn.  Many nights I stay up late to play my XBox and drink beer long after R. Slumber's has gone to rest and I think, \"I live with a girl and I haven't died yet.  Wicked.\" Plus, I've convinced her to call me \"Best Rapper Alive\" (the new Jay-Z album is good), so that makes it awesomererererrr. I cook and I clean dorks.  I'm getting matureereerrrer. Every morning I: -brush AND rinse. -put foot cream on feet -take calcium pills for weakening bones (especially my knees). -take antidepressant so I don't scream \"Lead pipes! Head blow!\" while at work. -take a Claritin b/c my body now hates grass, pollen, bees, peanut butter, milk, cheap beer, whores, Montana and cats. -make a lunch, which I actually do at night. -return my towels to where they belong, not in R. Bumpers car!   -put things in \"hampers\" I like it dorks, I'm getting it down!   Hahahahahahahaha, fuck, Brent you are so funny.  It's easy to do what you do.  I bet one day you woke up and could write so goddamned good. NO! To play like the playa I be you gots to play lots like me. I found some of my old writings the other night while unpacking, dorktittyers.  The paper is fading and they might soon be lost, so I'm going to post them here. And they will live for enternity in your hearts. Then you will realize the path of the genius. The following are journal entries I wrote during \"Career Math\" my senior year in high school (6 years ago now).  I had elected to take Career Math instead of Triangle Math because I wanted to slack and daydream about ninjas and Pringles (which will be evident here very, very soon, Dorklock Holmeseesssesss).   I fit in about as much as an eskimo fits in at a Subway. \"Mighty Quin like seal on sandwich.\" \"That's a very racist impersonation of an eskimo ordering lunch.  GET OUT! Lead pipes!\" \"Mighty Quin alone with hunger.\"  On the second week we learned to do addition.  What did we do the first two weeks?  Regression of horror keeps me from telling you.  I wrote most of these in 2 minutes (like my blog!). I won't change my typos, just for you.  Let's do it, dorks.   (Name three people you'd like to meet and why.) Kirby Puckett - He's, in my opinion, one of the greatest baseball players ever.  But he's more than that he's a great human being, always nice to his fans and he held on to playing the game until he couldn't go any further. Teddy Roosevelt- He's the guy who said walk softly and carry a big stick, the way I think every man should live his life.  I'd like to go on safari with him and shoot lions and Rhinoceroses and giraffes and bears. Beastie Boys (all of them) - It'd be cool. We'd break stuff and yell at people and other stuff.  I think they are great musicians I like that Sabotage son.  Bum-bum-bum-bum-It's a SABOTAGE!  (Philosophy on life) My philosophy on life is simple it comes in three easy statements #1 = never worry about anything that will not matter a week from now. #2=God is real #3= Do what you gotta do. It's that simple.  It's like one of them No Fear shirts.  They're pretty comfortable and they got some pretty witty statements like \"Beat Death Up when he comes for you.\"  I agree.  It's like that poem \"Don't go gently ...\"  It goes \"Blah, Blah, Blah, RAGE, RAGE against that thing Blah, Blah\"  It's a good poem, you gotta fight for your right. You know 'cause life's just like a big spinning wheel you gotta stay ahead of it or else it would crush you and you'd go \"Ahhhh.\" Life is good.  (Something you wanted but couldn't have) I wanted a bear, a real live grizzly bear.  But my mom was like \"yah, yah, yah, it will eat you yah, yah, yah, blod and guts, yah, yah, yah, shut up\" so I felt bad and I went to the zoo and hopped in the bear pit.  Sure enough the bear was mad.  He tried to eat me.  So I ripped out his throat and showed it to him.  I was like \"Hi-Ya\" and his body went thunk.  The zoo people were like \"you killed him, we kill you\"  But my mom showed up and they wussed out.  Boy she was mad.  But I was like \"It was scary.\" So she gave me some Jello Pudding Pops.  I like them Jello Pudding pops.  I eat them up.  \"Slurp!\" That's what it's like.  I like bears a lot though they're pretty cool.  I wouldn't like to just fight with them.  (How to save electricity)  *Turn off lights *Be Amish *Live in the woods *Bonfires *Be homeless *Unplug dryer and shake dry *Take cold showers *Don't do anything *Blow up the electricity company *Rip out your neighbors electrical lines *Shoot out your lights *Get rid of your TV and hide in your neighbors bushes and watch thier TV  Just don't knock on their window and say \"Hey, turn it up.\"  They'll know you're there then.  (A good investment and a bad investment) I bought a tattoo that was cool.  The needle didn't feel nice and I think the guy who did it was into drugs.  But it was a good investment it was worth it.  I think I'll get lots of chicks b/c of it. A bad investment was when I got the salad bar and some cheez stix at a restaurant.  I was REALLY hungry and I had plenty of $ so I thought, \"Hey\" and I ordered lots but after like 3 bites I was Ll \"Uhh, I'm stuffed.\"  That was stupid of me it cost a lot and I felt sick.  My tattoo is better than a salad.  Although, you can't eat my tattoo, unless you're a freak like on that movie \"Alive\" when they ate that ladies flesh.  They were just supposed to play soccer, not eat flesh!  (Something about the middle east and what you want to do with laws.  Not really sure, they start to get whackier.  And please remember that I wasn't this dumb, just this bored.) I think we should blow up all of the Middle East, even the countries we like.  Those sand people always get you in the end.  Sadam Hussein would have been a really bad leader if he was VOTED in.  I think our guns are pretty good now-a-days.  WE can shoot pretty far and do LOTS of damage.  Iraq is supposed to be really big on American TV shows like \"Mama's Family\" or so they say.  Those big ships we keep sending over there are pretty big.  I bet they'd be pretty scary to see coming across the water.  If I were the president I would make it illegal to NOT turn right on red.  I always get stuck behind some doofus. I think it would be nice if it were legal to knock down people on bikes.  (People that bother you) My brother Mrs. (teacher in high school) Communists Chipmunks, especially when they make that noise. My boss Freakin Santa always wantin' me to be nice. Drunk girls at parties Mexicans who stand in the road. Big mecanics who think you should pay $95 for new brakes like it's their car and then they say that they can't let you go. Drunk girls at McDonalds People who ring bells and ask for $ Old women who think you're cute Drunk girls who go trick-or-treating at 3 in the morning. Drunk girls that puke when you're trying to make a move.  (Opinion on prayer in school) I was thinking about prayer and I decided it would be best if kids could say a little prayer, it's like Madonna when she said \"poppa, don't preach, I'm in love again.\"  It's more like \"teacher don't preach, these kids can't handle it.\" God is everywhere and everyone can talk to him so why can't you be in Geometry and be like \"God you're cool.\"  Because sometimes we all need to talk to God. especially at school.  Yep, God knows what we're going thru so I think the teachers need to get rectified (?).  We need a new Crusades where we go thru the schools and chop people's heads off if they don't let you pray (Tell me, dorks.  Was this written pre-Columbine?  Today's kids would be put in sand people jail for writing that!) We'll be like \"Pray\" and if they say \"No\" We'll go \"Arrr\" and hit them with an axe.  (Scariest movie?  What do you think of Halloween?) Scariest movie is the original \"Night of the Living Dead\".  Oh boy, I almost wet my pants every time I see that one.  They try to burn them zombies but they can't do it.  They all die but these two people live but they get shot.  This little girl eats HER OWN MOTHER.  Ahhhh!  My god, my mother would take my driving privelages away if I even thought about eating her (no snickers, you sick fuck dorks).  But this girl did it (hehe).  She went \"Ahh-Chomp-Chomp\".  And then she got shot.  I once saw this kid walking around on Haloween with a shovel sticking out of his head.  I thought it was a pretty scary costume.  I got scared.  The kid kept saying, \"For the love of God, it's real, call the paramedics.\"  Sure enought it was for real and he died, but he was very scary.  (Current event or space bugs.) Starship Troopers is a very current even.  It's the biggest movie about killer bugs since \"Schindler's List\".  I like it.  It's making a lot of $ I hear they are going to take all the $ it's making and give it to the poor people for welfare.  That will solve the problem.  What if those space bugs were real.  I bet I would hide if I saw one.  But if there was a girl around I'd stop hiding and kill some space bugs.  BOOM-BOOM that would be my gun.  Those space bugs would be like \"AHHHHH\" and I'd go \"Ha-ha-ha\" or \"Ho-ho-ho\" if I felt like all Christmasey.  I like Christmas.  But I like Starship Troopers better.  I've seen it twice.  I want to see it again.  I only saw Schindler's List once.  It was good.  It was about Nazis.  (Something you want to change about yourself) I would like to change my height.  I wish I was 20 ft. tall and all the people would say \"Hey tall guy\" and if I didn't like them I'd go \"Arrrr\" and step on their heads.  So there.  I want to keep my head though, it is good to have around.  I once saw a guy get his head taken off and he wasn't happy.  It was on a Popeye cartoon so he didn't die, but he was sad.  Popey was cool.  He like spinach.  Have you ever tried spinach on your pizza (teacher response: nope) it is good.  (New Year's resolution) My New Year's resolution can best be summed up in a poem by Shel Silverstein (a.k.a. Best Rapper Alive).  I came upon a box and opened it up wide and gasped to see a dead body dead inside. There was a note attached that he'd decided to leave that only said... \"I forgot to breathe\". That's all .. I resolve to remember too breathe.  (Million dollar house or million dollar car?) I'd want a car I'd put all sorts of things on it like guns and wheels and paint.  It'd be like r-r-r-r-r-Purring like a kitten.  All the girls would be like \"Hey, big Brent boy\" and I'd be like \"Hey, baby\" than their boyfriends would be like \"Hey you, go away\"  than I'd pull out my rocket launcher and be all KA-BOOM and they'd go \"splat\" so than I'd tell their woman to get in and she'd love me because my car is really cool.  I'd be like Burt Reynolds on Smokey and the Bandit.  \"This is the Bandit,\" I'd say.  \"No, it's Brent,\" they'd say.  Then I'd run them over with my car.  I'd be mean, real mean and I could live in my car.  I don't need a house my car is cool. Vroom-Vroom all aboard the fast car machine!  (Interesting?) Something that I find interesting is Madonna.  She's the material girl and she don't want her poppa to preach.  I think she's cool.  She's all like \"If I want to wear cones on my breasts and get freaky then that's my business.\"  She had that book named Sex.  Taht's a good name for a book.  If I were to write a book it not be about sex though it would be about grizzly bears.  I bet Madonna wouldn't think twice about shooting a grizzly bear because she's a superstar and probably a jerk.  (Write about mean, median and mode) (Nope.)  That's about it for my career math writing career.  You see, dorks, it takes a lot of time and talk about grizzlies to be a world class writer like I am.  dorksdontrock is what it is today thanks to my time in Coach Head Guy's class.  I'll never forget you, Coach Head Guy With Glasses. And I'll never forget you dorks.  You are all so cute. (Psssst, I found my creative writing stuff too..... shhhhhhh). Weekend, dorks. </td>\n",
              "        </tr>\n",
              "        <tr>\n",
              "            <td>5498</td>\n",
              "            <td>4115407</td>\n",
              "            <td>09,August,2004</td>\n",
              "            <td>2004-08-09 00:00:00</td>\n",
              "            <td>&nbsp;&nbsp;&nbsp;i've been hearing about alot of relationship provlems lately, and im not talkin about only u karina, i mean i watch how my dad and my stepmom relationship is, i hear about my other friends problems. I mean i hope i never have to deal with a physical abuse relation cause if i do im kickin his butt first then im leaving him lol, but im glad that i have a bf that wont well he said he wouldnt and i believe him, that wont hit me, i mean when i hear that girls have been killed by their boyfriends that pisses my off, cause they shoudnt hace stayed in the abusive relationship to the point where he killed u, im mean u may love him, but he doesnt love u if he is willin 2 kill u, y would u want a man that puts his hands on. There is also the relationships where only the boys want sum, but dont want u for ur personality, i mean a girl can be attractive but dont waste a girl's time 4 that, im glad he isnt like that either, i dont think he is, i hope he isnt. Im jus glad i found sum 1 that would treat me right, i mean this summer i think i saw him like twice, but that was because i was doin stuff, and he wasnt here, then i wasnt there, but i think i kno him enough to kno that he wouldnt do that. Even though he can get moody and ignore me but, im sure he doesnt do it on purpose and i dont mind if he does, i mean i do, but i dont it a big deal, i rather him ignore me than yell at me, or abuse me mentally or physically. I hope that it works out, but even if it does during high school will it during college, cause im goin 2 college and im goin 2 california, and i dont think his parents would want him follwong sum girl, but maybe we will move together, i hope, that would be cool, if we did. But im greatful, and i hope that all my friends and family could work out or meet the person who would treat them right.   </td>\n",
              "        </tr>\n",
              "        <tr>\n",
              "            <td>7150</td>\n",
              "            <td>2977760</td>\n",
              "            <td>13,July,2004</td>\n",
              "            <td>2004-07-13 00:00:00</td>\n",
              "            <td>&nbsp;&nbsp;&nbsp;I starting to see that boys suck.  Okay not all of them, but some of them.  Maybe it's just me, but I hate the way they leave you hangin'.  And you try not to think about it (whatever \"it\" maybe), but you end up doing it anyway. (Did that come out right?)  So than you wonder why can't the be more understanding about things and try to see something from your P.O.V.  But do they? no.  And why do they get so mad when things don't go their way???   Anyone w/ me on this?? </td>\n",
              "        </tr>\n",
              "        <tr>\n",
              "            <td>4938</td>\n",
              "            <td>3869854</td>\n",
              "            <td>29,July,2004</td>\n",
              "            <td>2004-07-29 00:00:00</td>\n",
              "            <td>&nbsp;&nbsp;&nbsp;The same day I got back from Montreal, I found out that one of my friends in the Chorus had died.    &nbsp;  Eric was one of those guys who was always around, and you always expected him to be there.&nbsp; He was quiet, unassuming, and warm.&nbsp; Yet he never wanted anything special.&nbsp; He just was a good person.    &nbsp;  He had a penchant for drag.&nbsp; In fact, he made a knockout drag queen.&nbsp; And he was fiercely talented when it came to makeup.&nbsp; Many of the boys in the Chorus came to him for makeup tips whenever they needed to be done up for&nbsp;a show.&nbsp;     &nbsp;  He had a radiant smile.&nbsp; It lit up the room.&nbsp; And a hearty laugh to back up the smile.    &nbsp;  He wasn't one of my best friends, but he was, indeed, a friend.&nbsp; Four years ago when I was working a dead-end job in retail, he stopped in at the store and we had a long talk about how I wasn't happy with my job and needed to find something new.&nbsp; Eric helped me.&nbsp; He recommended me for a position where he was working.&nbsp; I went in for an interview, but it wasn't the right fit for me at the time.&nbsp; However, hedidn't stop there.&nbsp; He got me in contact with a former co-worker of his who was leaving her position at the law firm she was working at.&nbsp; I interviewed with them, and have been there now for the last 3 years.&nbsp; Without his encouragement and that extra push that he gave me, I might not have made the transition at all.&nbsp; I have Eric to thank for that.    &nbsp;  Having said that, I certainly hoped I appropriately thanked him.&nbsp; I'm pretty sure I did, but if not...    &nbsp;  Eric, thank you.&nbsp; You were a true friend.&nbsp;     &nbsp;  I will miss you.&nbsp;   </td>\n",
              "        </tr>\n",
              "        <tr>\n",
              "            <td>29954</td>\n",
              "            <td>1011311</td>\n",
              "            <td>12,August,2003</td>\n",
              "            <td>2003-08-12 00:00:00</td>\n",
              "            <td>&nbsp;&nbsp;&nbsp;&nbsp;Making fun in the dark...  So as most of you know the power went out yesterday.  It all started when George, Tash, Artie and I were at Dunkin Donuts.  It got quite hot quite fast so we decided to go to my house, thinking there would be power there.  We were wrong.  But nonetheless we sat around and did nothing, then decided to go and see if Wal Mart was open.  Weren't we suprised when we found that the power was out everywhere.  Thats when we turned on the radio, and I called my mommy, and we found out the power was out from Ottowa to Michigan.  Needless to say, no Wal Mart.  We returned home and George and Artie went out to get some exciting power out fun.  They returned with Booth, a radio, candy, and a board game.  Then Tash went to her house to get her laptop which has a DVD player on it.  When she returned she, Booth, and George went on a food search and suprisingly enough found food at Stop and Shop.  Then we made Annies and Tequitos on the stove in the dark.  Did you see the sky last night? Cause it was stinkin awesome.  Theres a lot of stars when the city isn't blocking them all out.  So we all took a trip to my roof and observed.  It was awesome.  After watching a little bit of Oceans 11 the boys decided to have a sleepover at Wes' in a tent, and Tash and I had a sleepover.  Not soon after the boys left, the power returned.  And so ends the blackout story.  But, it was good times.    \" I know that you believe in the one true God above, and thats why you're waiting for your one and only love.\" - mxpx </td>\n",
              "        </tr>\n",
              "    </tbody>\n",
              "</table>\n",
              "<span style=\"font-style:italic;text-align:center;\">Truncated to <a href=\"https://jupysql.ploomber.io/en/latest/api/configuration.html#displaylimit\">displaylimit</a> of 10.</span>"
            ]
          },
          "metadata": {},
          "execution_count": 37
        }
      ],
      "source": [
        "%%sql\n",
        "\n",
        "SELECT *\n",
        "FROM dla_tutorial_msgs\n",
        "WHERE message LIKE '%boys%'\n",
        "ORDER BY RANDOM() LIMIT 10;"
      ]
    },
    {
      "cell_type": "markdown",
      "metadata": {
        "id": "NE_XcS_nR3uh"
      },
      "source": [
        "### 10) Can you make the last query run faster?"
      ]
    },
    {
      "cell_type": "markdown",
      "metadata": {
        "id": "ozfk-UNIR3uh"
      },
      "source": [
        "**Hint:** It's a text field. you need a FULLTEXT...something. Or convert ...a thing... to VARCHAR first."
      ]
    },
    {
      "cell_type": "markdown",
      "metadata": {
        "id": "D4t5LWjaR3ui"
      },
      "source": [
        "**Answer:**"
      ]
    },
    {
      "cell_type": "code",
      "execution_count": null,
      "metadata": {
        "id": "hQIHUuUvR3ui"
      },
      "outputs": [],
      "source": [
        "%%sql\n",
        "\n",
        "ALTER TABLE msgs\n",
        "ADD FULLTEXT index message (message);"
      ]
    },
    {
      "cell_type": "markdown",
      "metadata": {
        "id": "tVTYRgxVR3ui"
      },
      "source": [
        "**Extended answer for later:** Another approach is to re-arrange our data to be able to find messages by words faster. We can transform the data by going over every message, splitting it into words (tokens in NLP jargon), making a table, say tokens_table, of (word, message_id). We can then create an _index_ on the words so that when we receive a new word to search, we lookup in table and return a set of message_id. This will be much faster to search, but require more processing and indexing upfront.\n",
        "\n",
        "DLATK will go that route for us.\n",
        "\n",
        "If you are familiar with hash-tables, this is something like that giving us very fast lookup times."
      ]
    },
    {
      "cell_type": "markdown",
      "metadata": {
        "id": "lr3doYjPR3ui"
      },
      "source": [
        "The difference is (24.2169 - 22.7722). Small difference now, but believe us, it will make all the difference in the world."
      ]
    },
    {
      "cell_type": "markdown",
      "metadata": {
        "id": "DzF5k9XhR3ui"
      },
      "source": [
        "### 11) (EXTRA CREDIT) How many blog posts do we have from a given month (i.e., from Feb of 2001, and so forth)?"
      ]
    },
    {
      "cell_type": "markdown",
      "metadata": {
        "id": "b9EmcIqjR3ui"
      },
      "source": [
        "**Hint:** **ORDER BY** is not the only thingy that can take two variables."
      ]
    },
    {
      "cell_type": "markdown",
      "metadata": {
        "id": "5uw7Fm-bR3ui"
      },
      "source": [
        "**Answer:**"
      ]
    },
    {
      "cell_type": "code",
      "execution_count": null,
      "metadata": {
        "id": "mh8gRp_FR3ui",
        "outputId": "6589df44-7f0b-467d-b2ad-a2dadb703a09",
        "colab": {
          "base_uri": "https://localhost:8080/",
          "height": 289
        }
      },
      "outputs": [
        {
          "output_type": "display_data",
          "data": {
            "text/plain": [
              "Running query in 'sqlite:///sqlite_data/shashanka.db?charset=utf8mb4'"
            ],
            "text/html": [
              "<span style=\"None\">Running query in &#x27;sqlite:///sqlite_data/shashanka.db?charset=utf8mb4&#x27;</span>"
            ]
          },
          "metadata": {}
        },
        {
          "output_type": "execute_result",
          "data": {
            "text/plain": [
              "+------+----+--------+\n",
              "| yyyy | mm | n_msgs |\n",
              "+------+----+--------+\n",
              "| 2001 | 02 |   1    |\n",
              "| 2001 | 04 |   1    |\n",
              "| 2001 | 08 |   77   |\n",
              "| 2001 | 09 |  100   |\n",
              "| 2001 | 10 |  100   |\n",
              "| 2001 | 11 |   33   |\n",
              "| 2001 | 12 |   19   |\n",
              "| 2002 | 01 |   28   |\n",
              "| 2002 | 02 |   19   |\n",
              "| 2002 | 03 |   13   |\n",
              "+------+----+--------+\n",
              "Truncated to displaylimit of 10."
            ],
            "text/html": [
              "<table>\n",
              "    <thead>\n",
              "        <tr>\n",
              "            <th>yyyy</th>\n",
              "            <th>mm</th>\n",
              "            <th>n_msgs</th>\n",
              "        </tr>\n",
              "    </thead>\n",
              "    <tbody>\n",
              "        <tr>\n",
              "            <td>2001</td>\n",
              "            <td>02</td>\n",
              "            <td>1</td>\n",
              "        </tr>\n",
              "        <tr>\n",
              "            <td>2001</td>\n",
              "            <td>04</td>\n",
              "            <td>1</td>\n",
              "        </tr>\n",
              "        <tr>\n",
              "            <td>2001</td>\n",
              "            <td>08</td>\n",
              "            <td>77</td>\n",
              "        </tr>\n",
              "        <tr>\n",
              "            <td>2001</td>\n",
              "            <td>09</td>\n",
              "            <td>100</td>\n",
              "        </tr>\n",
              "        <tr>\n",
              "            <td>2001</td>\n",
              "            <td>10</td>\n",
              "            <td>100</td>\n",
              "        </tr>\n",
              "        <tr>\n",
              "            <td>2001</td>\n",
              "            <td>11</td>\n",
              "            <td>33</td>\n",
              "        </tr>\n",
              "        <tr>\n",
              "            <td>2001</td>\n",
              "            <td>12</td>\n",
              "            <td>19</td>\n",
              "        </tr>\n",
              "        <tr>\n",
              "            <td>2002</td>\n",
              "            <td>01</td>\n",
              "            <td>28</td>\n",
              "        </tr>\n",
              "        <tr>\n",
              "            <td>2002</td>\n",
              "            <td>02</td>\n",
              "            <td>19</td>\n",
              "        </tr>\n",
              "        <tr>\n",
              "            <td>2002</td>\n",
              "            <td>03</td>\n",
              "            <td>13</td>\n",
              "        </tr>\n",
              "    </tbody>\n",
              "</table>\n",
              "<span style=\"font-style:italic;text-align:center;\">Truncated to <a href=\"https://jupysql.ploomber.io/en/latest/api/configuration.html#displaylimit\">displaylimit</a> of 10.</span>"
            ]
          },
          "metadata": {},
          "execution_count": 40
        }
      ],
      "source": [
        "%%sql\n",
        "\n",
        "SELECT strftime(\"%Y\", created_time) AS yyyy, strftime(\"%m\", created_time) AS mm, COUNT(*) AS n_msgs\n",
        "FROM dla_tutorial_msgs\n",
        "GROUP BY yyyy, mm\n",
        "ORDER BY yyyy, mm;"
      ]
    }
  ],
  "metadata": {
    "kernelspec": {
      "display_name": "Python 3",
      "language": "python",
      "name": "python3"
    },
    "language_info": {
      "codemirror_mode": {
        "name": "ipython",
        "version": 3
      },
      "file_extension": ".py",
      "mimetype": "text/x-python",
      "name": "python",
      "nbconvert_exporter": "python",
      "pygments_lexer": "ipython3",
      "version": "3.8.8"
    },
    "colab": {
      "provenance": [],
      "toc_visible": true,
      "include_colab_link": true
    }
  },
  "nbformat": 4,
  "nbformat_minor": 0
}